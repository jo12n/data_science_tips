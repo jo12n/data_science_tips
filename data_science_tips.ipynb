{
 "cells": [
  {
   "cell_type": "markdown",
   "id": "3f021c94-98b1-4052-a56e-98f885333edd",
   "metadata": {},
   "source": [
    "# Ejemplo formación data science\n",
    "## 1. Extracción de datos\n",
    "### 1. ¿Cuántos datos faltantes tenemos?"
   ]
  },
  {
   "cell_type": "code",
   "execution_count": 1,
   "id": "1c7fed23-b402-49a0-964f-a819d5b64c44",
   "metadata": {},
   "outputs": [],
   "source": [
    "import pandas as pd"
   ]
  },
  {
   "cell_type": "code",
   "execution_count": 2,
   "id": "209a9453",
   "metadata": {},
   "outputs": [],
   "source": [
    "df = pd.read_csv('empleados.csv', delimiter=\";\")"
   ]
  },
  {
   "cell_type": "code",
   "execution_count": 3,
   "id": "62480544",
   "metadata": {},
   "outputs": [
    {
     "name": "stdout",
     "output_type": "stream",
     "text": [
      "       Nombre  Apellido       Sexo   Estado_Civil  Edad  Experiencia  Salario  \\\n",
      "0   Alexandro       NaN  Masculino     Soltero(a)  22.0          3.0   2423.0   \n",
      "1      Carlos       NaN  Masculino      Casado(a)  38.0         10.0   3132.0   \n",
      "2      Felipa       NaN   Femenino     Soltero(a)  26.0          5.0   2639.0   \n",
      "3      Daniel       NaN  Masculino      Casado(a)  35.0         10.0   3122.0   \n",
      "4        John       NaN  Masculino      Casado(a)  35.0         13.0   3431.0   \n",
      "5      Edward       NaN  Masculino     Soltero(a)   NaN          NaN   4500.0   \n",
      "6     Ruperta       NaN   Femenino      Casado(a)  54.0         18.0   3962.0   \n",
      "7       Amaya       NaN   Femenino  Divorciado(a)  22.0          3.0   2450.0   \n",
      "8   Francisca       NaN   Femenino     Soltero(a)  27.0          4.0   2564.0   \n",
      "9      Selena       NaN   Femenino      Casado(a)  24.0          6.0   2709.0   \n",
      "10       Febe       NaN   Femenino      Casado(a)  44.0         22.0   4359.0   \n",
      "11     Ximena       NaN   Femenino     Soltero(a)  58.0         24.0   4532.0   \n",
      "12      David       NaN  Masculino  Divorciado(a)  20.0          1.0   1977.0   \n",
      "13        Max       NaN  Masculino  Divorciado(a)  39.0          8.0   2953.0   \n",
      "14     Selena       NaN   Femenino      Casado(a)  24.0          6.0   2709.0   \n",
      "15        NaN       NaN   Femenino            NaN  44.0         22.0      NaN   \n",
      "16      Paula       NaN   Femenino  Divorciado(a)  55.0         12.0   3306.0   \n",
      "17        Tim       NaN  Masculino  Divorciado(a)  22.0          4.0   2518.0   \n",
      "18     Andrew       NaN  Masculino  Divorciado(a)   NaN         10.0   3194.0   \n",
      "19     Gloria       NaN   Femenino      Casado(a)  31.0         11.0   3267.0   \n",
      "\n",
      "   Gerencia          Departamento  \n",
      "0        No            Publicidad  \n",
      "1        Sí                   NaN  \n",
      "2        No             Comercial  \n",
      "3        No             Comercial  \n",
      "4        Sí  Servicios al cliente  \n",
      "5        No                 Legal  \n",
      "6        No              Producto  \n",
      "7       NaN             Comercial  \n",
      "8        No                    IT  \n",
      "9        Sí          Contabilidad  \n",
      "10       No                   NaN  \n",
      "11       No                 Legal  \n",
      "12       No      Recursos Humanos  \n",
      "13       No                Ventas  \n",
      "14       Sí          Contabilidad  \n",
      "15      NaN                   NaN  \n",
      "16       No              Producto  \n",
      "17       No      Recursos Humanos  \n",
      "18       No              Producto  \n",
      "19       No  Servicios al cliente  \n"
     ]
    }
   ],
   "source": [
    "print(df.head(20))"
   ]
  },
  {
   "cell_type": "code",
   "execution_count": 4,
   "id": "30ec75b8",
   "metadata": {},
   "outputs": [
    {
     "name": "stdout",
     "output_type": "stream",
     "text": [
      "(251, 9)\n"
     ]
    }
   ],
   "source": [
    "print(df.shape)"
   ]
  },
  {
   "cell_type": "code",
   "execution_count": 5,
   "id": "ed6c9381",
   "metadata": {},
   "outputs": [
    {
     "name": "stdout",
     "output_type": "stream",
     "text": [
      "Nombre            6\n",
      "Apellido        251\n",
      "Sexo             37\n",
      "Estado_Civil      4\n",
      "Edad             61\n",
      "Experiencia       4\n",
      "Salario           6\n",
      "Gerencia         21\n",
      "Departamento     12\n",
      "dtype: int64\n"
     ]
    }
   ],
   "source": [
    "print(df.isnull().sum())"
   ]
  },
  {
   "cell_type": "code",
   "execution_count": 6,
   "id": "a1cf65e9",
   "metadata": {},
   "outputs": [
    {
     "name": "stdout",
     "output_type": "stream",
     "text": [
      "Nombre          245\n",
      "Apellido          0\n",
      "Sexo            214\n",
      "Estado_Civil    247\n",
      "Edad            190\n",
      "Experiencia     247\n",
      "Salario         245\n",
      "Gerencia        230\n",
      "Departamento    239\n",
      "dtype: int64\n"
     ]
    }
   ],
   "source": [
    "print(df.notnull().sum())"
   ]
  },
  {
   "cell_type": "markdown",
   "id": "576c7b79",
   "metadata": {},
   "source": [
    "### 2. Eliminar las columnas con datos faltantes"
   ]
  },
  {
   "cell_type": "code",
   "execution_count": 7,
   "id": "2fa487dd",
   "metadata": {},
   "outputs": [],
   "source": [
    "df_1_2 = df.drop(axis=1, columns=['Apellido'])"
   ]
  },
  {
   "cell_type": "code",
   "execution_count": 8,
   "id": "99fab748",
   "metadata": {},
   "outputs": [
    {
     "name": "stdout",
     "output_type": "stream",
     "text": [
      "       Nombre       Sexo   Estado_Civil  Edad  Experiencia  Salario Gerencia  \\\n",
      "0   Alexandro  Masculino     Soltero(a)  22.0          3.0   2423.0       No   \n",
      "1      Carlos  Masculino      Casado(a)  38.0         10.0   3132.0       Sí   \n",
      "2      Felipa   Femenino     Soltero(a)  26.0          5.0   2639.0       No   \n",
      "3      Daniel  Masculino      Casado(a)  35.0         10.0   3122.0       No   \n",
      "4        John  Masculino      Casado(a)  35.0         13.0   3431.0       Sí   \n",
      "5      Edward  Masculino     Soltero(a)   NaN          NaN   4500.0       No   \n",
      "6     Ruperta   Femenino      Casado(a)  54.0         18.0   3962.0       No   \n",
      "7       Amaya   Femenino  Divorciado(a)  22.0          3.0   2450.0      NaN   \n",
      "8   Francisca   Femenino     Soltero(a)  27.0          4.0   2564.0       No   \n",
      "9      Selena   Femenino      Casado(a)  24.0          6.0   2709.0       Sí   \n",
      "10       Febe   Femenino      Casado(a)  44.0         22.0   4359.0       No   \n",
      "11     Ximena   Femenino     Soltero(a)  58.0         24.0   4532.0       No   \n",
      "12      David  Masculino  Divorciado(a)  20.0          1.0   1977.0       No   \n",
      "13        Max  Masculino  Divorciado(a)  39.0          8.0   2953.0       No   \n",
      "14     Selena   Femenino      Casado(a)  24.0          6.0   2709.0       Sí   \n",
      "15        NaN   Femenino            NaN  44.0         22.0      NaN      NaN   \n",
      "16      Paula   Femenino  Divorciado(a)  55.0         12.0   3306.0       No   \n",
      "17        Tim  Masculino  Divorciado(a)  22.0          4.0   2518.0       No   \n",
      "18     Andrew  Masculino  Divorciado(a)   NaN         10.0   3194.0       No   \n",
      "19     Gloria   Femenino      Casado(a)  31.0         11.0   3267.0       No   \n",
      "\n",
      "            Departamento  \n",
      "0             Publicidad  \n",
      "1                    NaN  \n",
      "2              Comercial  \n",
      "3              Comercial  \n",
      "4   Servicios al cliente  \n",
      "5                  Legal  \n",
      "6               Producto  \n",
      "7              Comercial  \n",
      "8                     IT  \n",
      "9           Contabilidad  \n",
      "10                   NaN  \n",
      "11                 Legal  \n",
      "12      Recursos Humanos  \n",
      "13                Ventas  \n",
      "14          Contabilidad  \n",
      "15                   NaN  \n",
      "16              Producto  \n",
      "17      Recursos Humanos  \n",
      "18              Producto  \n",
      "19  Servicios al cliente  \n"
     ]
    }
   ],
   "source": [
    "print(df_1_2.head(20))"
   ]
  },
  {
   "cell_type": "markdown",
   "id": "11826dd0",
   "metadata": {},
   "source": [
    "### 3. Eliminar las filas con datos faltantes"
   ]
  },
  {
   "cell_type": "markdown",
   "id": "9ad9e5b5",
   "metadata": {},
   "source": [
    "La siguiente función evalua las filas, por eso `axis=0`, y si tiene menos de 5 valores no nulos la elimina."
   ]
  },
  {
   "cell_type": "code",
   "execution_count": 9,
   "id": "43d35dac",
   "metadata": {},
   "outputs": [],
   "source": [
    "df_1_3 = df_1_2.dropna(axis=0, thresh=5).copy()"
   ]
  },
  {
   "cell_type": "code",
   "execution_count": 10,
   "id": "af6aa4ad",
   "metadata": {},
   "outputs": [
    {
     "name": "stdout",
     "output_type": "stream",
     "text": [
      "        Nombre       Sexo   Estado_Civil  Edad  Experiencia  Salario Gerencia  \\\n",
      "0    Alexandro  Masculino     Soltero(a)  22.0          3.0   2423.0       No   \n",
      "1       Carlos  Masculino      Casado(a)  38.0         10.0   3132.0       Sí   \n",
      "2       Felipa   Femenino     Soltero(a)  26.0          5.0   2639.0       No   \n",
      "3       Daniel  Masculino      Casado(a)  35.0         10.0   3122.0       No   \n",
      "4         John  Masculino      Casado(a)  35.0         13.0   3431.0       Sí   \n",
      "..         ...        ...            ...   ...          ...      ...      ...   \n",
      "246       Jose  Masculino      Casado(a)  30.0          6.0   2760.0       No   \n",
      "247    Marcelo  Masculino  Divorciado(a)  44.0         15.0   3616.0       No   \n",
      "248       Eric        NaN      Casado(a)  25.0          7.0   2880.0       Sí   \n",
      "249       Marc        NaN      Casado(a)  24.0          2.0   2172.0       No   \n",
      "250    Leandro  Masculino      Casado(a)  37.0         11.0   3245.0       No   \n",
      "\n",
      "             Departamento  \n",
      "0              Publicidad  \n",
      "1                     NaN  \n",
      "2               Comercial  \n",
      "3               Comercial  \n",
      "4    Servicios al cliente  \n",
      "..                    ...  \n",
      "246  Servicios al cliente  \n",
      "247                    IT  \n",
      "248      Recursos Humanos  \n",
      "249              Producto  \n",
      "250              Finanzas  \n",
      "\n",
      "[246 rows x 8 columns]\n"
     ]
    }
   ],
   "source": [
    "print(df_1_3)"
   ]
  },
  {
   "cell_type": "markdown",
   "id": "a2b19734",
   "metadata": {},
   "source": [
    "### 4. Verificar duplicados."
   ]
  },
  {
   "cell_type": "code",
   "execution_count": 11,
   "id": "8613fada",
   "metadata": {},
   "outputs": [],
   "source": [
    "duplicados = df_1_3.duplicated()"
   ]
  },
  {
   "cell_type": "code",
   "execution_count": 12,
   "id": "fcd5b763",
   "metadata": {},
   "outputs": [
    {
     "name": "stdout",
     "output_type": "stream",
     "text": [
      "    Nombre       Sexo Estado_Civil  Edad  Experiencia  Salario Gerencia  \\\n",
      "14  Selena   Femenino    Casado(a)  24.0          6.0   2709.0       Sí   \n",
      "65   Lucio  Masculino   Soltero(a)  54.0         12.0   3317.0       No   \n",
      "\n",
      "        Departamento  \n",
      "14      Contabilidad  \n",
      "65  Recursos Humanos  \n"
     ]
    }
   ],
   "source": [
    "print(df_1_3[duplicados])"
   ]
  },
  {
   "cell_type": "markdown",
   "id": "8a3b4911",
   "metadata": {},
   "source": [
    "### 5. Eliminar duplicados."
   ]
  },
  {
   "cell_type": "code",
   "execution_count": 13,
   "id": "d81c2feb",
   "metadata": {},
   "outputs": [],
   "source": [
    "df_1_5 = df_1_3.drop_duplicates().copy()"
   ]
  },
  {
   "cell_type": "code",
   "execution_count": 14,
   "id": "12b8a45f",
   "metadata": {},
   "outputs": [
    {
     "name": "stdout",
     "output_type": "stream",
     "text": [
      "        Nombre       Sexo   Estado_Civil  Edad  Experiencia  Salario Gerencia  \\\n",
      "0    Alexandro  Masculino     Soltero(a)  22.0          3.0   2423.0       No   \n",
      "1       Carlos  Masculino      Casado(a)  38.0         10.0   3132.0       Sí   \n",
      "2       Felipa   Femenino     Soltero(a)  26.0          5.0   2639.0       No   \n",
      "3       Daniel  Masculino      Casado(a)  35.0         10.0   3122.0       No   \n",
      "4         John  Masculino      Casado(a)  35.0         13.0   3431.0       Sí   \n",
      "..         ...        ...            ...   ...          ...      ...      ...   \n",
      "246       Jose  Masculino      Casado(a)  30.0          6.0   2760.0       No   \n",
      "247    Marcelo  Masculino  Divorciado(a)  44.0         15.0   3616.0       No   \n",
      "248       Eric        NaN      Casado(a)  25.0          7.0   2880.0       Sí   \n",
      "249       Marc        NaN      Casado(a)  24.0          2.0   2172.0       No   \n",
      "250    Leandro  Masculino      Casado(a)  37.0         11.0   3245.0       No   \n",
      "\n",
      "             Departamento  \n",
      "0              Publicidad  \n",
      "1                     NaN  \n",
      "2               Comercial  \n",
      "3               Comercial  \n",
      "4    Servicios al cliente  \n",
      "..                    ...  \n",
      "246  Servicios al cliente  \n",
      "247                    IT  \n",
      "248      Recursos Humanos  \n",
      "249              Producto  \n",
      "250              Finanzas  \n",
      "\n",
      "[244 rows x 8 columns]\n"
     ]
    }
   ],
   "source": [
    "print(df_1_5)"
   ]
  },
  {
   "cell_type": "markdown",
   "id": "5be3b477",
   "metadata": {},
   "source": [
    "### 6. Rellenar datos faltantes."
   ]
  },
  {
   "cell_type": "markdown",
   "id": "e2b3e5df",
   "metadata": {},
   "source": [
    "En este caso, calcula la media de edad de todos los datos y se la asigna a aquellos que tienen valor nulo."
   ]
  },
  {
   "cell_type": "code",
   "execution_count": 15,
   "id": "d45be6d2",
   "metadata": {},
   "outputs": [],
   "source": [
    "df_1_6 = df_1_5.copy()\n",
    "df_1_6['Edad'] = df_1_6['Edad'].fillna(df_1_6['Edad'].mean())"
   ]
  },
  {
   "cell_type": "code",
   "execution_count": 16,
   "id": "22b13352",
   "metadata": {},
   "outputs": [
    {
     "name": "stdout",
     "output_type": "stream",
     "text": [
      "Nombre           4\n",
      "Sexo            33\n",
      "Estado_Civil     0\n",
      "Edad             0\n",
      "Experiencia      1\n",
      "Salario          2\n",
      "Gerencia        16\n",
      "Departamento     8\n",
      "dtype: int64\n"
     ]
    }
   ],
   "source": [
    "print(df_1_6.isnull().sum())"
   ]
  },
  {
   "cell_type": "markdown",
   "id": "6865ec0f",
   "metadata": {},
   "source": [
    "### 7. Modelo de regresión."
   ]
  },
  {
   "cell_type": "code",
   "execution_count": 17,
   "id": "50a0b12f",
   "metadata": {},
   "outputs": [],
   "source": [
    "from sklearn.linear_model import LinearRegression"
   ]
  },
  {
   "cell_type": "code",
   "execution_count": 18,
   "id": "47b2d532",
   "metadata": {},
   "outputs": [],
   "source": [
    "regresion_lineal = LinearRegression()"
   ]
  },
  {
   "cell_type": "code",
   "execution_count": 19,
   "id": "db364ad8",
   "metadata": {},
   "outputs": [],
   "source": [
    "df_1_7 = df_1_5[[\"Edad\",\"Experiencia\",\"Salario\"]].copy()"
   ]
  },
  {
   "cell_type": "code",
   "execution_count": 20,
   "id": "4310529f",
   "metadata": {},
   "outputs": [
    {
     "data": {
      "text/html": [
       "<div>\n",
       "<style scoped>\n",
       "    .dataframe tbody tr th:only-of-type {\n",
       "        vertical-align: middle;\n",
       "    }\n",
       "\n",
       "    .dataframe tbody tr th {\n",
       "        vertical-align: top;\n",
       "    }\n",
       "\n",
       "    .dataframe thead th {\n",
       "        text-align: right;\n",
       "    }\n",
       "</style>\n",
       "<table border=\"1\" class=\"dataframe\">\n",
       "  <thead>\n",
       "    <tr style=\"text-align: right;\">\n",
       "      <th></th>\n",
       "      <th>Edad</th>\n",
       "      <th>Experiencia</th>\n",
       "      <th>Salario</th>\n",
       "    </tr>\n",
       "  </thead>\n",
       "  <tbody>\n",
       "    <tr>\n",
       "      <th>18</th>\n",
       "      <td>NaN</td>\n",
       "      <td>10.0</td>\n",
       "      <td>3194.0</td>\n",
       "    </tr>\n",
       "    <tr>\n",
       "      <th>20</th>\n",
       "      <td>NaN</td>\n",
       "      <td>15.0</td>\n",
       "      <td>3635.0</td>\n",
       "    </tr>\n",
       "    <tr>\n",
       "      <th>27</th>\n",
       "      <td>NaN</td>\n",
       "      <td>24.0</td>\n",
       "      <td>4529.0</td>\n",
       "    </tr>\n",
       "    <tr>\n",
       "      <th>29</th>\n",
       "      <td>NaN</td>\n",
       "      <td>18.0</td>\n",
       "      <td>3907.0</td>\n",
       "    </tr>\n",
       "    <tr>\n",
       "      <th>30</th>\n",
       "      <td>NaN</td>\n",
       "      <td>5.0</td>\n",
       "      <td>2656.0</td>\n",
       "    </tr>\n",
       "    <tr>\n",
       "      <th>33</th>\n",
       "      <td>NaN</td>\n",
       "      <td>7.0</td>\n",
       "      <td>2835.0</td>\n",
       "    </tr>\n",
       "    <tr>\n",
       "      <th>37</th>\n",
       "      <td>NaN</td>\n",
       "      <td>5.0</td>\n",
       "      <td>2676.0</td>\n",
       "    </tr>\n",
       "    <tr>\n",
       "      <th>43</th>\n",
       "      <td>NaN</td>\n",
       "      <td>6.0</td>\n",
       "      <td>2709.0</td>\n",
       "    </tr>\n",
       "    <tr>\n",
       "      <th>46</th>\n",
       "      <td>NaN</td>\n",
       "      <td>9.0</td>\n",
       "      <td>3027.0</td>\n",
       "    </tr>\n",
       "    <tr>\n",
       "      <th>47</th>\n",
       "      <td>NaN</td>\n",
       "      <td>10.0</td>\n",
       "      <td>3128.0</td>\n",
       "    </tr>\n",
       "    <tr>\n",
       "      <th>48</th>\n",
       "      <td>NaN</td>\n",
       "      <td>15.0</td>\n",
       "      <td>3614.0</td>\n",
       "    </tr>\n",
       "    <tr>\n",
       "      <th>49</th>\n",
       "      <td>NaN</td>\n",
       "      <td>25.0</td>\n",
       "      <td>4611.0</td>\n",
       "    </tr>\n",
       "    <tr>\n",
       "      <th>56</th>\n",
       "      <td>NaN</td>\n",
       "      <td>15.0</td>\n",
       "      <td>3656.0</td>\n",
       "    </tr>\n",
       "    <tr>\n",
       "      <th>67</th>\n",
       "      <td>NaN</td>\n",
       "      <td>30.0</td>\n",
       "      <td>5034.0</td>\n",
       "    </tr>\n",
       "    <tr>\n",
       "      <th>78</th>\n",
       "      <td>NaN</td>\n",
       "      <td>1.0</td>\n",
       "      <td>2095.0</td>\n",
       "    </tr>\n",
       "    <tr>\n",
       "      <th>79</th>\n",
       "      <td>NaN</td>\n",
       "      <td>2.0</td>\n",
       "      <td>2222.0</td>\n",
       "    </tr>\n",
       "    <tr>\n",
       "      <th>84</th>\n",
       "      <td>NaN</td>\n",
       "      <td>24.0</td>\n",
       "      <td>4545.0</td>\n",
       "    </tr>\n",
       "    <tr>\n",
       "      <th>89</th>\n",
       "      <td>NaN</td>\n",
       "      <td>27.0</td>\n",
       "      <td>4889.0</td>\n",
       "    </tr>\n",
       "    <tr>\n",
       "      <th>97</th>\n",
       "      <td>NaN</td>\n",
       "      <td>1.0</td>\n",
       "      <td>1929.0</td>\n",
       "    </tr>\n",
       "    <tr>\n",
       "      <th>103</th>\n",
       "      <td>NaN</td>\n",
       "      <td>8.0</td>\n",
       "      <td>2919.0</td>\n",
       "    </tr>\n",
       "    <tr>\n",
       "      <th>109</th>\n",
       "      <td>NaN</td>\n",
       "      <td>6.0</td>\n",
       "      <td>2774.0</td>\n",
       "    </tr>\n",
       "    <tr>\n",
       "      <th>111</th>\n",
       "      <td>NaN</td>\n",
       "      <td>20.0</td>\n",
       "      <td>4118.0</td>\n",
       "    </tr>\n",
       "    <tr>\n",
       "      <th>123</th>\n",
       "      <td>NaN</td>\n",
       "      <td>5.0</td>\n",
       "      <td>2686.0</td>\n",
       "    </tr>\n",
       "    <tr>\n",
       "      <th>128</th>\n",
       "      <td>NaN</td>\n",
       "      <td>25.0</td>\n",
       "      <td>4652.0</td>\n",
       "    </tr>\n",
       "    <tr>\n",
       "      <th>130</th>\n",
       "      <td>NaN</td>\n",
       "      <td>23.0</td>\n",
       "      <td>4500.0</td>\n",
       "    </tr>\n",
       "    <tr>\n",
       "      <th>142</th>\n",
       "      <td>NaN</td>\n",
       "      <td>10.0</td>\n",
       "      <td>3115.0</td>\n",
       "    </tr>\n",
       "    <tr>\n",
       "      <th>156</th>\n",
       "      <td>NaN</td>\n",
       "      <td>21.0</td>\n",
       "      <td>4214.0</td>\n",
       "    </tr>\n",
       "    <tr>\n",
       "      <th>160</th>\n",
       "      <td>NaN</td>\n",
       "      <td>30.0</td>\n",
       "      <td>5116.0</td>\n",
       "    </tr>\n",
       "    <tr>\n",
       "      <th>161</th>\n",
       "      <td>NaN</td>\n",
       "      <td>30.0</td>\n",
       "      <td>5166.0</td>\n",
       "    </tr>\n",
       "    <tr>\n",
       "      <th>167</th>\n",
       "      <td>NaN</td>\n",
       "      <td>4.0</td>\n",
       "      <td>2522.0</td>\n",
       "    </tr>\n",
       "    <tr>\n",
       "      <th>168</th>\n",
       "      <td>NaN</td>\n",
       "      <td>18.0</td>\n",
       "      <td>3901.0</td>\n",
       "    </tr>\n",
       "    <tr>\n",
       "      <th>170</th>\n",
       "      <td>NaN</td>\n",
       "      <td>26.0</td>\n",
       "      <td>4716.0</td>\n",
       "    </tr>\n",
       "    <tr>\n",
       "      <th>171</th>\n",
       "      <td>NaN</td>\n",
       "      <td>11.0</td>\n",
       "      <td>3209.0</td>\n",
       "    </tr>\n",
       "    <tr>\n",
       "      <th>173</th>\n",
       "      <td>NaN</td>\n",
       "      <td>13.0</td>\n",
       "      <td>3433.0</td>\n",
       "    </tr>\n",
       "    <tr>\n",
       "      <th>178</th>\n",
       "      <td>NaN</td>\n",
       "      <td>3.0</td>\n",
       "      <td>2492.0</td>\n",
       "    </tr>\n",
       "    <tr>\n",
       "      <th>180</th>\n",
       "      <td>NaN</td>\n",
       "      <td>17.0</td>\n",
       "      <td>3847.0</td>\n",
       "    </tr>\n",
       "    <tr>\n",
       "      <th>181</th>\n",
       "      <td>NaN</td>\n",
       "      <td>32.0</td>\n",
       "      <td>5358.0</td>\n",
       "    </tr>\n",
       "    <tr>\n",
       "      <th>182</th>\n",
       "      <td>NaN</td>\n",
       "      <td>9.0</td>\n",
       "      <td>3059.0</td>\n",
       "    </tr>\n",
       "    <tr>\n",
       "      <th>183</th>\n",
       "      <td>NaN</td>\n",
       "      <td>29.0</td>\n",
       "      <td>5085.0</td>\n",
       "    </tr>\n",
       "    <tr>\n",
       "      <th>187</th>\n",
       "      <td>NaN</td>\n",
       "      <td>2.0</td>\n",
       "      <td>2209.0</td>\n",
       "    </tr>\n",
       "    <tr>\n",
       "      <th>188</th>\n",
       "      <td>NaN</td>\n",
       "      <td>25.0</td>\n",
       "      <td>4626.0</td>\n",
       "    </tr>\n",
       "    <tr>\n",
       "      <th>198</th>\n",
       "      <td>NaN</td>\n",
       "      <td>11.0</td>\n",
       "      <td>3300.0</td>\n",
       "    </tr>\n",
       "    <tr>\n",
       "      <th>200</th>\n",
       "      <td>NaN</td>\n",
       "      <td>3.0</td>\n",
       "      <td>2320.0</td>\n",
       "    </tr>\n",
       "    <tr>\n",
       "      <th>205</th>\n",
       "      <td>NaN</td>\n",
       "      <td>17.0</td>\n",
       "      <td>3839.0</td>\n",
       "    </tr>\n",
       "    <tr>\n",
       "      <th>207</th>\n",
       "      <td>NaN</td>\n",
       "      <td>30.0</td>\n",
       "      <td>5189.0</td>\n",
       "    </tr>\n",
       "    <tr>\n",
       "      <th>208</th>\n",
       "      <td>NaN</td>\n",
       "      <td>16.0</td>\n",
       "      <td>3797.0</td>\n",
       "    </tr>\n",
       "    <tr>\n",
       "      <th>209</th>\n",
       "      <td>NaN</td>\n",
       "      <td>24.0</td>\n",
       "      <td>4516.0</td>\n",
       "    </tr>\n",
       "    <tr>\n",
       "      <th>216</th>\n",
       "      <td>NaN</td>\n",
       "      <td>14.0</td>\n",
       "      <td>3507.0</td>\n",
       "    </tr>\n",
       "    <tr>\n",
       "      <th>225</th>\n",
       "      <td>NaN</td>\n",
       "      <td>24.0</td>\n",
       "      <td>4544.0</td>\n",
       "    </tr>\n",
       "    <tr>\n",
       "      <th>231</th>\n",
       "      <td>NaN</td>\n",
       "      <td>8.0</td>\n",
       "      <td>2986.0</td>\n",
       "    </tr>\n",
       "    <tr>\n",
       "      <th>234</th>\n",
       "      <td>NaN</td>\n",
       "      <td>2.0</td>\n",
       "      <td>2169.0</td>\n",
       "    </tr>\n",
       "    <tr>\n",
       "      <th>235</th>\n",
       "      <td>NaN</td>\n",
       "      <td>16.0</td>\n",
       "      <td>3769.0</td>\n",
       "    </tr>\n",
       "    <tr>\n",
       "      <th>237</th>\n",
       "      <td>NaN</td>\n",
       "      <td>35.0</td>\n",
       "      <td>5614.0</td>\n",
       "    </tr>\n",
       "    <tr>\n",
       "      <th>242</th>\n",
       "      <td>NaN</td>\n",
       "      <td>20.0</td>\n",
       "      <td>4166.0</td>\n",
       "    </tr>\n",
       "    <tr>\n",
       "      <th>243</th>\n",
       "      <td>NaN</td>\n",
       "      <td>24.0</td>\n",
       "      <td>4510.0</td>\n",
       "    </tr>\n",
       "  </tbody>\n",
       "</table>\n",
       "</div>"
      ],
      "text/plain": [
       "     Edad  Experiencia  Salario\n",
       "18    NaN         10.0   3194.0\n",
       "20    NaN         15.0   3635.0\n",
       "27    NaN         24.0   4529.0\n",
       "29    NaN         18.0   3907.0\n",
       "30    NaN          5.0   2656.0\n",
       "33    NaN          7.0   2835.0\n",
       "37    NaN          5.0   2676.0\n",
       "43    NaN          6.0   2709.0\n",
       "46    NaN          9.0   3027.0\n",
       "47    NaN         10.0   3128.0\n",
       "48    NaN         15.0   3614.0\n",
       "49    NaN         25.0   4611.0\n",
       "56    NaN         15.0   3656.0\n",
       "67    NaN         30.0   5034.0\n",
       "78    NaN          1.0   2095.0\n",
       "79    NaN          2.0   2222.0\n",
       "84    NaN         24.0   4545.0\n",
       "89    NaN         27.0   4889.0\n",
       "97    NaN          1.0   1929.0\n",
       "103   NaN          8.0   2919.0\n",
       "109   NaN          6.0   2774.0\n",
       "111   NaN         20.0   4118.0\n",
       "123   NaN          5.0   2686.0\n",
       "128   NaN         25.0   4652.0\n",
       "130   NaN         23.0   4500.0\n",
       "142   NaN         10.0   3115.0\n",
       "156   NaN         21.0   4214.0\n",
       "160   NaN         30.0   5116.0\n",
       "161   NaN         30.0   5166.0\n",
       "167   NaN          4.0   2522.0\n",
       "168   NaN         18.0   3901.0\n",
       "170   NaN         26.0   4716.0\n",
       "171   NaN         11.0   3209.0\n",
       "173   NaN         13.0   3433.0\n",
       "178   NaN          3.0   2492.0\n",
       "180   NaN         17.0   3847.0\n",
       "181   NaN         32.0   5358.0\n",
       "182   NaN          9.0   3059.0\n",
       "183   NaN         29.0   5085.0\n",
       "187   NaN          2.0   2209.0\n",
       "188   NaN         25.0   4626.0\n",
       "198   NaN         11.0   3300.0\n",
       "200   NaN          3.0   2320.0\n",
       "205   NaN         17.0   3839.0\n",
       "207   NaN         30.0   5189.0\n",
       "208   NaN         16.0   3797.0\n",
       "209   NaN         24.0   4516.0\n",
       "216   NaN         14.0   3507.0\n",
       "225   NaN         24.0   4544.0\n",
       "231   NaN          8.0   2986.0\n",
       "234   NaN          2.0   2169.0\n",
       "235   NaN         16.0   3769.0\n",
       "237   NaN         35.0   5614.0\n",
       "242   NaN         20.0   4166.0\n",
       "243   NaN         24.0   4510.0"
      ]
     },
     "execution_count": 20,
     "metadata": {},
     "output_type": "execute_result"
    }
   ],
   "source": [
    "datos_test = df_1_7[df_1_7['Edad'].isnull()==True].copy()\n",
    "datos_test.dropna(axis=0, thresh=2)"
   ]
  },
  {
   "cell_type": "code",
   "execution_count": 21,
   "id": "17483515",
   "metadata": {},
   "outputs": [],
   "source": [
    "datos_entrenamiento = df_1_7[df_1_7['Edad'].isnull()==False].copy()\n",
    "datos_entrenamiento.dropna(axis=0, inplace=True)"
   ]
  },
  {
   "cell_type": "code",
   "execution_count": 22,
   "id": "f4039fac",
   "metadata": {},
   "outputs": [],
   "source": [
    "y_entrenamiento = datos_entrenamiento['Edad']"
   ]
  },
  {
   "cell_type": "code",
   "execution_count": 23,
   "id": "c95c6ce0",
   "metadata": {},
   "outputs": [],
   "source": [
    "x_entrenamiento = datos_entrenamiento.drop(\"Edad\",axis=1)"
   ]
  },
  {
   "cell_type": "code",
   "execution_count": 24,
   "id": "2196c772",
   "metadata": {},
   "outputs": [
    {
     "data": {
      "text/html": [
       "<style>#sk-container-id-1 {\n",
       "  /* Definition of color scheme common for light and dark mode */\n",
       "  --sklearn-color-text: black;\n",
       "  --sklearn-color-line: gray;\n",
       "  /* Definition of color scheme for unfitted estimators */\n",
       "  --sklearn-color-unfitted-level-0: #fff5e6;\n",
       "  --sklearn-color-unfitted-level-1: #f6e4d2;\n",
       "  --sklearn-color-unfitted-level-2: #ffe0b3;\n",
       "  --sklearn-color-unfitted-level-3: chocolate;\n",
       "  /* Definition of color scheme for fitted estimators */\n",
       "  --sklearn-color-fitted-level-0: #f0f8ff;\n",
       "  --sklearn-color-fitted-level-1: #d4ebff;\n",
       "  --sklearn-color-fitted-level-2: #b3dbfd;\n",
       "  --sklearn-color-fitted-level-3: cornflowerblue;\n",
       "\n",
       "  /* Specific color for light theme */\n",
       "  --sklearn-color-text-on-default-background: var(--sg-text-color, var(--theme-code-foreground, var(--jp-content-font-color1, black)));\n",
       "  --sklearn-color-background: var(--sg-background-color, var(--theme-background, var(--jp-layout-color0, white)));\n",
       "  --sklearn-color-border-box: var(--sg-text-color, var(--theme-code-foreground, var(--jp-content-font-color1, black)));\n",
       "  --sklearn-color-icon: #696969;\n",
       "\n",
       "  @media (prefers-color-scheme: dark) {\n",
       "    /* Redefinition of color scheme for dark theme */\n",
       "    --sklearn-color-text-on-default-background: var(--sg-text-color, var(--theme-code-foreground, var(--jp-content-font-color1, white)));\n",
       "    --sklearn-color-background: var(--sg-background-color, var(--theme-background, var(--jp-layout-color0, #111)));\n",
       "    --sklearn-color-border-box: var(--sg-text-color, var(--theme-code-foreground, var(--jp-content-font-color1, white)));\n",
       "    --sklearn-color-icon: #878787;\n",
       "  }\n",
       "}\n",
       "\n",
       "#sk-container-id-1 {\n",
       "  color: var(--sklearn-color-text);\n",
       "}\n",
       "\n",
       "#sk-container-id-1 pre {\n",
       "  padding: 0;\n",
       "}\n",
       "\n",
       "#sk-container-id-1 input.sk-hidden--visually {\n",
       "  border: 0;\n",
       "  clip: rect(1px 1px 1px 1px);\n",
       "  clip: rect(1px, 1px, 1px, 1px);\n",
       "  height: 1px;\n",
       "  margin: -1px;\n",
       "  overflow: hidden;\n",
       "  padding: 0;\n",
       "  position: absolute;\n",
       "  width: 1px;\n",
       "}\n",
       "\n",
       "#sk-container-id-1 div.sk-dashed-wrapped {\n",
       "  border: 1px dashed var(--sklearn-color-line);\n",
       "  margin: 0 0.4em 0.5em 0.4em;\n",
       "  box-sizing: border-box;\n",
       "  padding-bottom: 0.4em;\n",
       "  background-color: var(--sklearn-color-background);\n",
       "}\n",
       "\n",
       "#sk-container-id-1 div.sk-container {\n",
       "  /* jupyter's `normalize.less` sets `[hidden] { display: none; }`\n",
       "     but bootstrap.min.css set `[hidden] { display: none !important; }`\n",
       "     so we also need the `!important` here to be able to override the\n",
       "     default hidden behavior on the sphinx rendered scikit-learn.org.\n",
       "     See: https://github.com/scikit-learn/scikit-learn/issues/21755 */\n",
       "  display: inline-block !important;\n",
       "  position: relative;\n",
       "}\n",
       "\n",
       "#sk-container-id-1 div.sk-text-repr-fallback {\n",
       "  display: none;\n",
       "}\n",
       "\n",
       "div.sk-parallel-item,\n",
       "div.sk-serial,\n",
       "div.sk-item {\n",
       "  /* draw centered vertical line to link estimators */\n",
       "  background-image: linear-gradient(var(--sklearn-color-text-on-default-background), var(--sklearn-color-text-on-default-background));\n",
       "  background-size: 2px 100%;\n",
       "  background-repeat: no-repeat;\n",
       "  background-position: center center;\n",
       "}\n",
       "\n",
       "/* Parallel-specific style estimator block */\n",
       "\n",
       "#sk-container-id-1 div.sk-parallel-item::after {\n",
       "  content: \"\";\n",
       "  width: 100%;\n",
       "  border-bottom: 2px solid var(--sklearn-color-text-on-default-background);\n",
       "  flex-grow: 1;\n",
       "}\n",
       "\n",
       "#sk-container-id-1 div.sk-parallel {\n",
       "  display: flex;\n",
       "  align-items: stretch;\n",
       "  justify-content: center;\n",
       "  background-color: var(--sklearn-color-background);\n",
       "  position: relative;\n",
       "}\n",
       "\n",
       "#sk-container-id-1 div.sk-parallel-item {\n",
       "  display: flex;\n",
       "  flex-direction: column;\n",
       "}\n",
       "\n",
       "#sk-container-id-1 div.sk-parallel-item:first-child::after {\n",
       "  align-self: flex-end;\n",
       "  width: 50%;\n",
       "}\n",
       "\n",
       "#sk-container-id-1 div.sk-parallel-item:last-child::after {\n",
       "  align-self: flex-start;\n",
       "  width: 50%;\n",
       "}\n",
       "\n",
       "#sk-container-id-1 div.sk-parallel-item:only-child::after {\n",
       "  width: 0;\n",
       "}\n",
       "\n",
       "/* Serial-specific style estimator block */\n",
       "\n",
       "#sk-container-id-1 div.sk-serial {\n",
       "  display: flex;\n",
       "  flex-direction: column;\n",
       "  align-items: center;\n",
       "  background-color: var(--sklearn-color-background);\n",
       "  padding-right: 1em;\n",
       "  padding-left: 1em;\n",
       "}\n",
       "\n",
       "\n",
       "/* Toggleable style: style used for estimator/Pipeline/ColumnTransformer box that is\n",
       "clickable and can be expanded/collapsed.\n",
       "- Pipeline and ColumnTransformer use this feature and define the default style\n",
       "- Estimators will overwrite some part of the style using the `sk-estimator` class\n",
       "*/\n",
       "\n",
       "/* Pipeline and ColumnTransformer style (default) */\n",
       "\n",
       "#sk-container-id-1 div.sk-toggleable {\n",
       "  /* Default theme specific background. It is overwritten whether we have a\n",
       "  specific estimator or a Pipeline/ColumnTransformer */\n",
       "  background-color: var(--sklearn-color-background);\n",
       "}\n",
       "\n",
       "/* Toggleable label */\n",
       "#sk-container-id-1 label.sk-toggleable__label {\n",
       "  cursor: pointer;\n",
       "  display: block;\n",
       "  width: 100%;\n",
       "  margin-bottom: 0;\n",
       "  padding: 0.5em;\n",
       "  box-sizing: border-box;\n",
       "  text-align: center;\n",
       "}\n",
       "\n",
       "#sk-container-id-1 label.sk-toggleable__label-arrow:before {\n",
       "  /* Arrow on the left of the label */\n",
       "  content: \"▸\";\n",
       "  float: left;\n",
       "  margin-right: 0.25em;\n",
       "  color: var(--sklearn-color-icon);\n",
       "}\n",
       "\n",
       "#sk-container-id-1 label.sk-toggleable__label-arrow:hover:before {\n",
       "  color: var(--sklearn-color-text);\n",
       "}\n",
       "\n",
       "/* Toggleable content - dropdown */\n",
       "\n",
       "#sk-container-id-1 div.sk-toggleable__content {\n",
       "  max-height: 0;\n",
       "  max-width: 0;\n",
       "  overflow: hidden;\n",
       "  text-align: left;\n",
       "  /* unfitted */\n",
       "  background-color: var(--sklearn-color-unfitted-level-0);\n",
       "}\n",
       "\n",
       "#sk-container-id-1 div.sk-toggleable__content.fitted {\n",
       "  /* fitted */\n",
       "  background-color: var(--sklearn-color-fitted-level-0);\n",
       "}\n",
       "\n",
       "#sk-container-id-1 div.sk-toggleable__content pre {\n",
       "  margin: 0.2em;\n",
       "  border-radius: 0.25em;\n",
       "  color: var(--sklearn-color-text);\n",
       "  /* unfitted */\n",
       "  background-color: var(--sklearn-color-unfitted-level-0);\n",
       "}\n",
       "\n",
       "#sk-container-id-1 div.sk-toggleable__content.fitted pre {\n",
       "  /* unfitted */\n",
       "  background-color: var(--sklearn-color-fitted-level-0);\n",
       "}\n",
       "\n",
       "#sk-container-id-1 input.sk-toggleable__control:checked~div.sk-toggleable__content {\n",
       "  /* Expand drop-down */\n",
       "  max-height: 200px;\n",
       "  max-width: 100%;\n",
       "  overflow: auto;\n",
       "}\n",
       "\n",
       "#sk-container-id-1 input.sk-toggleable__control:checked~label.sk-toggleable__label-arrow:before {\n",
       "  content: \"▾\";\n",
       "}\n",
       "\n",
       "/* Pipeline/ColumnTransformer-specific style */\n",
       "\n",
       "#sk-container-id-1 div.sk-label input.sk-toggleable__control:checked~label.sk-toggleable__label {\n",
       "  color: var(--sklearn-color-text);\n",
       "  background-color: var(--sklearn-color-unfitted-level-2);\n",
       "}\n",
       "\n",
       "#sk-container-id-1 div.sk-label.fitted input.sk-toggleable__control:checked~label.sk-toggleable__label {\n",
       "  background-color: var(--sklearn-color-fitted-level-2);\n",
       "}\n",
       "\n",
       "/* Estimator-specific style */\n",
       "\n",
       "/* Colorize estimator box */\n",
       "#sk-container-id-1 div.sk-estimator input.sk-toggleable__control:checked~label.sk-toggleable__label {\n",
       "  /* unfitted */\n",
       "  background-color: var(--sklearn-color-unfitted-level-2);\n",
       "}\n",
       "\n",
       "#sk-container-id-1 div.sk-estimator.fitted input.sk-toggleable__control:checked~label.sk-toggleable__label {\n",
       "  /* fitted */\n",
       "  background-color: var(--sklearn-color-fitted-level-2);\n",
       "}\n",
       "\n",
       "#sk-container-id-1 div.sk-label label.sk-toggleable__label,\n",
       "#sk-container-id-1 div.sk-label label {\n",
       "  /* The background is the default theme color */\n",
       "  color: var(--sklearn-color-text-on-default-background);\n",
       "}\n",
       "\n",
       "/* On hover, darken the color of the background */\n",
       "#sk-container-id-1 div.sk-label:hover label.sk-toggleable__label {\n",
       "  color: var(--sklearn-color-text);\n",
       "  background-color: var(--sklearn-color-unfitted-level-2);\n",
       "}\n",
       "\n",
       "/* Label box, darken color on hover, fitted */\n",
       "#sk-container-id-1 div.sk-label.fitted:hover label.sk-toggleable__label.fitted {\n",
       "  color: var(--sklearn-color-text);\n",
       "  background-color: var(--sklearn-color-fitted-level-2);\n",
       "}\n",
       "\n",
       "/* Estimator label */\n",
       "\n",
       "#sk-container-id-1 div.sk-label label {\n",
       "  font-family: monospace;\n",
       "  font-weight: bold;\n",
       "  display: inline-block;\n",
       "  line-height: 1.2em;\n",
       "}\n",
       "\n",
       "#sk-container-id-1 div.sk-label-container {\n",
       "  text-align: center;\n",
       "}\n",
       "\n",
       "/* Estimator-specific */\n",
       "#sk-container-id-1 div.sk-estimator {\n",
       "  font-family: monospace;\n",
       "  border: 1px dotted var(--sklearn-color-border-box);\n",
       "  border-radius: 0.25em;\n",
       "  box-sizing: border-box;\n",
       "  margin-bottom: 0.5em;\n",
       "  /* unfitted */\n",
       "  background-color: var(--sklearn-color-unfitted-level-0);\n",
       "}\n",
       "\n",
       "#sk-container-id-1 div.sk-estimator.fitted {\n",
       "  /* fitted */\n",
       "  background-color: var(--sklearn-color-fitted-level-0);\n",
       "}\n",
       "\n",
       "/* on hover */\n",
       "#sk-container-id-1 div.sk-estimator:hover {\n",
       "  /* unfitted */\n",
       "  background-color: var(--sklearn-color-unfitted-level-2);\n",
       "}\n",
       "\n",
       "#sk-container-id-1 div.sk-estimator.fitted:hover {\n",
       "  /* fitted */\n",
       "  background-color: var(--sklearn-color-fitted-level-2);\n",
       "}\n",
       "\n",
       "/* Specification for estimator info (e.g. \"i\" and \"?\") */\n",
       "\n",
       "/* Common style for \"i\" and \"?\" */\n",
       "\n",
       ".sk-estimator-doc-link,\n",
       "a:link.sk-estimator-doc-link,\n",
       "a:visited.sk-estimator-doc-link {\n",
       "  float: right;\n",
       "  font-size: smaller;\n",
       "  line-height: 1em;\n",
       "  font-family: monospace;\n",
       "  background-color: var(--sklearn-color-background);\n",
       "  border-radius: 1em;\n",
       "  height: 1em;\n",
       "  width: 1em;\n",
       "  text-decoration: none !important;\n",
       "  margin-left: 1ex;\n",
       "  /* unfitted */\n",
       "  border: var(--sklearn-color-unfitted-level-1) 1pt solid;\n",
       "  color: var(--sklearn-color-unfitted-level-1);\n",
       "}\n",
       "\n",
       ".sk-estimator-doc-link.fitted,\n",
       "a:link.sk-estimator-doc-link.fitted,\n",
       "a:visited.sk-estimator-doc-link.fitted {\n",
       "  /* fitted */\n",
       "  border: var(--sklearn-color-fitted-level-1) 1pt solid;\n",
       "  color: var(--sklearn-color-fitted-level-1);\n",
       "}\n",
       "\n",
       "/* On hover */\n",
       "div.sk-estimator:hover .sk-estimator-doc-link:hover,\n",
       ".sk-estimator-doc-link:hover,\n",
       "div.sk-label-container:hover .sk-estimator-doc-link:hover,\n",
       ".sk-estimator-doc-link:hover {\n",
       "  /* unfitted */\n",
       "  background-color: var(--sklearn-color-unfitted-level-3);\n",
       "  color: var(--sklearn-color-background);\n",
       "  text-decoration: none;\n",
       "}\n",
       "\n",
       "div.sk-estimator.fitted:hover .sk-estimator-doc-link.fitted:hover,\n",
       ".sk-estimator-doc-link.fitted:hover,\n",
       "div.sk-label-container:hover .sk-estimator-doc-link.fitted:hover,\n",
       ".sk-estimator-doc-link.fitted:hover {\n",
       "  /* fitted */\n",
       "  background-color: var(--sklearn-color-fitted-level-3);\n",
       "  color: var(--sklearn-color-background);\n",
       "  text-decoration: none;\n",
       "}\n",
       "\n",
       "/* Span, style for the box shown on hovering the info icon */\n",
       ".sk-estimator-doc-link span {\n",
       "  display: none;\n",
       "  z-index: 9999;\n",
       "  position: relative;\n",
       "  font-weight: normal;\n",
       "  right: .2ex;\n",
       "  padding: .5ex;\n",
       "  margin: .5ex;\n",
       "  width: min-content;\n",
       "  min-width: 20ex;\n",
       "  max-width: 50ex;\n",
       "  color: var(--sklearn-color-text);\n",
       "  box-shadow: 2pt 2pt 4pt #999;\n",
       "  /* unfitted */\n",
       "  background: var(--sklearn-color-unfitted-level-0);\n",
       "  border: .5pt solid var(--sklearn-color-unfitted-level-3);\n",
       "}\n",
       "\n",
       ".sk-estimator-doc-link.fitted span {\n",
       "  /* fitted */\n",
       "  background: var(--sklearn-color-fitted-level-0);\n",
       "  border: var(--sklearn-color-fitted-level-3);\n",
       "}\n",
       "\n",
       ".sk-estimator-doc-link:hover span {\n",
       "  display: block;\n",
       "}\n",
       "\n",
       "/* \"?\"-specific style due to the `<a>` HTML tag */\n",
       "\n",
       "#sk-container-id-1 a.estimator_doc_link {\n",
       "  float: right;\n",
       "  font-size: 1rem;\n",
       "  line-height: 1em;\n",
       "  font-family: monospace;\n",
       "  background-color: var(--sklearn-color-background);\n",
       "  border-radius: 1rem;\n",
       "  height: 1rem;\n",
       "  width: 1rem;\n",
       "  text-decoration: none;\n",
       "  /* unfitted */\n",
       "  color: var(--sklearn-color-unfitted-level-1);\n",
       "  border: var(--sklearn-color-unfitted-level-1) 1pt solid;\n",
       "}\n",
       "\n",
       "#sk-container-id-1 a.estimator_doc_link.fitted {\n",
       "  /* fitted */\n",
       "  border: var(--sklearn-color-fitted-level-1) 1pt solid;\n",
       "  color: var(--sklearn-color-fitted-level-1);\n",
       "}\n",
       "\n",
       "/* On hover */\n",
       "#sk-container-id-1 a.estimator_doc_link:hover {\n",
       "  /* unfitted */\n",
       "  background-color: var(--sklearn-color-unfitted-level-3);\n",
       "  color: var(--sklearn-color-background);\n",
       "  text-decoration: none;\n",
       "}\n",
       "\n",
       "#sk-container-id-1 a.estimator_doc_link.fitted:hover {\n",
       "  /* fitted */\n",
       "  background-color: var(--sklearn-color-fitted-level-3);\n",
       "}\n",
       "</style><div id=\"sk-container-id-1\" class=\"sk-top-container\"><div class=\"sk-text-repr-fallback\"><pre>LinearRegression()</pre><b>In a Jupyter environment, please rerun this cell to show the HTML representation or trust the notebook. <br />On GitHub, the HTML representation is unable to render, please try loading this page with nbviewer.org.</b></div><div class=\"sk-container\" hidden><div class=\"sk-item\"><div class=\"sk-estimator fitted sk-toggleable\"><input class=\"sk-toggleable__control sk-hidden--visually\" id=\"sk-estimator-id-1\" type=\"checkbox\" checked><label for=\"sk-estimator-id-1\" class=\"sk-toggleable__label fitted sk-toggleable__label-arrow fitted\">&nbsp;&nbsp;LinearRegression<a class=\"sk-estimator-doc-link fitted\" rel=\"noreferrer\" target=\"_blank\" href=\"https://scikit-learn.org/1.5/modules/generated/sklearn.linear_model.LinearRegression.html\">?<span>Documentation for LinearRegression</span></a><span class=\"sk-estimator-doc-link fitted\">i<span>Fitted</span></span></label><div class=\"sk-toggleable__content fitted\"><pre>LinearRegression()</pre></div> </div></div></div></div>"
      ],
      "text/plain": [
       "LinearRegression()"
      ]
     },
     "execution_count": 24,
     "metadata": {},
     "output_type": "execute_result"
    }
   ],
   "source": [
    "regresion_lineal.fit(x_entrenamiento,y_entrenamiento)"
   ]
  },
  {
   "cell_type": "code",
   "execution_count": 25,
   "id": "56077265",
   "metadata": {},
   "outputs": [],
   "source": [
    "datos_test = datos_test.drop('Edad',axis=1)\n",
    "datos_test = datos_test.dropna()"
   ]
  },
  {
   "cell_type": "code",
   "execution_count": 26,
   "id": "bc72eada",
   "metadata": {},
   "outputs": [],
   "source": [
    "predicciones = regresion_lineal.predict(datos_test)"
   ]
  },
  {
   "cell_type": "code",
   "execution_count": 27,
   "id": "434686f2",
   "metadata": {},
   "outputs": [
    {
     "name": "stdout",
     "output_type": "stream",
     "text": [
      "[38.2183411  44.17563872 55.82660757 47.8185399  31.36284175 33.7698363\n",
      " 31.54803798 32.2283559  36.29720841 37.60719353 43.98118267 56.96065626\n",
      " 44.37009477 62.75127726 24.66911085 26.21985107 55.97476455 60.28437218\n",
      " 23.13198211 34.92240462 32.83024366 50.52184843 31.6406361  57.34030854\n",
      " 55.1833289  37.48681598 51.78553449 63.51058183 63.97357241 29.74728285\n",
      " 47.76298103 58.30768062 38.73198241 41.55566849 29.09474436 46.88820706\n",
      " 66.50094452 36.59352239 62.84878353 26.09947352 57.09955343 39.57462527\n",
      " 27.50205675 46.81412857 64.18654808 46.05047235 55.70623001 42.61563869\n",
      " 55.96550474 35.542812   25.72908105 45.79119762 69.99568871 50.96631939\n",
      " 55.65067114]\n"
     ]
    }
   ],
   "source": [
    "print(predicciones)"
   ]
  },
  {
   "cell_type": "code",
   "execution_count": 28,
   "id": "8cc126f0",
   "metadata": {},
   "outputs": [],
   "source": [
    "datos_test['Edad']= predicciones\n",
    "test_index = datos_test.index\n",
    "df_1_7.loc[test_index, 'Edad'] = predicciones"
   ]
  },
  {
   "cell_type": "code",
   "execution_count": 29,
   "id": "21b880a6",
   "metadata": {},
   "outputs": [
    {
     "name": "stdout",
     "output_type": "stream",
     "text": [
      "         Edad  Experiencia  Salario\n",
      "0   22.000000          3.0   2423.0\n",
      "1   38.000000         10.0   3132.0\n",
      "2   26.000000          5.0   2639.0\n",
      "3   35.000000         10.0   3122.0\n",
      "4   35.000000         13.0   3431.0\n",
      "5         NaN          NaN   4500.0\n",
      "6   54.000000         18.0   3962.0\n",
      "7   22.000000          3.0   2450.0\n",
      "8   27.000000          4.0   2564.0\n",
      "9   24.000000          6.0   2709.0\n",
      "10  44.000000         22.0   4359.0\n",
      "11  58.000000         24.0   4532.0\n",
      "12  20.000000          1.0   1977.0\n",
      "13  39.000000          8.0   2953.0\n",
      "16  55.000000         12.0   3306.0\n",
      "17  22.000000          4.0   2518.0\n",
      "18  38.218341         10.0   3194.0\n",
      "19  31.000000         11.0   3267.0\n",
      "20  44.175639         15.0   3635.0\n",
      "21  35.000000          8.0   2973.0\n"
     ]
    }
   ],
   "source": [
    "print(df_1_7.head(20))"
   ]
  },
  {
   "cell_type": "markdown",
   "id": "5ec50d8b",
   "metadata": {},
   "source": [
    "## 2. Análisis de datos"
   ]
  },
  {
   "cell_type": "markdown",
   "id": "232db74a",
   "metadata": {},
   "source": [
    "### 1. Correlación"
   ]
  },
  {
   "cell_type": "code",
   "execution_count": 30,
   "id": "45171013",
   "metadata": {},
   "outputs": [],
   "source": [
    "import seaborn as sns"
   ]
  },
  {
   "cell_type": "code",
   "execution_count": 31,
   "id": "0cea07e8",
   "metadata": {},
   "outputs": [],
   "source": [
    "df_2 = pd.read_csv('empleados2.csv', delimiter=\";\")"
   ]
  },
  {
   "cell_type": "code",
   "execution_count": 32,
   "id": "d5fcf70d",
   "metadata": {},
   "outputs": [
    {
     "name": "stdout",
     "output_type": "stream",
     "text": [
      "       Nombre       Sexo   Estado_Civil  Edad  Experiencia  Salario Gerencia  \\\n",
      "0   Alexandro  Masculino     Soltero(a)    22            3     2423       No   \n",
      "1      Felipa   Femenino     Soltero(a)    26            5     2639       No   \n",
      "2      Daniel  Masculino      Casado(a)    35           10     3122       No   \n",
      "3        John  Masculino      Casado(a)    35           13     3431       Sí   \n",
      "4     Ruperta   Femenino      Casado(a)    54           18     3962       No   \n",
      "5   Francisca   Femenino     Soltero(a)    27            4     2564       No   \n",
      "6      Selena   Femenino      Casado(a)    24            6     2709       Sí   \n",
      "7      Ximena   Femenino     Soltero(a)    58           24     4532       No   \n",
      "8       David  Masculino  Divorciado(a)    20            1     1977       No   \n",
      "9         Max  Masculino  Divorciado(a)    39            8     2953       No   \n",
      "10      Paula   Femenino  Divorciado(a)    55           12     3306       No   \n",
      "11        Tim  Masculino  Divorciado(a)    22            4     2518       No   \n",
      "12     Gloria   Femenino      Casado(a)    31           11     3267       No   \n",
      "13      Jesse  Masculino     Soltero(a)    34           11     3257       No   \n",
      "14     Ronald  Masculino     Soltero(a)    23            5     2695       No   \n",
      "15     Manola   Femenino     Soltero(a)    40            9     3023       No   \n",
      "16    Isabela   Femenino      Casado(a)    66           12     3344       No   \n",
      "17   Herberto  Masculino      Casado(a)    28            3     2391       No   \n",
      "18      Lilia   Femenino  Divorciado(a)    42           16     3796       No   \n",
      "19   Agustina   Femenino      Casado(a)    21            3     2371       No   \n",
      "\n",
      "            Departamento  \n",
      "0             Publicidad  \n",
      "1              Comercial  \n",
      "2              Comercial  \n",
      "3   Servicios al cliente  \n",
      "4               Producto  \n",
      "5                     IT  \n",
      "6           Contabilidad  \n",
      "7                  Legal  \n",
      "8       Recursos Humanos  \n",
      "9                 Ventas  \n",
      "10              Producto  \n",
      "11      Recursos Humanos  \n",
      "12  Servicios al cliente  \n",
      "13            Publicidad  \n",
      "14  Servicios al cliente  \n",
      "15                    IT  \n",
      "16          Contabilidad  \n",
      "17  Servicios al cliente  \n",
      "18                Ventas  \n",
      "19  Servicios al cliente  \n"
     ]
    }
   ],
   "source": [
    "print(df_2.head(20))"
   ]
  },
  {
   "cell_type": "code",
   "execution_count": 33,
   "id": "5d70b641",
   "metadata": {},
   "outputs": [
    {
     "data": {
      "text/plain": [
       "0.0961549318542758"
      ]
     },
     "execution_count": 33,
     "metadata": {},
     "output_type": "execute_result"
    }
   ],
   "source": [
    "df_2['Experiencia'].corr(df['Salario'])"
   ]
  },
  {
   "cell_type": "markdown",
   "id": "b578bac1",
   "metadata": {},
   "source": [
    "Para representar la correlación de los datos numéricos entre sí hacemos lo siguiente"
   ]
  },
  {
   "cell_type": "code",
   "execution_count": 34,
   "id": "a2c2fbcc",
   "metadata": {},
   "outputs": [
    {
     "data": {
      "text/plain": [
       "<Axes: >"
      ]
     },
     "execution_count": 34,
     "metadata": {},
     "output_type": "execute_result"
    },
    {
     "data": {
      "image/png": "[encoded data removed]",
      "text/plain": [
       "<Figure size 640x480 with 2 Axes>"
      ]
     },
     "metadata": {},
     "output_type": "display_data"
    }
   ],
   "source": [
    "sns.heatmap(df_2.corr(numeric_only=True), vmin=-1, vmax=1, annot=True)"
   ]
  },
  {
   "cell_type": "markdown",
   "id": "49c3d71e",
   "metadata": {},
   "source": [
    "### 2. Calcular la media de las columnas"
   ]
  },
  {
   "cell_type": "code",
   "execution_count": 35,
   "id": "9528c23f",
   "metadata": {},
   "outputs": [],
   "source": [
    "df_2_2 = df_2[[\"Edad\",\"Experiencia\",\"Salario\"]].copy()"
   ]
  },
  {
   "cell_type": "code",
   "execution_count": 36,
   "id": "a5ebfae7",
   "metadata": {},
   "outputs": [
    {
     "name": "stdout",
     "output_type": "stream",
     "text": [
      "Edad             33.797203\n",
      "Experiencia       6.867133\n",
      "Salario        2778.657343\n",
      "dtype: float64\n"
     ]
    }
   ],
   "source": [
    "print(df_2_2.mean(axis=0))"
   ]
  },
  {
   "cell_type": "markdown",
   "id": "bde7b655",
   "metadata": {},
   "source": [
    "### 3. Estadísticas básicas"
   ]
  },
  {
   "cell_type": "code",
   "execution_count": 37,
   "id": "03564f03",
   "metadata": {},
   "outputs": [],
   "source": [
    "df_2_3 = pd.read_csv('temperaturas.csv', delimiter=\";\")"
   ]
  },
  {
   "cell_type": "markdown",
   "id": "5445e1b5",
   "metadata": {},
   "source": [
    "Temperatura mínima"
   ]
  },
  {
   "cell_type": "code",
   "execution_count": 38,
   "id": "979bf6e3",
   "metadata": {},
   "outputs": [
    {
     "name": "stdout",
     "output_type": "stream",
     "text": [
      "70.9\n"
     ]
    }
   ],
   "source": [
    "print(df_2_3['temperatura'].min())"
   ]
  },
  {
   "cell_type": "markdown",
   "id": "5bfd5e38",
   "metadata": {},
   "source": [
    "Temperatura máxima"
   ]
  },
  {
   "cell_type": "code",
   "execution_count": 39,
   "id": "c9c1568d",
   "metadata": {},
   "outputs": [
    {
     "name": "stdout",
     "output_type": "stream",
     "text": [
      "75.3\n"
     ]
    }
   ],
   "source": [
    "print(df_2_3['temperatura'].max())"
   ]
  },
  {
   "cell_type": "markdown",
   "id": "0316f2fc",
   "metadata": {},
   "source": [
    "Temperatura media"
   ]
  },
  {
   "cell_type": "code",
   "execution_count": 40,
   "id": "91666837",
   "metadata": {},
   "outputs": [
    {
     "name": "stdout",
     "output_type": "stream",
     "text": [
      "72.62419354838711\n"
     ]
    }
   ],
   "source": [
    "print(df_2_3['temperatura'].mean())"
   ]
  },
  {
   "cell_type": "markdown",
   "id": "27b1ef92",
   "metadata": {},
   "source": [
    "Desviación típica"
   ]
  },
  {
   "cell_type": "code",
   "execution_count": 41,
   "id": "0c9e7bf3",
   "metadata": {},
   "outputs": [
    {
     "name": "stdout",
     "output_type": "stream",
     "text": [
      "1.0573219315056979\n"
     ]
    }
   ],
   "source": [
    "print(df_2_3['temperatura'].std())"
   ]
  },
  {
   "cell_type": "markdown",
   "id": "7ccd59d9",
   "metadata": {},
   "source": [
    "Varianza"
   ]
  },
  {
   "cell_type": "code",
   "execution_count": 42,
   "id": "8f215082",
   "metadata": {},
   "outputs": [
    {
     "name": "stdout",
     "output_type": "stream",
     "text": [
      "1.1179296668429395\n"
     ]
    }
   ],
   "source": [
    "print(df_2_3['temperatura'].var())"
   ]
  },
  {
   "cell_type": "markdown",
   "id": "83dc4e4b",
   "metadata": {},
   "source": [
    "### 4. Normalizar datos"
   ]
  },
  {
   "cell_type": "markdown",
   "id": "581c9b78",
   "metadata": {},
   "source": [
    "En este apartado vamos a normalizar los datos de las columnas de un dataframe"
   ]
  },
  {
   "cell_type": "code",
   "execution_count": 43,
   "id": "4c750bad",
   "metadata": {},
   "outputs": [],
   "source": [
    "from sklearn.preprocessing import MinMaxScaler"
   ]
  },
  {
   "cell_type": "code",
   "execution_count": 44,
   "id": "3375f8eb",
   "metadata": {},
   "outputs": [],
   "source": [
    "df_2_4 = pd.read_csv('datos_2_4.csv', delimiter=\";\")"
   ]
  },
  {
   "cell_type": "code",
   "execution_count": 45,
   "id": "bf7c0fee",
   "metadata": {},
   "outputs": [
    {
     "name": "stdout",
     "output_type": "stream",
     "text": [
      "    Altura    Peso\n",
      "0     1.68   63.11\n",
      "1     1.70   64.47\n",
      "2     1.73   66.28\n",
      "3     1.75   68.10\n",
      "4     1.78   69.92\n",
      "5     1.80   72.19\n",
      "6     1.83   74.46\n",
      "7     1.57  105.18\n",
      "8     1.19  114.41\n",
      "9     1.74   82.30\n",
      "10    1.82  117.53\n",
      "11    1.32  104.75\n",
      "12    1.40   58.88\n",
      "13    1.14   66.02\n",
      "14    1.25  106.64\n",
      "15    1.71  110.20\n",
      "16    1.39   82.25\n",
      "17    1.55  100.12\n",
      "18    1.55   92.07\n",
      "19    1.93  129.42\n"
     ]
    }
   ],
   "source": [
    "print(df_2_4.head(20))"
   ]
  },
  {
   "cell_type": "code",
   "execution_count": 46,
   "id": "b4ca429b",
   "metadata": {},
   "outputs": [],
   "source": [
    "scaler = MinMaxScaler()"
   ]
  },
  {
   "cell_type": "code",
   "execution_count": 47,
   "id": "f23f2cc4",
   "metadata": {},
   "outputs": [],
   "source": [
    "scaled_df = scaler.fit_transform(df_2_4)"
   ]
  },
  {
   "cell_type": "code",
   "execution_count": 48,
   "id": "bdeb6207",
   "metadata": {},
   "outputs": [],
   "source": [
    "scaled_df = pd.DataFrame(scaled_df, columns=['Altura', 'Peso'])"
   ]
  },
  {
   "cell_type": "code",
   "execution_count": 49,
   "id": "99e36d1a",
   "metadata": {},
   "outputs": [
    {
     "name": "stdout",
     "output_type": "stream",
     "text": [
      "      Altura      Peso\n",
      "0   0.655172  0.141173\n",
      "1   0.678161  0.158788\n",
      "2   0.712644  0.182230\n",
      "3   0.735632  0.205802\n",
      "4   0.770115  0.229374\n",
      "5   0.793103  0.258775\n",
      "6   0.827586  0.288175\n",
      "7   0.528736  0.686051\n",
      "8   0.091954  0.805595\n",
      "9   0.724138  0.389716\n",
      "10  0.816092  0.846004\n",
      "11  0.241379  0.680482\n",
      "12  0.333333  0.086388\n",
      "13  0.034483  0.178863\n",
      "14  0.160920  0.704960\n",
      "15  0.689655  0.751069\n",
      "16  0.321839  0.389069\n",
      "17  0.505747  0.620515\n",
      "18  0.505747  0.516254\n",
      "19  0.942529  1.000000\n",
      "20  0.310345  0.238829\n",
      "21  0.344828  0.798342\n",
      "22  1.000000  0.105815\n",
      "23  0.689655  0.365108\n",
      "24  0.333333  0.940422\n",
      "25  0.528736  0.533739\n",
      "26  0.862069  0.812848\n",
      "27  0.770115  0.064888\n",
      "28  0.241379  0.830333\n",
      "29  0.678161  0.036265\n",
      "30  1.000000  0.253465\n",
      "31  0.586207  0.576350\n",
      "32  0.195402  0.000648\n",
      "33  0.793103  0.853128\n",
      "34  0.919540  0.064370\n",
      "35  0.689655  0.889911\n",
      "36  0.965517  0.134827\n",
      "37  0.000000  0.091180\n",
      "38  0.517241  0.248802\n",
      "39  0.747126  0.285326\n",
      "40  0.471264  0.528040\n",
      "41  0.413793  0.000000\n",
      "42  0.448276  0.011786\n",
      "43  0.471264  0.029400\n",
      "44  0.505747  0.047015\n",
      "45  0.528736  0.064629\n",
      "46  0.563218  0.082373\n",
      "47  0.597701  0.099987\n",
      "48  0.620690  0.117601\n"
     ]
    }
   ],
   "source": [
    "\n",
    "print(scaled_df)"
   ]
  },
  {
   "cell_type": "markdown",
   "id": "b7732f7b",
   "metadata": {},
   "source": [
    "### 5. Agregar registro"
   ]
  },
  {
   "cell_type": "code",
   "execution_count": 50,
   "id": "4a5a48db",
   "metadata": {},
   "outputs": [
    {
     "name": "stdout",
     "output_type": "stream",
     "text": [
      "     Año  temperatura\n",
      "0   1960         71.4\n",
      "1   1961         71.9\n",
      "2   1962         71.9\n",
      "3   1963         72.3\n",
      "4   1964         71.7\n",
      "..   ...          ...\n",
      "57  2017         74.6\n",
      "58  2018         73.5\n",
      "59  2019         72.7\n",
      "60  2020         74.6\n",
      "61  2021         73.5\n",
      "\n",
      "[62 rows x 2 columns]\n"
     ]
    }
   ],
   "source": [
    "df_2_5 = df_2_3.copy()\n",
    "print(df_2_5)"
   ]
  },
  {
   "cell_type": "code",
   "execution_count": 51,
   "id": "98eeb564",
   "metadata": {},
   "outputs": [],
   "source": [
    "nueva_temperatura = pd.DataFrame.from_dict([{'Año': '2022', 'temperatura': '74.3'}])"
   ]
  },
  {
   "cell_type": "code",
   "execution_count": 52,
   "id": "00bb6283",
   "metadata": {},
   "outputs": [],
   "source": [
    "df_2_5 = pd.concat([df_2_5, nueva_temperatura], ignore_index=True)"
   ]
  },
  {
   "cell_type": "code",
   "execution_count": 53,
   "id": "53326e86",
   "metadata": {},
   "outputs": [
    {
     "name": "stdout",
     "output_type": "stream",
     "text": [
      "     Año temperatura\n",
      "53  2013        72.4\n",
      "54  2014        72.5\n",
      "55  2015        74.4\n",
      "56  2016        74.9\n",
      "57  2017        74.6\n",
      "58  2018        73.5\n",
      "59  2019        72.7\n",
      "60  2020        74.6\n",
      "61  2021        73.5\n",
      "62  2022        74.3\n"
     ]
    }
   ],
   "source": [
    "print(df_2_5.tail(10))"
   ]
  },
  {
   "cell_type": "markdown",
   "id": "08638231",
   "metadata": {},
   "source": [
    "### 6. Convertir array en dataframe"
   ]
  },
  {
   "cell_type": "code",
   "execution_count": 54,
   "id": "2b738fe4",
   "metadata": {},
   "outputs": [],
   "source": [
    "import numpy as np"
   ]
  },
  {
   "cell_type": "code",
   "execution_count": 55,
   "id": "dfe52f1f",
   "metadata": {},
   "outputs": [],
   "source": [
    "emisiones = np.array(\n",
    "[['Motor', 'Cilindros', 'Consumo Ciudad', 'Consumo Carretera', 'CO2'],\n",
    "[2,4,13.7,9.4,382],\n",
    "[4.3,4,14.3,9,347],\n",
    "[4,4,9.5,8.5,327],\n",
    "[4.4,6,18.4,7.1,377],\n",
    "[2.7,6,13.7,9.3,294],\n",
    "[3.1,6,19.4,6.4,297],\n",
    "[4,4,9.6,13.3,313],\n",
    "[1.8,6,11.5,18,207],\n",
    "[6.3,4,11.6,9.6,253],\n",
    "[5,6,11.3,9.7,269],\n",
    "[2.8,8,13.1,10,235],\n",
    "[2.2,8,13.2,10.6,235],\n",
    "[2.8,8,13.3,6.9,307],\n",
    "[4,8,11.9,6.7,354],\n",
    "[4,8,12.9,5.7,337],\n",
    "[3.9,8,12.6,5.8,368],\n",
    "[3.8,6,13.1,6.1,327],\n",
    "[4,6,12.8,5.9,205],\n",
    "[5,6,13.3,6.5,193],\n",
    "[6.7,6,19.7,6.1,207],\n",
    "[4,6,16.7,5.9,209],\n",
    "[2.9,8,19.7,8.4,200],\n",
    "[2.7,8,16.7,8.3,193],\n",
    "[3.1,4,10,9.6,235],\n",
    "[3.6,4,11.5,10.2,239],\n",
    "[3.9,4,9.3,11.2,230],\n",
    "[2.1,4,12.2,7.2,278]])"
   ]
  },
  {
   "cell_type": "code",
   "execution_count": 56,
   "id": "77370a3a",
   "metadata": {},
   "outputs": [],
   "source": [
    "df_emisiones = pd.DataFrame(data=emisiones[1:].astype(float), columns=emisiones[0])"
   ]
  },
  {
   "cell_type": "code",
   "execution_count": 57,
   "id": "5d7d0621",
   "metadata": {},
   "outputs": [
    {
     "name": "stdout",
     "output_type": "stream",
     "text": [
      "    Motor  Cilindros  Consumo Ciudad  Consumo Carretera    CO2\n",
      "0     2.0        4.0            13.7                9.4  382.0\n",
      "1     4.3        4.0            14.3                9.0  347.0\n",
      "2     4.0        4.0             9.5                8.5  327.0\n",
      "3     4.4        6.0            18.4                7.1  377.0\n",
      "4     2.7        6.0            13.7                9.3  294.0\n",
      "5     3.1        6.0            19.4                6.4  297.0\n",
      "6     4.0        4.0             9.6               13.3  313.0\n",
      "7     1.8        6.0            11.5               18.0  207.0\n",
      "8     6.3        4.0            11.6                9.6  253.0\n",
      "9     5.0        6.0            11.3                9.7  269.0\n",
      "10    2.8        8.0            13.1               10.0  235.0\n",
      "11    2.2        8.0            13.2               10.6  235.0\n",
      "12    2.8        8.0            13.3                6.9  307.0\n",
      "13    4.0        8.0            11.9                6.7  354.0\n",
      "14    4.0        8.0            12.9                5.7  337.0\n",
      "15    3.9        8.0            12.6                5.8  368.0\n",
      "16    3.8        6.0            13.1                6.1  327.0\n",
      "17    4.0        6.0            12.8                5.9  205.0\n",
      "18    5.0        6.0            13.3                6.5  193.0\n",
      "19    6.7        6.0            19.7                6.1  207.0\n",
      "20    4.0        6.0            16.7                5.9  209.0\n",
      "21    2.9        8.0            19.7                8.4  200.0\n",
      "22    2.7        8.0            16.7                8.3  193.0\n",
      "23    3.1        4.0            10.0                9.6  235.0\n",
      "24    3.6        4.0            11.5               10.2  239.0\n",
      "25    3.9        4.0             9.3               11.2  230.0\n",
      "26    2.1        4.0            12.2                7.2  278.0\n"
     ]
    }
   ],
   "source": [
    "print(df_emisiones)"
   ]
  },
  {
   "cell_type": "markdown",
   "id": "62d269e3",
   "metadata": {},
   "source": [
    "### 7. Extracción de columnas numéricas"
   ]
  },
  {
   "cell_type": "code",
   "execution_count": 58,
   "id": "ccd9732c",
   "metadata": {},
   "outputs": [],
   "source": [
    "df_2_7 = pd.read_csv('emisiones.csv', delimiter=\";\")"
   ]
  },
  {
   "cell_type": "code",
   "execution_count": 59,
   "id": "e18cdf5b",
   "metadata": {},
   "outputs": [],
   "source": [
    "columnas_numericas = df_2_7.select_dtypes(include=['float', 'int'])"
   ]
  },
  {
   "cell_type": "code",
   "execution_count": 60,
   "id": "de46ba09",
   "metadata": {},
   "outputs": [
    {
     "name": "stdout",
     "output_type": "stream",
     "text": [
      "    Motor  Cilindros  Consumo Ciudad  Consumo Carretera  CO2\n",
      "0     2.1          4            13.7                9.1  290\n",
      "1     2.6          4            12.7                8.6  327\n",
      "2     2.0          4            13.7                9.4  382\n",
      "3     4.3          4            14.3                9.0  347\n",
      "4     3.6          4            14.6               10.4  377\n",
      "..    ...        ...             ...                ...  ...\n",
      "94    3.7          4            16.7               10.3  248\n",
      "95    3.1          4            10.0                9.6  235\n",
      "96    3.6          4            11.5               10.2  239\n",
      "97    3.9          4             9.3               11.2  230\n",
      "98    2.1          4            12.2                7.2  278\n",
      "\n",
      "[99 rows x 5 columns]\n"
     ]
    }
   ],
   "source": [
    "print(columnas_numericas)"
   ]
  },
  {
   "cell_type": "markdown",
   "id": "4958f78d",
   "metadata": {},
   "source": [
    "### 8. Extraer filas de un array"
   ]
  },
  {
   "cell_type": "code",
   "execution_count": 61,
   "id": "accb29a5",
   "metadata": {},
   "outputs": [],
   "source": [
    "emisiones_2_8 = np.array(\n",
    "[[2,4,13.7,9.4,382],\n",
    "[4.3,4,14.3,9,347],\n",
    "[4,4,9.5,8.5,327],\n",
    "[4.4,6,18.4,7.1,377],\n",
    "[2.7,6,13.7,9.3,294],\n",
    "[3.1,6,19.4,6.4,297],\n",
    "[4,4,9.6,13.3,313],\n",
    "[1.8,6,11.5,18,207],\n",
    "[6.3,4,11.6,9.6,253],\n",
    "[5,6,11.3,9.7,269],\n",
    "[2.8,8,13.1,10,235],\n",
    "[2.2,8,13.2,10.6,235],\n",
    "[2.8,8,13.3,6.9,307],\n",
    "[4,8,11.9,6.7,354],\n",
    "[4,8,12.9,5.7,337],\n",
    "[3.9,8,12.6,5.8,368],\n",
    "[3.8,6,13.1,6.1,327],\n",
    "[4,6,12.8,5.9,205],\n",
    "[5,6,13.3,6.5,193],\n",
    "[6.7,6,19.7,6.1,207],\n",
    "[4,6,16.7,5.9,209],\n",
    "[2.9,8,19.7,8.4,200],\n",
    "[2.7,8,16.7,8.3,193],\n",
    "[3.1,4,10,9.6,235],\n",
    "[3.6,4,11.5,10.2,239],\n",
    "[3.9,4,9.3,11.2,230],\n",
    "[2.1,4,12.2,7.2,278]])"
   ]
  },
  {
   "cell_type": "code",
   "execution_count": 62,
   "id": "99f551c3",
   "metadata": {},
   "outputs": [],
   "source": [
    "filas_co2_alto = emisiones_2_8[emisiones_2_8[:, 4] > 204.0]"
   ]
  },
  {
   "cell_type": "code",
   "execution_count": 63,
   "id": "2bf2f152",
   "metadata": {},
   "outputs": [
    {
     "name": "stdout",
     "output_type": "stream",
     "text": [
      "[[  2.    4.   13.7   9.4 382. ]\n",
      " [  4.3   4.   14.3   9.  347. ]\n",
      " [  4.    4.    9.5   8.5 327. ]\n",
      " [  4.4   6.   18.4   7.1 377. ]\n",
      " [  2.7   6.   13.7   9.3 294. ]\n",
      " [  3.1   6.   19.4   6.4 297. ]\n",
      " [  4.    4.    9.6  13.3 313. ]\n",
      " [  1.8   6.   11.5  18.  207. ]\n",
      " [  6.3   4.   11.6   9.6 253. ]\n",
      " [  5.    6.   11.3   9.7 269. ]\n",
      " [  2.8   8.   13.1  10.  235. ]\n",
      " [  2.2   8.   13.2  10.6 235. ]\n",
      " [  2.8   8.   13.3   6.9 307. ]\n",
      " [  4.    8.   11.9   6.7 354. ]\n",
      " [  4.    8.   12.9   5.7 337. ]\n",
      " [  3.9   8.   12.6   5.8 368. ]\n",
      " [  3.8   6.   13.1   6.1 327. ]\n",
      " [  4.    6.   12.8   5.9 205. ]\n",
      " [  6.7   6.   19.7   6.1 207. ]\n",
      " [  4.    6.   16.7   5.9 209. ]\n",
      " [  3.1   4.   10.    9.6 235. ]\n",
      " [  3.6   4.   11.5  10.2 239. ]\n",
      " [  3.9   4.    9.3  11.2 230. ]\n",
      " [  2.1   4.   12.2   7.2 278. ]]\n"
     ]
    }
   ],
   "source": [
    "print(filas_co2_alto)"
   ]
  },
  {
   "cell_type": "markdown",
   "id": "7fa4b2e1",
   "metadata": {},
   "source": [
    "### 9. Selección de registros altos"
   ]
  },
  {
   "cell_type": "markdown",
   "id": "1d4b3dbb",
   "metadata": {},
   "source": [
    "En este apartado tomamos aquellas 10 filas que tienen mayor cantidad de emisiones"
   ]
  },
  {
   "cell_type": "code",
   "execution_count": 64,
   "id": "eea44a54",
   "metadata": {},
   "outputs": [],
   "source": [
    "emisiones_2_9 = emisiones_2_8.copy()"
   ]
  },
  {
   "cell_type": "code",
   "execution_count": 65,
   "id": "a8bcb8e6",
   "metadata": {},
   "outputs": [],
   "source": [
    "primeras_filas = emisiones_2_9[emisiones_2_9[:, 4].argsort()[::-1]][:10]"
   ]
  },
  {
   "cell_type": "code",
   "execution_count": 66,
   "id": "215ae035",
   "metadata": {},
   "outputs": [
    {
     "name": "stdout",
     "output_type": "stream",
     "text": [
      "[[  2.    4.   13.7   9.4 382. ]\n",
      " [  4.4   6.   18.4   7.1 377. ]\n",
      " [  3.9   8.   12.6   5.8 368. ]\n",
      " [  4.    8.   11.9   6.7 354. ]\n",
      " [  4.3   4.   14.3   9.  347. ]\n",
      " [  4.    8.   12.9   5.7 337. ]\n",
      " [  4.    4.    9.5   8.5 327. ]\n",
      " [  3.8   6.   13.1   6.1 327. ]\n",
      " [  4.    4.    9.6  13.3 313. ]\n",
      " [  2.8   8.   13.3   6.9 307. ]]\n"
     ]
    }
   ],
   "source": [
    "print(primeras_filas)"
   ]
  },
  {
   "cell_type": "markdown",
   "id": "d257b8ed",
   "metadata": {},
   "source": [
    "### 10. Permutar columnas de un dataframe"
   ]
  },
  {
   "cell_type": "code",
   "execution_count": 67,
   "id": "f68840df",
   "metadata": {},
   "outputs": [],
   "source": [
    "\n",
    "df_2_10 = pd.read_csv('emisiones2.csv', delimiter=\";\")"
   ]
  },
  {
   "cell_type": "code",
   "execution_count": 68,
   "id": "11c52703",
   "metadata": {},
   "outputs": [
    {
     "name": "stdout",
     "output_type": "stream",
     "text": [
      "    Motor  Cilindros  Consumo Ciudad  Consumo Autopista  CO2\n",
      "0     2.1          4            13.7                9.1  290\n",
      "1     2.6          4            12.7                8.6  327\n",
      "2     2.0          4            13.7                9.4  382\n",
      "3     4.3          4            14.3                9.0  347\n",
      "4     3.6          4            14.6               10.4  377\n",
      "..    ...        ...             ...                ...  ...\n",
      "94    3.7          4            16.7               10.3  248\n",
      "95    3.1          4            10.0                9.6  235\n",
      "96    3.6          4            11.5               10.2  239\n",
      "97    3.9          4             9.3               11.2  230\n",
      "98    2.1          4            12.2                7.2  278\n",
      "\n",
      "[99 rows x 5 columns]\n"
     ]
    }
   ],
   "source": [
    "print(df_2_10)"
   ]
  },
  {
   "cell_type": "markdown",
   "id": "b31101b4",
   "metadata": {},
   "source": [
    "Usamos la función .iloc que toma como argumento dos arrays, el primero corresponde a las filas y el segundo a las columnas. Estos arrays muestran a través de los índices, el nuevo orden de filas y columnsa, respectivamente."
   ]
  },
  {
   "cell_type": "code",
   "execution_count": 69,
   "id": "37887f3c",
   "metadata": {},
   "outputs": [],
   "source": [
    "df_2_10 = df_2_10.iloc[:,[0,1,3,2,4]]"
   ]
  },
  {
   "cell_type": "code",
   "execution_count": 70,
   "id": "841deb0e",
   "metadata": {},
   "outputs": [
    {
     "name": "stdout",
     "output_type": "stream",
     "text": [
      "    Motor  Cilindros  Consumo Autopista  Consumo Ciudad  CO2\n",
      "0     2.1          4                9.1            13.7  290\n",
      "1     2.6          4                8.6            12.7  327\n",
      "2     2.0          4                9.4            13.7  382\n",
      "3     4.3          4                9.0            14.3  347\n",
      "4     3.6          4               10.4            14.6  377\n",
      "..    ...        ...                ...             ...  ...\n",
      "94    3.7          4               10.3            16.7  248\n",
      "95    3.1          4                9.6            10.0  235\n",
      "96    3.6          4               10.2            11.5  239\n",
      "97    3.9          4               11.2             9.3  230\n",
      "98    2.1          4                7.2            12.2  278\n",
      "\n",
      "[99 rows x 5 columns]\n"
     ]
    }
   ],
   "source": [
    "print(df_2_10)"
   ]
  },
  {
   "cell_type": "markdown",
   "id": "c01f5529",
   "metadata": {},
   "source": [
    "## 3. Machine learning"
   ]
  },
  {
   "cell_type": "markdown",
   "id": "26e319e3",
   "metadata": {},
   "source": [
    "### 1. Mean shift"
   ]
  },
  {
   "cell_type": "code",
   "execution_count": 71,
   "id": "8a1fca4a",
   "metadata": {},
   "outputs": [],
   "source": [
    "from sklearn.cluster import MeanShift, estimate_bandwidth\n",
    "from sklearn.datasets import make_blobs  \n",
    "from matplotlib import pyplot as plt "
   ]
  },
  {
   "cell_type": "markdown",
   "id": "28773b60",
   "metadata": {},
   "source": [
    "Generamos dos puntos en el espacio y entorno a estos generamos 50 puntos en torno a cada uno con una desviación típica de 0.70. La $X$ representa la coordenada del punto y la $y$ el cluster al que pertenece."
   ]
  },
  {
   "cell_type": "code",
   "execution_count": 72,
   "id": "06138328",
   "metadata": {},
   "outputs": [
    {
     "name": "stdout",
     "output_type": "stream",
     "text": [
      "[[1.80070157 2.51530547 2.14169764]\n",
      " [5.3054507  6.3710761  5.66136154]\n",
      " [6.44662477 5.05544811 6.12723336]\n",
      " [5.5640286  6.20938517 4.66201557]\n",
      " [5.53563932 6.39684044 5.25490064]\n",
      " [5.43256662 6.06068412 6.62722459]\n",
      " [1.18691527 3.43939937 1.92754164]\n",
      " [1.96422238 2.28270335 1.91195831]\n",
      " [2.79862779 2.18548423 0.6551405 ]\n",
      " [1.96343748 3.85714796 1.17856925]\n",
      " [4.60590369 6.09291156 5.38612172]\n",
      " [4.92197194 5.68417258 6.46997543]\n",
      " [2.57528697 1.27232593 1.0250501 ]\n",
      " [5.22175467 6.69802519 6.72180584]\n",
      " [2.98732395 1.69954371 2.34421668]\n",
      " [1.03518081 2.29456515 1.54881874]\n",
      " [5.18820809 5.00219953 5.29172061]\n",
      " [5.48130164 5.60464581 6.11540719]\n",
      " [6.18615255 5.70329193 6.75072031]\n",
      " [1.74562481 1.50404301 1.70771386]\n",
      " [2.15584175 3.1017264  1.32794072]\n",
      " [3.04521364 3.76359777 1.33389182]\n",
      " [7.17043635 5.26926175 6.08711545]\n",
      " [1.51057082 1.50478055 1.6882895 ]\n",
      " [2.81927461 1.29909401 2.17523775]\n",
      " [6.21351656 5.9808125  5.65867429]\n",
      " [1.98750555 0.64834926 2.2788374 ]\n",
      " [1.02061607 2.77891586 1.47567189]\n",
      " [5.53538104 4.93761627 5.85953513]\n",
      " [6.61432615 5.41289843 6.57902255]\n",
      " [6.241591   5.58885046 5.45373024]\n",
      " [5.94059545 4.86818564 7.24567342]\n",
      " [6.42338552 6.02802368 5.22005553]\n",
      " [6.71882492 5.21609557 5.30204134]\n",
      " [6.77040314 7.14845739 6.00019807]\n",
      " [6.27769467 5.86068868 4.7066349 ]\n",
      " [4.01339474 5.183719   5.11095659]\n",
      " [1.77017138 2.16947497 1.90427301]\n",
      " [6.08998549 6.11532475 6.93033174]\n",
      " [2.87895491 2.107701   1.6073994 ]\n",
      " [5.97691222 5.38645925 5.31950552]\n",
      " [0.45189826 0.9210157  3.01631417]\n",
      " [5.8899937  5.48914035 5.2697802 ]\n",
      " [6.79681792 6.4044732  6.34605012]\n",
      " [5.69400203 6.52388986 6.82573335]\n",
      " [2.49003857 1.57148432 1.13621204]\n",
      " [5.1493117  5.24723437 5.53678453]\n",
      " [5.57460036 6.8838402  6.20163119]\n",
      " [1.90878201 2.72625218 2.36000406]\n",
      " [1.10553349 1.07548337 2.1020569 ]\n",
      " [1.126603   2.82073493 1.58002649]\n",
      " [1.01457523 1.94867236 2.12057262]\n",
      " [5.94066067 5.73565892 5.08960255]\n",
      " [1.95092572 1.60757124 2.49054472]\n",
      " [7.08213353 6.15065836 6.28648673]\n",
      " [4.88435574 4.9256322  5.75526273]\n",
      " [6.4167286  7.1811248  5.14371993]\n",
      " [3.09491577 2.03028544 2.38527451]\n",
      " [1.25989522 2.22674021 1.32793999]\n",
      " [6.64224096 6.40883597 6.24047482]\n",
      " [1.92085848 2.25809431 1.86318573]\n",
      " [4.70679355 5.82833403 4.84629757]\n",
      " [6.40953704 6.12826412 5.14440916]\n",
      " [5.22580894 6.2178044  6.6285914 ]\n",
      " [4.57682436 6.37340279 6.07747956]\n",
      " [5.97584802 6.06057432 5.46761237]\n",
      " [2.61816377 1.5749015  1.12424772]\n",
      " [6.0420155  6.08781439 6.13754099]\n",
      " [6.14051987 7.00017613 5.95616932]\n",
      " [0.83247252 0.70970273 3.33310341]\n",
      " [6.998976   6.2639246  5.59167976]\n",
      " [3.04959193 2.14296201 1.76424726]\n",
      " [4.72017135 5.805167   4.88054764]\n",
      " [2.3693754  1.48710785 3.29384906]\n",
      " [1.69181998 1.60330431 3.00190086]\n",
      " [1.33278166 2.88442709 2.48803025]\n",
      " [3.49578532 1.52110497 2.34536314]\n",
      " [1.12552995 1.58820512 2.2455316 ]\n",
      " [1.99427572 1.4863079  1.51091319]\n",
      " [2.29259729 1.65894875 1.52814782]\n",
      " [5.92581975 5.56946748 5.84800276]\n",
      " [1.45855977 1.53285058 2.56129861]\n",
      " [5.9142248  5.35658534 5.83082051]\n",
      " [7.56488585 5.95262171 5.86792117]\n",
      " [2.44155245 1.71800063 1.32122639]\n",
      " [5.48169316 5.70034063 6.02811462]\n",
      " [5.13231483 5.78065371 5.16384829]\n",
      " [2.34635674 2.10188775 0.57185703]\n",
      " [3.04391242 2.03880734 1.64318539]\n",
      " [0.45552027 2.43709203 1.06682808]\n",
      " [2.94960325 0.72240248 0.98982822]\n",
      " [6.76406991 5.06672578 7.15557373]\n",
      " [1.36144303 2.0191803  2.11613118]\n",
      " [6.54409141 5.55655651 6.05382574]\n",
      " [1.11177807 0.96046022 1.4367212 ]\n",
      " [1.58339043 2.08490513 2.78540646]\n",
      " [2.15081346 2.89364293 3.06637707]\n",
      " [1.40985094 3.63076904 2.00976562]\n",
      " [1.27458797 1.67224345 3.12479073]\n",
      " [0.80173118 2.03319691 1.60614925]] [1 0 0 0 0 0 1 1 1 1 0 0 1 0 1 1 0 0 0 1 1 1 0 1 1 0 1 1 0 0 0 0 0 0 0 0 0\n",
      " 1 0 1 0 1 0 0 0 1 0 0 1 1 1 1 0 1 0 0 0 1 1 0 1 0 0 0 0 0 1 0 0 1 0 1 0 1\n",
      " 1 1 1 1 1 1 0 1 0 0 1 0 0 1 1 1 1 0 1 0 1 1 1 1 1 1]\n"
     ]
    }
   ],
   "source": [
    "clusters = [[6,6,6], [2,2,2]]\n",
    "X, y = make_blobs(centers = clusters, cluster_std = 0.70)\n",
    "print(X,y)"
   ]
  },
  {
   "cell_type": "markdown",
   "id": "eb7401c5",
   "metadata": {},
   "source": [
    "A continuación toma `n_samples` aleatorias del conjunto $X$ y define la matriz de distancias a traves de estos, obteniendo una matriz en la cual la diagonal está compuesta de ceros. Tras esto devuelve el percentil $30$% excluyendo la diagonal, esto es, el valor que deja el $30$% de distancias por debajo de este."
   ]
  },
  {
   "cell_type": "markdown",
   "id": "5c6cec40",
   "metadata": {},
   "source": [
    "Con la función `MeanShift()`, definimos el mínimo de vectores de densidad $k$, de tal forma que con $k$ bolas de radio `bandwidth`, abarcamos todos los puntos. Luego guardamos dichos centros en `cluster_centers`."
   ]
  },
  {
   "cell_type": "code",
   "execution_count": 73,
   "id": "41b0050c",
   "metadata": {},
   "outputs": [
    {
     "name": "stdout",
     "output_type": "stream",
     "text": [
      "1.7236683684179541\n",
      "[[5.90111552 5.9245818  5.7958238 ]\n",
      " [1.86414951 2.0140439  1.89436839]]\n"
     ]
    }
   ],
   "source": [
    "bandwidth = estimate_bandwidth(X, n_samples=500)\n",
    "print(bandwidth)\n",
    "meanshift = MeanShift(bandwidth=bandwidth)\n",
    "meanshift.fit(X)\n",
    "cluster_centers = meanshift.cluster_centers_\n",
    "print(cluster_centers)"
   ]
  },
  {
   "cell_type": "code",
   "execution_count": 74,
   "id": "c2da991b",
   "metadata": {},
   "outputs": [
    {
     "data": {
      "image/png": "[encoded data removed]",
      "text/plain": [
       "<Figure size 640x480 with 1 Axes>"
      ]
     },
     "metadata": {},
     "output_type": "display_data"
    }
   ],
   "source": [
    "fig = plt.figure()\n",
    "  \n",
    "ax = fig.add_subplot(111, projection ='3d')\n",
    "  \n",
    "ax.scatter(X[:, 0], X[:, 1], marker ='.', color =\"yellowgreen\")\n",
    "ax.scatter(cluster_centers[:, 0], cluster_centers[:, 1], marker ='o', color ='red', s=10, linewidth=5,  \n",
    "                                   zorder=10)\n",
    "plt.show()\n"
   ]
  },
  {
   "cell_type": "markdown",
   "id": "2b8d8af8",
   "metadata": {},
   "source": [
    "### 2. k-means."
   ]
  },
  {
   "cell_type": "code",
   "execution_count": 75,
   "id": "9112b5ce",
   "metadata": {},
   "outputs": [],
   "source": [
    "from sklearn.cluster import KMeans"
   ]
  },
  {
   "cell_type": "code",
   "execution_count": 76,
   "id": "fe7a083b",
   "metadata": {},
   "outputs": [],
   "source": [
    "df_3_2 = pd.read_csv('clusters.csv', delimiter=\";\")"
   ]
  },
  {
   "cell_type": "code",
   "execution_count": 77,
   "id": "bb59d614",
   "metadata": {},
   "outputs": [
    {
     "name": "stdout",
     "output_type": "stream",
     "text": [
      "   Latitud  Longitud\n",
      "0   8.9784  -83.0378\n",
      "1   8.9786  -83.0833\n",
      "2   9.0236  -83.0377\n",
      "3   8.9786  -83.0833\n",
      "4   9.0246  -83.3104\n",
      "5   8.9794  -83.3106\n",
      "6   8.9343  -83.3562\n",
      "7   9.0247  -83.3559\n",
      "8   8.9792  -83.2651\n",
      "9   8.9792  -83.2651\n"
     ]
    }
   ],
   "source": [
    "print(df_3_2.head(10))"
   ]
  },
  {
   "cell_type": "markdown",
   "id": "a7fb60a8",
   "metadata": {},
   "source": [
    "El algoritmo de `k-means`, define un número de clusters y a partir de estos, agrupa cada dato con su cluster más próximo. "
   ]
  },
  {
   "cell_type": "code",
   "execution_count": 78,
   "id": "d33e1bb7",
   "metadata": {},
   "outputs": [],
   "source": [
    "kmeans = KMeans(n_clusters=4)\n",
    "kmeans.fit(df_3_2)\n",
    "y_kmeans = kmeans.predict(df_3_2)\n",
    "cluster_centers = kmeans.cluster_centers_"
   ]
  },
  {
   "cell_type": "code",
   "execution_count": 79,
   "id": "66e6a2c8",
   "metadata": {},
   "outputs": [
    {
     "data": {
      "text/plain": [
       "Text(0, 0.5, 'Longitud')"
      ]
     },
     "execution_count": 79,
     "metadata": {},
     "output_type": "execute_result"
    },
    {
     "data": {
      "image/png": "[encoded data removed]",
      "text/plain": [
       "<Figure size 640x480 with 1 Axes>"
      ]
     },
     "metadata": {},
     "output_type": "display_data"
    }
   ],
   "source": [
    "plt.scatter(df_3_2['Latitud'], df_3_2['Longitud'], c=y_kmeans, s=20)\n",
    "plt.scatter(cluster_centers[:, 0], cluster_centers[:, 1], c='red', s=200)\n",
    "plt.xlabel('Latitud')\n",
    "plt.ylabel('Longitud')"
   ]
  },
  {
   "cell_type": "markdown",
   "id": "4e259c18",
   "metadata": {},
   "source": [
    "### 4. Cluster aglomerativo"
   ]
  },
  {
   "cell_type": "code",
   "execution_count": 80,
   "id": "92e6672a",
   "metadata": {},
   "outputs": [],
   "source": [
    "from scipy.cluster.hierarchy import dendrogram, linkage\n",
    "from sklearn.preprocessing import normalize\n",
    "from sklearn.cluster import AgglomerativeClustering"
   ]
  },
  {
   "cell_type": "code",
   "execution_count": 81,
   "id": "a5840423",
   "metadata": {},
   "outputs": [],
   "source": [
    "df_3_3 = pd.read_csv('clientes.csv', delimiter=\";\")"
   ]
  },
  {
   "cell_type": "code",
   "execution_count": 82,
   "id": "fa941498",
   "metadata": {},
   "outputs": [
    {
     "name": "stdout",
     "output_type": "stream",
     "text": [
      "   Salario  Gasto\n",
      "0     1500   0.08\n",
      "1     1500   0.25\n",
      "2     1600   0.11\n",
      "3     1600   0.06\n",
      "4     1700   0.21\n"
     ]
    }
   ],
   "source": [
    "print(df_3_3.head())"
   ]
  },
  {
   "cell_type": "markdown",
   "id": "03b6b402",
   "metadata": {},
   "source": [
    "La función `dendrogram`, toma los datos y va haciendo clusters entre ellos. En el método `ward`, fusionará aquellos clusters que minimicen la varianza de todos los datos de los clusters involucrados."
   ]
  },
  {
   "cell_type": "code",
   "execution_count": 83,
   "id": "692147b7",
   "metadata": {},
   "outputs": [
    {
     "data": {
      "text/plain": [
       "<matplotlib.lines.Line2D at 0x1d6ff7e7320>"
      ]
     },
     "execution_count": 83,
     "metadata": {},
     "output_type": "execute_result"
    },
    {
     "data": {
      "image/png": "[encoded data removed]",
      "text/plain": [
       "<Figure size 640x480 with 1 Axes>"
      ]
     },
     "metadata": {},
     "output_type": "display_data"
    }
   ],
   "source": [
    "dendrogram(linkage(df_3_3, method='ward',  metric='euclidean'))\n",
    "plt.axhline(y=15000, color='r', linestyle='--')"
   ]
  },
  {
   "cell_type": "markdown",
   "id": "7081f43e",
   "metadata": {},
   "source": [
    "La función `AgglomerativeClustering()`, lo que hace ahora es dividir los datos en tres bloques a partir del gráfico anterior, es decir, baja a lo largo del eje y de la gráfica hasta que se formen 3 clusters. En este caso se ve qeu la linea roja punteada ya lo divide en 3 grupos."
   ]
  },
  {
   "cell_type": "code",
   "execution_count": 84,
   "id": "8953d116",
   "metadata": {},
   "outputs": [],
   "source": [
    "agglomerative = AgglomerativeClustering(n_clusters=3, metric='euclidean', linkage='ward')\n",
    "agglomerative.fit(df_3_3)\n",
    "labels = agglomerative.labels_"
   ]
  },
  {
   "cell_type": "code",
   "execution_count": 85,
   "id": "3ecbc4c8",
   "metadata": {},
   "outputs": [
    {
     "name": "stdout",
     "output_type": "stream",
     "text": [
      "[2 2 2 2 2 2 2 2 2 2 2 2 2 2 2 2 2 2 2 2 2 2 2 2 2 2 2 2 2 2 2 2 2 2 2 2 2\n",
      " 0 0 0 0 0 0 0 0 0 0 0 0 0 0 0 0 0 0 0 0 0 0 0 0 0 0 0 0 0 0 0 0 0 0 0 0 0\n",
      " 0 0 0 0 0 0 0 0 0 0 0 0 0 0 0 0 0 0 0 0 0 0 0 0 0 0 0 0 0 0 0 0 0 0 0 0 0\n",
      " 0 0 0 0 1 1 1 1 1 1 1 1 1 1 1 1 1 1 1 1 1 1 1 1 1 1 1 1 1 1 1 1 1 1 1 1 1\n",
      " 1 1 1 1 1 1 1 1 1 1 1 1 1 1 1 1 1 1 1 1 1 1 1 1 1]\n"
     ]
    }
   ],
   "source": [
    "print(labels)"
   ]
  },
  {
   "cell_type": "code",
   "execution_count": 86,
   "id": "361302bd",
   "metadata": {},
   "outputs": [
    {
     "data": {
      "text/plain": [
       "Text(0, 0.5, 'Porcentaje Gasto Mensual')"
      ]
     },
     "execution_count": 86,
     "metadata": {},
     "output_type": "execute_result"
    },
    {
     "data": {
      "image/png": "[encoded data removed]",
      "text/plain": [
       "<Figure size 640x480 with 1 Axes>"
      ]
     },
     "metadata": {},
     "output_type": "display_data"
    }
   ],
   "source": [
    "plt.scatter(df_3_3['Salario'], df_3_3['Gasto'], c=labels) \n",
    "plt.xlabel('Salario Mensual')\n",
    "plt.ylabel('Porcentaje Gasto Mensual')"
   ]
  },
  {
   "cell_type": "markdown",
   "id": "4378b9b6",
   "metadata": {},
   "source": [
    "### 4. DBSCAN"
   ]
  },
  {
   "cell_type": "code",
   "execution_count": 87,
   "id": "ba3ab97c",
   "metadata": {},
   "outputs": [],
   "source": [
    "from sklearn.cluster import DBSCAN"
   ]
  },
  {
   "cell_type": "code",
   "execution_count": 88,
   "id": "dda6b2e4",
   "metadata": {},
   "outputs": [],
   "source": [
    "df_3_4 = pd.read_csv('datos_3_4.csv', delimiter=\";\")"
   ]
  },
  {
   "cell_type": "code",
   "execution_count": 89,
   "id": "a8333771",
   "metadata": {},
   "outputs": [
    {
     "name": "stdout",
     "output_type": "stream",
     "text": [
      "   Variable1  Variable2\n",
      "0  -4.030499  -6.955657\n",
      "1  -6.687653   7.467359\n",
      "2  -3.334960   5.775981\n",
      "3  -5.812554  -7.506389\n",
      "4  -6.648924   7.142999\n"
     ]
    }
   ],
   "source": [
    "print(df_3_4.head())"
   ]
  },
  {
   "cell_type": "markdown",
   "id": "01c0120b",
   "metadata": {},
   "source": [
    "Density-Based Spatial Clustering of Applications with Noise, es un algoritmo que funciona de la siguiente forma. En python tiene los argumentos `eps` y `min_samples`. Dado un conjunto de puntos, define en torno a estos unas bolas de radio `eps`. Dado un punto diremos que es el núcleo de un clúster si dentro de su bola hay al menos `min_samples` puntos. Por lo tanto, un punto pertenece a un cluster si pertenece a la bola de un núcleo o si existe una cadena de puntos con una distancia de menos de `eps` que llegue hasta un núcleo. Si se puede llegar de un núcleo a otro núcleo a través de esta cadena, se fusionaran estos clusters en uno."
   ]
  },
  {
   "cell_type": "code",
   "execution_count": 90,
   "id": "d71287dc",
   "metadata": {},
   "outputs": [],
   "source": [
    "dbscan = DBSCAN(eps=0.5, min_samples=5)\n",
    "dbscan.fit(df_3_4)\n",
    "labels = dbscan.labels_\n"
   ]
  },
  {
   "cell_type": "code",
   "execution_count": 91,
   "id": "c004fbba",
   "metadata": {},
   "outputs": [
    {
     "name": "stdout",
     "output_type": "stream",
     "text": [
      "[ 0  1  2 -1  1  3  1  1  0  1  1  3  0  1 -1  3  3  2  2  0  3  0 -1  0\n",
      "  2  2  1  0  3  1  1  3  0  3  1  3 -1  2  3 -1  3  0  2  3  1  2 -1  2\n",
      "  2  2  0  0  2  0  1  3  2  0  0 -1  2  1  2  3  0  3  1  3  2  3  2  0\n",
      "  2  2 -1  3  1  0  0  2  2  2  4  3  3 -1  3  1  2  3  0  3  1  1 -1  1\n",
      "  3  3  2  0  2  1  0  3  3 -1  3  0  1  0  3  2  0  1  3  1  0  3  1  0\n",
      "  3  2  0  3  1  3  2  2  0  3  3  2  2  1  1  1 -1  3  2  2  2  2  1  0\n",
      "  0 -1  3  2  3  3  1  0  2 -1  0  4  2 -1  0  1  0  3  2 -1  3  2  1  0\n",
      "  1  0  1  3  3  2  0  2  0  3 -1  2  0  3  2  3  3  2  1  0  0  0  1  2\n",
      "  0  3  2 -1  3  0  2  3  0  0  1  0  0  3  2  0  2  1  3  1  1  0  2  1\n",
      "  2  3  0  0  2  2  0  2  1  0  0  1  0  0  3  0  5  0  3  1 -1  3  2  3\n",
      "  3  3  3  1  3  3  0  2  0  0  3  3  3  1  3  1  1  0  3  2  1  1  0  0\n",
      "  3  3  0  3  0  0  3  3  1  2  0  0  0  2  2  2  3  3  1  1  5  3 -1  3\n",
      "  0  2  1  3  1  0  3  1  0  1  3  0 -1  2 -1  2  1  1  2  0  0 -1  2  0\n",
      "  0  0  2 -1  1  2  1  1  0 -1  0  3  1  0  2  0  2 -1  0  0  1  1  0  2\n",
      "  1  3  1 -1  1  0  0 -1  2  3  1  1  2  2  2  2  2  3  2 -1  0  3  2  1\n",
      " -1  0  0  3  1  3  1  1  1  0  3 -1  3  3  2  3  2  0  3  2  0  3  1  3\n",
      "  3 -1  2 -1  0 -1  0  2  1  2  1  1  0  3  3  3  2 -1  2  3  3  1  3  2\n",
      "  2  1  3  2  5  0  1  0  0 -1  1  3 -1  3  2  2  2  1 -1  1  3  0  2  2\n",
      "  1  2  1  0  1  0  0  2  1  1  1  3  2  2  3  3 -1  1  1  1  3 -1  1  2\n",
      "  0  0  3  2 -1  3 -1  2  3  3  0 -1  3  2  1  3  3  1  1  0 -1  2  3  2\n",
      "  1  3  1  0  3  2  3  0  2  3  2  0  2  1  2 -1  0  0  1 -1  1  2  1  2\n",
      "  3  0  3 -1  2  3  3  0  0  2  0  3  1  2  2  2  2  3  3  3  1  3  3  0\n",
      "  3  2  2 -1  2 -1  3  2  2 -1  3  1  0  1  1  2 -1 -1  2  3  1  1  1  2\n",
      "  2  2  3  3  1 -1  2  2  3  2  2  2  0  1  3  3  3  1  3 -1 -1  0  3  1\n",
      "  1  1  3  2  1  1  1  2  1  3 -1  0 -1  1  1  1  1  2 -1  0 -1  0  2  3\n",
      "  3 -1  3  2  0 -1  0  2  1  2  3  1  2  0 -1  0  1  3  2  1  0  3  4 -1\n",
      "  1  0  0  1 -1  3  0  0  1  2 -1  0  2  0  1  3  1  0  2  0  1  2 -1  0\n",
      "  1  1  0  0  1  1  3  1  3  2  0  2  3  1 -1  1  3  0  2  2  1 -1  0  0\n",
      "  1  4  1  1  1  3  1  2  3  0  3  3  3  3  0  3  2  2  1  3  2  3  2  0\n",
      "  0  1  3  1  2  0  3  0  0  1  3  1 -1  0  1  1 -1  2 -1  1  2  0  1  3\n",
      "  2  0  0  1  2  2  1 -1  1  2  3  1  3  3  0  2  0  1  3  0  0  1  1  0\n",
      "  0  2  2  0  0  0  3  2  1  1 -1  0  1  0  0  0  1  1  0  2  3  0  2  2\n",
      "  2  1  3  0 -1  2  0  1  2  2 -1  1  3 -1  2  3  1 -1  0  1 -1  0 -1  1\n",
      "  2  1  2  3  0  0  0 -1  2  0  3  1  1 -1  0  2  3  1  3  4  2  3  0  2\n",
      "  2  1  3 -1  1  3  2  2  1  2 -1  0  0  3  3  2  2  3  0  2  2  3  2  0\n",
      " -1 -1  1  2  3  0  1  3  0 -1  1 -1  1  0  2  0  0  2  0  1  0  1  2  1\n",
      "  3  3  3  0  1  2  2 -1  3  3  3  2  3  0  3 -1  2 -1  0  1  2  1  0 -1\n",
      "  2  2 -1  0  1  1  3  1  3 -1 -1  3 -1  2  3  2  2  3  1  3 -1  0  1  0\n",
      "  2  0  1 -1  3  2  3  0 -1  5  2  3  0  2  1  3  2  2  1  0  3  3  3  0\n",
      "  0  3  0  1  2  3  0  0  1  0  0 -1  3  1  1  0  0  2  1  2  0  1  2  1\n",
      "  0  1  2  1  0  3  3  0  0  0  2  2  2  2  1  1 -1  3  3  0  2  0  0  0\n",
      "  0  0  0  2  1  1 -1  3  1  1  2  3  2  3  1  2]\n"
     ]
    }
   ],
   "source": [
    "print(labels)"
   ]
  },
  {
   "cell_type": "code",
   "execution_count": 92,
   "id": "6478fd5e",
   "metadata": {},
   "outputs": [
    {
     "data": {
      "text/plain": [
       "<matplotlib.collections.PathCollection at 0x1d6ff8eb170>"
      ]
     },
     "execution_count": 92,
     "metadata": {},
     "output_type": "execute_result"
    },
    {
     "data": {
      "image/png": "[encoded data removed]",
      "text/plain": [
       "<Figure size 640x480 with 1 Axes>"
      ]
     },
     "metadata": {},
     "output_type": "display_data"
    }
   ],
   "source": [
    "plt.scatter(df_3_4['Variable1'],df_3_4['Variable2'], c=labels, cmap= \"plasma\")"
   ]
  },
  {
   "cell_type": "markdown",
   "id": "05b6740a",
   "metadata": {},
   "source": [
    "## 4. Modelos supervisados."
   ]
  },
  {
   "cell_type": "markdown",
   "id": "b4381867",
   "metadata": {},
   "source": [
    "### 1. Regresión lineal."
   ]
  },
  {
   "cell_type": "code",
   "execution_count": 93,
   "id": "b523d5c7",
   "metadata": {},
   "outputs": [],
   "source": [
    "from sklearn.model_selection import train_test_split"
   ]
  },
  {
   "cell_type": "code",
   "execution_count": 94,
   "id": "988d2e44",
   "metadata": {},
   "outputs": [],
   "source": [
    "df_4_1 = pd.read_csv('empleados4_1.csv', delimiter=\";\")"
   ]
  },
  {
   "cell_type": "code",
   "execution_count": 95,
   "id": "321ec1a2",
   "metadata": {},
   "outputs": [
    {
     "name": "stdout",
     "output_type": "stream",
     "text": [
      "      Nombre       Sexo Estado_Civil  Edad  Experiencia  Salario Gerencia  \\\n",
      "0  Alexandro  Masculino   Soltero(a)    22            3     2423       No   \n",
      "1     Felipa   Femenino   Soltero(a)    26            5     2639       No   \n",
      "2     Daniel  Masculino    Casado(a)    35           10     3122       No   \n",
      "3       John  Masculino    Casado(a)    35           13     3431       Sí   \n",
      "4    Ruperta   Femenino    Casado(a)    54           18     3962       No   \n",
      "\n",
      "           Departamento  \n",
      "0            Publicidad  \n",
      "1             Comercial  \n",
      "2             Comercial  \n",
      "3  Servicios al cliente  \n",
      "4              Producto  \n"
     ]
    }
   ],
   "source": [
    "print(df_4_1.head())"
   ]
  },
  {
   "cell_type": "code",
   "execution_count": 96,
   "id": "720d39d4",
   "metadata": {},
   "outputs": [],
   "source": [
    "y = df_4_1['Salario'].values.reshape(-1,1)\n",
    "X = df_4_1['Experiencia'].values.reshape(-1,1)"
   ]
  },
  {
   "cell_type": "code",
   "execution_count": 97,
   "id": "2ba0dbbe",
   "metadata": {},
   "outputs": [],
   "source": [
    "X_train, X_test, y_train, y_test = train_test_split(X, y, test_size=0.20)"
   ]
  },
  {
   "cell_type": "code",
   "execution_count": 98,
   "id": "feea14cb",
   "metadata": {},
   "outputs": [],
   "source": [
    "regresion_lineal = LinearRegression()"
   ]
  },
  {
   "cell_type": "code",
   "execution_count": 99,
   "id": "2557f46e",
   "metadata": {},
   "outputs": [
    {
     "name": "stdout",
     "output_type": "stream",
     "text": [
      "Coeficiente de regresión:  [[108.58912319]]\n",
      "Puntaje de regresión:  0.9880783262913273\n",
      "Puntaje de regresión:  0.9880783262913273\n",
      "Puntaje de regresión:  0.9880783262913273\n"
     ]
    }
   ],
   "source": [
    "regresion_lineal.fit(X_train, y_train)\n",
    "\n",
    "print('Coeficiente de regresión: ', regresion_lineal.coef_)\n",
    "print('Puntaje de regresión: ',regresion_lineal.score(X_test, y_test))\n",
    "print('Puntaje de regresión: ',regresion_lineal.score(X_test, y_test))\n",
    "print('Puntaje de regresión: ',regresion_lineal.score(X_test, y_test))"
   ]
  },
  {
   "cell_type": "code",
   "execution_count": 100,
   "id": "9d76bdba",
   "metadata": {},
   "outputs": [
    {
     "data": {
      "text/plain": [
       "Text(0, 0.5, 'Experiencia')"
      ]
     },
     "execution_count": 100,
     "metadata": {},
     "output_type": "execute_result"
    },
    {
     "data": {
      "image/png": "[encoded data removed]",
      "text/plain": [
       "<Figure size 640x480 with 1 Axes>"
      ]
     },
     "metadata": {},
     "output_type": "display_data"
    }
   ],
   "source": [
    "plt.scatter(df_4_1['Salario'], df_4_1['Experiencia']) \n",
    "plt.xlabel('Salario')\n",
    "plt.ylabel('Experiencia')"
   ]
  },
  {
   "cell_type": "markdown",
   "id": "319e3c6d",
   "metadata": {},
   "source": [
    "### 2. Regresión lineal múltiple."
   ]
  },
  {
   "cell_type": "code",
   "execution_count": 101,
   "id": "5c771a85",
   "metadata": {},
   "outputs": [],
   "source": [
    "from sklearn import metrics"
   ]
  },
  {
   "cell_type": "code",
   "execution_count": 102,
   "id": "17ad41e1",
   "metadata": {},
   "outputs": [],
   "source": [
    "df_4_2 = pd.read_csv('emisiones4.csv', delimiter=\";\")"
   ]
  },
  {
   "cell_type": "code",
   "execution_count": 103,
   "id": "6740c99d",
   "metadata": {},
   "outputs": [
    {
     "name": "stdout",
     "output_type": "stream",
     "text": [
      "<class 'pandas.core.frame.DataFrame'>\n",
      "RangeIndex: 91 entries, 0 to 90\n",
      "Data columns (total 6 columns):\n",
      " #   Column    Non-Null Count  Dtype  \n",
      "---  ------    --------------  -----  \n",
      " 0   Marca     91 non-null     object \n",
      " 1   Longitud  91 non-null     float64\n",
      " 2   Anchura   91 non-null     float64\n",
      " 3   Altura    91 non-null     float64\n",
      " 4   Maletero  91 non-null     int64  \n",
      " 5   CO2       91 non-null     int64  \n",
      "dtypes: float64(3), int64(2), object(1)\n",
      "memory usage: 4.4+ KB\n",
      "None\n"
     ]
    }
   ],
   "source": [
    "print(df_4_2.info())"
   ]
  },
  {
   "cell_type": "code",
   "execution_count": 104,
   "id": "f010a19a",
   "metadata": {},
   "outputs": [],
   "source": [
    "y = df_4_2[['CO2']]\n",
    "X = df_4_2[['Longitud', 'Anchura', 'Altura']]"
   ]
  },
  {
   "cell_type": "code",
   "execution_count": 105,
   "id": "193232ca",
   "metadata": {},
   "outputs": [],
   "source": [
    "X_train, X_test, y_train, y_test = train_test_split(X, y, test_size=0.20)"
   ]
  },
  {
   "cell_type": "code",
   "execution_count": 106,
   "id": "1db70c36",
   "metadata": {},
   "outputs": [
    {
     "name": "stdout",
     "output_type": "stream",
     "text": [
      "Error absoluto medio:  25.604433644330083\n",
      "Error cuadrático medio:  970.5771062756442\n",
      "Raíz del error cuadrático medio:  31.154086510049435\n"
     ]
    }
   ],
   "source": [
    "regresion_lineal.fit(X_train, y_train)\n",
    "y_pred=regresion_lineal.predict(X_test)\n",
    "\n",
    "print(\"Error absoluto medio: \", metrics.mean_absolute_error(y_test, y_pred))\n",
    "print(\"Error cuadrático medio: \", metrics.mean_squared_error(y_test, y_pred))\n",
    "print(\"Raíz del error cuadrático medio: \",np.sqrt(metrics.mean_squared_error(y_test, y_pred)))"
   ]
  },
  {
   "cell_type": "markdown",
   "id": "4791754a",
   "metadata": {},
   "source": [
    "### 3. Regresión logística"
   ]
  },
  {
   "cell_type": "markdown",
   "id": "709355c0",
   "metadata": {},
   "source": [
    "Funciona como la regresión lineal, pero en vez de ajustar los datos con una función lineal, lo hace a partir de una familia de funciones llamada `Sigmoide`. Estas funciones tienen la siguiente forma:\n",
    "$$\\dfrac{1}{1+e^{-(\\beta_0+\\beta_1 \\cdot x)}}$$\n",
    "Se trata de calcular los términos reales $\\beta_0$ y $\\beta_1$ a partir de los datos de entrenamiento."
   ]
  },
  {
   "cell_type": "code",
   "execution_count": 107,
   "id": "0b71190f",
   "metadata": {},
   "outputs": [],
   "source": [
    "from sklearn.linear_model import LogisticRegression"
   ]
  },
  {
   "cell_type": "code",
   "execution_count": 108,
   "id": "b817657e",
   "metadata": {},
   "outputs": [],
   "source": [
    "df_4_3 = pd.read_csv('examenes.csv', delimiter=\";\")"
   ]
  },
  {
   "cell_type": "code",
   "execution_count": 109,
   "id": "af69a608",
   "metadata": {},
   "outputs": [],
   "source": [
    "X = df_4_3['Horas'].values.reshape(-1,1)\n",
    "y = df_4_3['Puntaje']"
   ]
  },
  {
   "cell_type": "code",
   "execution_count": 110,
   "id": "edb06130",
   "metadata": {},
   "outputs": [],
   "source": [
    "X_train, X_test, y_train, y_test = train_test_split(X, y, test_size=0.20)"
   ]
  },
  {
   "cell_type": "code",
   "execution_count": 111,
   "id": "83a57422",
   "metadata": {},
   "outputs": [
    {
     "data": {
      "text/html": [
       "<style>#sk-container-id-2 {\n",
       "  /* Definition of color scheme common for light and dark mode */\n",
       "  --sklearn-color-text: black;\n",
       "  --sklearn-color-line: gray;\n",
       "  /* Definition of color scheme for unfitted estimators */\n",
       "  --sklearn-color-unfitted-level-0: #fff5e6;\n",
       "  --sklearn-color-unfitted-level-1: #f6e4d2;\n",
       "  --sklearn-color-unfitted-level-2: #ffe0b3;\n",
       "  --sklearn-color-unfitted-level-3: chocolate;\n",
       "  /* Definition of color scheme for fitted estimators */\n",
       "  --sklearn-color-fitted-level-0: #f0f8ff;\n",
       "  --sklearn-color-fitted-level-1: #d4ebff;\n",
       "  --sklearn-color-fitted-level-2: #b3dbfd;\n",
       "  --sklearn-color-fitted-level-3: cornflowerblue;\n",
       "\n",
       "  /* Specific color for light theme */\n",
       "  --sklearn-color-text-on-default-background: var(--sg-text-color, var(--theme-code-foreground, var(--jp-content-font-color1, black)));\n",
       "  --sklearn-color-background: var(--sg-background-color, var(--theme-background, var(--jp-layout-color0, white)));\n",
       "  --sklearn-color-border-box: var(--sg-text-color, var(--theme-code-foreground, var(--jp-content-font-color1, black)));\n",
       "  --sklearn-color-icon: #696969;\n",
       "\n",
       "  @media (prefers-color-scheme: dark) {\n",
       "    /* Redefinition of color scheme for dark theme */\n",
       "    --sklearn-color-text-on-default-background: var(--sg-text-color, var(--theme-code-foreground, var(--jp-content-font-color1, white)));\n",
       "    --sklearn-color-background: var(--sg-background-color, var(--theme-background, var(--jp-layout-color0, #111)));\n",
       "    --sklearn-color-border-box: var(--sg-text-color, var(--theme-code-foreground, var(--jp-content-font-color1, white)));\n",
       "    --sklearn-color-icon: #878787;\n",
       "  }\n",
       "}\n",
       "\n",
       "#sk-container-id-2 {\n",
       "  color: var(--sklearn-color-text);\n",
       "}\n",
       "\n",
       "#sk-container-id-2 pre {\n",
       "  padding: 0;\n",
       "}\n",
       "\n",
       "#sk-container-id-2 input.sk-hidden--visually {\n",
       "  border: 0;\n",
       "  clip: rect(1px 1px 1px 1px);\n",
       "  clip: rect(1px, 1px, 1px, 1px);\n",
       "  height: 1px;\n",
       "  margin: -1px;\n",
       "  overflow: hidden;\n",
       "  padding: 0;\n",
       "  position: absolute;\n",
       "  width: 1px;\n",
       "}\n",
       "\n",
       "#sk-container-id-2 div.sk-dashed-wrapped {\n",
       "  border: 1px dashed var(--sklearn-color-line);\n",
       "  margin: 0 0.4em 0.5em 0.4em;\n",
       "  box-sizing: border-box;\n",
       "  padding-bottom: 0.4em;\n",
       "  background-color: var(--sklearn-color-background);\n",
       "}\n",
       "\n",
       "#sk-container-id-2 div.sk-container {\n",
       "  /* jupyter's `normalize.less` sets `[hidden] { display: none; }`\n",
       "     but bootstrap.min.css set `[hidden] { display: none !important; }`\n",
       "     so we also need the `!important` here to be able to override the\n",
       "     default hidden behavior on the sphinx rendered scikit-learn.org.\n",
       "     See: https://github.com/scikit-learn/scikit-learn/issues/21755 */\n",
       "  display: inline-block !important;\n",
       "  position: relative;\n",
       "}\n",
       "\n",
       "#sk-container-id-2 div.sk-text-repr-fallback {\n",
       "  display: none;\n",
       "}\n",
       "\n",
       "div.sk-parallel-item,\n",
       "div.sk-serial,\n",
       "div.sk-item {\n",
       "  /* draw centered vertical line to link estimators */\n",
       "  background-image: linear-gradient(var(--sklearn-color-text-on-default-background), var(--sklearn-color-text-on-default-background));\n",
       "  background-size: 2px 100%;\n",
       "  background-repeat: no-repeat;\n",
       "  background-position: center center;\n",
       "}\n",
       "\n",
       "/* Parallel-specific style estimator block */\n",
       "\n",
       "#sk-container-id-2 div.sk-parallel-item::after {\n",
       "  content: \"\";\n",
       "  width: 100%;\n",
       "  border-bottom: 2px solid var(--sklearn-color-text-on-default-background);\n",
       "  flex-grow: 1;\n",
       "}\n",
       "\n",
       "#sk-container-id-2 div.sk-parallel {\n",
       "  display: flex;\n",
       "  align-items: stretch;\n",
       "  justify-content: center;\n",
       "  background-color: var(--sklearn-color-background);\n",
       "  position: relative;\n",
       "}\n",
       "\n",
       "#sk-container-id-2 div.sk-parallel-item {\n",
       "  display: flex;\n",
       "  flex-direction: column;\n",
       "}\n",
       "\n",
       "#sk-container-id-2 div.sk-parallel-item:first-child::after {\n",
       "  align-self: flex-end;\n",
       "  width: 50%;\n",
       "}\n",
       "\n",
       "#sk-container-id-2 div.sk-parallel-item:last-child::after {\n",
       "  align-self: flex-start;\n",
       "  width: 50%;\n",
       "}\n",
       "\n",
       "#sk-container-id-2 div.sk-parallel-item:only-child::after {\n",
       "  width: 0;\n",
       "}\n",
       "\n",
       "/* Serial-specific style estimator block */\n",
       "\n",
       "#sk-container-id-2 div.sk-serial {\n",
       "  display: flex;\n",
       "  flex-direction: column;\n",
       "  align-items: center;\n",
       "  background-color: var(--sklearn-color-background);\n",
       "  padding-right: 1em;\n",
       "  padding-left: 1em;\n",
       "}\n",
       "\n",
       "\n",
       "/* Toggleable style: style used for estimator/Pipeline/ColumnTransformer box that is\n",
       "clickable and can be expanded/collapsed.\n",
       "- Pipeline and ColumnTransformer use this feature and define the default style\n",
       "- Estimators will overwrite some part of the style using the `sk-estimator` class\n",
       "*/\n",
       "\n",
       "/* Pipeline and ColumnTransformer style (default) */\n",
       "\n",
       "#sk-container-id-2 div.sk-toggleable {\n",
       "  /* Default theme specific background. It is overwritten whether we have a\n",
       "  specific estimator or a Pipeline/ColumnTransformer */\n",
       "  background-color: var(--sklearn-color-background);\n",
       "}\n",
       "\n",
       "/* Toggleable label */\n",
       "#sk-container-id-2 label.sk-toggleable__label {\n",
       "  cursor: pointer;\n",
       "  display: block;\n",
       "  width: 100%;\n",
       "  margin-bottom: 0;\n",
       "  padding: 0.5em;\n",
       "  box-sizing: border-box;\n",
       "  text-align: center;\n",
       "}\n",
       "\n",
       "#sk-container-id-2 label.sk-toggleable__label-arrow:before {\n",
       "  /* Arrow on the left of the label */\n",
       "  content: \"▸\";\n",
       "  float: left;\n",
       "  margin-right: 0.25em;\n",
       "  color: var(--sklearn-color-icon);\n",
       "}\n",
       "\n",
       "#sk-container-id-2 label.sk-toggleable__label-arrow:hover:before {\n",
       "  color: var(--sklearn-color-text);\n",
       "}\n",
       "\n",
       "/* Toggleable content - dropdown */\n",
       "\n",
       "#sk-container-id-2 div.sk-toggleable__content {\n",
       "  max-height: 0;\n",
       "  max-width: 0;\n",
       "  overflow: hidden;\n",
       "  text-align: left;\n",
       "  /* unfitted */\n",
       "  background-color: var(--sklearn-color-unfitted-level-0);\n",
       "}\n",
       "\n",
       "#sk-container-id-2 div.sk-toggleable__content.fitted {\n",
       "  /* fitted */\n",
       "  background-color: var(--sklearn-color-fitted-level-0);\n",
       "}\n",
       "\n",
       "#sk-container-id-2 div.sk-toggleable__content pre {\n",
       "  margin: 0.2em;\n",
       "  border-radius: 0.25em;\n",
       "  color: var(--sklearn-color-text);\n",
       "  /* unfitted */\n",
       "  background-color: var(--sklearn-color-unfitted-level-0);\n",
       "}\n",
       "\n",
       "#sk-container-id-2 div.sk-toggleable__content.fitted pre {\n",
       "  /* unfitted */\n",
       "  background-color: var(--sklearn-color-fitted-level-0);\n",
       "}\n",
       "\n",
       "#sk-container-id-2 input.sk-toggleable__control:checked~div.sk-toggleable__content {\n",
       "  /* Expand drop-down */\n",
       "  max-height: 200px;\n",
       "  max-width: 100%;\n",
       "  overflow: auto;\n",
       "}\n",
       "\n",
       "#sk-container-id-2 input.sk-toggleable__control:checked~label.sk-toggleable__label-arrow:before {\n",
       "  content: \"▾\";\n",
       "}\n",
       "\n",
       "/* Pipeline/ColumnTransformer-specific style */\n",
       "\n",
       "#sk-container-id-2 div.sk-label input.sk-toggleable__control:checked~label.sk-toggleable__label {\n",
       "  color: var(--sklearn-color-text);\n",
       "  background-color: var(--sklearn-color-unfitted-level-2);\n",
       "}\n",
       "\n",
       "#sk-container-id-2 div.sk-label.fitted input.sk-toggleable__control:checked~label.sk-toggleable__label {\n",
       "  background-color: var(--sklearn-color-fitted-level-2);\n",
       "}\n",
       "\n",
       "/* Estimator-specific style */\n",
       "\n",
       "/* Colorize estimator box */\n",
       "#sk-container-id-2 div.sk-estimator input.sk-toggleable__control:checked~label.sk-toggleable__label {\n",
       "  /* unfitted */\n",
       "  background-color: var(--sklearn-color-unfitted-level-2);\n",
       "}\n",
       "\n",
       "#sk-container-id-2 div.sk-estimator.fitted input.sk-toggleable__control:checked~label.sk-toggleable__label {\n",
       "  /* fitted */\n",
       "  background-color: var(--sklearn-color-fitted-level-2);\n",
       "}\n",
       "\n",
       "#sk-container-id-2 div.sk-label label.sk-toggleable__label,\n",
       "#sk-container-id-2 div.sk-label label {\n",
       "  /* The background is the default theme color */\n",
       "  color: var(--sklearn-color-text-on-default-background);\n",
       "}\n",
       "\n",
       "/* On hover, darken the color of the background */\n",
       "#sk-container-id-2 div.sk-label:hover label.sk-toggleable__label {\n",
       "  color: var(--sklearn-color-text);\n",
       "  background-color: var(--sklearn-color-unfitted-level-2);\n",
       "}\n",
       "\n",
       "/* Label box, darken color on hover, fitted */\n",
       "#sk-container-id-2 div.sk-label.fitted:hover label.sk-toggleable__label.fitted {\n",
       "  color: var(--sklearn-color-text);\n",
       "  background-color: var(--sklearn-color-fitted-level-2);\n",
       "}\n",
       "\n",
       "/* Estimator label */\n",
       "\n",
       "#sk-container-id-2 div.sk-label label {\n",
       "  font-family: monospace;\n",
       "  font-weight: bold;\n",
       "  display: inline-block;\n",
       "  line-height: 1.2em;\n",
       "}\n",
       "\n",
       "#sk-container-id-2 div.sk-label-container {\n",
       "  text-align: center;\n",
       "}\n",
       "\n",
       "/* Estimator-specific */\n",
       "#sk-container-id-2 div.sk-estimator {\n",
       "  font-family: monospace;\n",
       "  border: 1px dotted var(--sklearn-color-border-box);\n",
       "  border-radius: 0.25em;\n",
       "  box-sizing: border-box;\n",
       "  margin-bottom: 0.5em;\n",
       "  /* unfitted */\n",
       "  background-color: var(--sklearn-color-unfitted-level-0);\n",
       "}\n",
       "\n",
       "#sk-container-id-2 div.sk-estimator.fitted {\n",
       "  /* fitted */\n",
       "  background-color: var(--sklearn-color-fitted-level-0);\n",
       "}\n",
       "\n",
       "/* on hover */\n",
       "#sk-container-id-2 div.sk-estimator:hover {\n",
       "  /* unfitted */\n",
       "  background-color: var(--sklearn-color-unfitted-level-2);\n",
       "}\n",
       "\n",
       "#sk-container-id-2 div.sk-estimator.fitted:hover {\n",
       "  /* fitted */\n",
       "  background-color: var(--sklearn-color-fitted-level-2);\n",
       "}\n",
       "\n",
       "/* Specification for estimator info (e.g. \"i\" and \"?\") */\n",
       "\n",
       "/* Common style for \"i\" and \"?\" */\n",
       "\n",
       ".sk-estimator-doc-link,\n",
       "a:link.sk-estimator-doc-link,\n",
       "a:visited.sk-estimator-doc-link {\n",
       "  float: right;\n",
       "  font-size: smaller;\n",
       "  line-height: 1em;\n",
       "  font-family: monospace;\n",
       "  background-color: var(--sklearn-color-background);\n",
       "  border-radius: 1em;\n",
       "  height: 1em;\n",
       "  width: 1em;\n",
       "  text-decoration: none !important;\n",
       "  margin-left: 1ex;\n",
       "  /* unfitted */\n",
       "  border: var(--sklearn-color-unfitted-level-1) 1pt solid;\n",
       "  color: var(--sklearn-color-unfitted-level-1);\n",
       "}\n",
       "\n",
       ".sk-estimator-doc-link.fitted,\n",
       "a:link.sk-estimator-doc-link.fitted,\n",
       "a:visited.sk-estimator-doc-link.fitted {\n",
       "  /* fitted */\n",
       "  border: var(--sklearn-color-fitted-level-1) 1pt solid;\n",
       "  color: var(--sklearn-color-fitted-level-1);\n",
       "}\n",
       "\n",
       "/* On hover */\n",
       "div.sk-estimator:hover .sk-estimator-doc-link:hover,\n",
       ".sk-estimator-doc-link:hover,\n",
       "div.sk-label-container:hover .sk-estimator-doc-link:hover,\n",
       ".sk-estimator-doc-link:hover {\n",
       "  /* unfitted */\n",
       "  background-color: var(--sklearn-color-unfitted-level-3);\n",
       "  color: var(--sklearn-color-background);\n",
       "  text-decoration: none;\n",
       "}\n",
       "\n",
       "div.sk-estimator.fitted:hover .sk-estimator-doc-link.fitted:hover,\n",
       ".sk-estimator-doc-link.fitted:hover,\n",
       "div.sk-label-container:hover .sk-estimator-doc-link.fitted:hover,\n",
       ".sk-estimator-doc-link.fitted:hover {\n",
       "  /* fitted */\n",
       "  background-color: var(--sklearn-color-fitted-level-3);\n",
       "  color: var(--sklearn-color-background);\n",
       "  text-decoration: none;\n",
       "}\n",
       "\n",
       "/* Span, style for the box shown on hovering the info icon */\n",
       ".sk-estimator-doc-link span {\n",
       "  display: none;\n",
       "  z-index: 9999;\n",
       "  position: relative;\n",
       "  font-weight: normal;\n",
       "  right: .2ex;\n",
       "  padding: .5ex;\n",
       "  margin: .5ex;\n",
       "  width: min-content;\n",
       "  min-width: 20ex;\n",
       "  max-width: 50ex;\n",
       "  color: var(--sklearn-color-text);\n",
       "  box-shadow: 2pt 2pt 4pt #999;\n",
       "  /* unfitted */\n",
       "  background: var(--sklearn-color-unfitted-level-0);\n",
       "  border: .5pt solid var(--sklearn-color-unfitted-level-3);\n",
       "}\n",
       "\n",
       ".sk-estimator-doc-link.fitted span {\n",
       "  /* fitted */\n",
       "  background: var(--sklearn-color-fitted-level-0);\n",
       "  border: var(--sklearn-color-fitted-level-3);\n",
       "}\n",
       "\n",
       ".sk-estimator-doc-link:hover span {\n",
       "  display: block;\n",
       "}\n",
       "\n",
       "/* \"?\"-specific style due to the `<a>` HTML tag */\n",
       "\n",
       "#sk-container-id-2 a.estimator_doc_link {\n",
       "  float: right;\n",
       "  font-size: 1rem;\n",
       "  line-height: 1em;\n",
       "  font-family: monospace;\n",
       "  background-color: var(--sklearn-color-background);\n",
       "  border-radius: 1rem;\n",
       "  height: 1rem;\n",
       "  width: 1rem;\n",
       "  text-decoration: none;\n",
       "  /* unfitted */\n",
       "  color: var(--sklearn-color-unfitted-level-1);\n",
       "  border: var(--sklearn-color-unfitted-level-1) 1pt solid;\n",
       "}\n",
       "\n",
       "#sk-container-id-2 a.estimator_doc_link.fitted {\n",
       "  /* fitted */\n",
       "  border: var(--sklearn-color-fitted-level-1) 1pt solid;\n",
       "  color: var(--sklearn-color-fitted-level-1);\n",
       "}\n",
       "\n",
       "/* On hover */\n",
       "#sk-container-id-2 a.estimator_doc_link:hover {\n",
       "  /* unfitted */\n",
       "  background-color: var(--sklearn-color-unfitted-level-3);\n",
       "  color: var(--sklearn-color-background);\n",
       "  text-decoration: none;\n",
       "}\n",
       "\n",
       "#sk-container-id-2 a.estimator_doc_link.fitted:hover {\n",
       "  /* fitted */\n",
       "  background-color: var(--sklearn-color-fitted-level-3);\n",
       "}\n",
       "</style><div id=\"sk-container-id-2\" class=\"sk-top-container\"><div class=\"sk-text-repr-fallback\"><pre>LogisticRegression(max_iter=1000)</pre><b>In a Jupyter environment, please rerun this cell to show the HTML representation or trust the notebook. <br />On GitHub, the HTML representation is unable to render, please try loading this page with nbviewer.org.</b></div><div class=\"sk-container\" hidden><div class=\"sk-item\"><div class=\"sk-estimator fitted sk-toggleable\"><input class=\"sk-toggleable__control sk-hidden--visually\" id=\"sk-estimator-id-2\" type=\"checkbox\" checked><label for=\"sk-estimator-id-2\" class=\"sk-toggleable__label fitted sk-toggleable__label-arrow fitted\">&nbsp;&nbsp;LogisticRegression<a class=\"sk-estimator-doc-link fitted\" rel=\"noreferrer\" target=\"_blank\" href=\"https://scikit-learn.org/1.5/modules/generated/sklearn.linear_model.LogisticRegression.html\">?<span>Documentation for LogisticRegression</span></a><span class=\"sk-estimator-doc-link fitted\">i<span>Fitted</span></span></label><div class=\"sk-toggleable__content fitted\"><pre>LogisticRegression(max_iter=1000)</pre></div> </div></div></div></div>"
      ],
      "text/plain": [
       "LogisticRegression(max_iter=1000)"
      ]
     },
     "execution_count": 111,
     "metadata": {},
     "output_type": "execute_result"
    }
   ],
   "source": [
    "logistic_regression = LogisticRegression(max_iter=1000)\n",
    "logistic_regression.fit(X_train, y_train)"
   ]
  },
  {
   "cell_type": "code",
   "execution_count": 112,
   "id": "56f74b0d",
   "metadata": {},
   "outputs": [],
   "source": [
    "horas_test = np.array([5, 6, 7, 8, 9, 10]).reshape(-1,1)\n",
    "y_pred = logistic_regression.predict(horas_test)"
   ]
  },
  {
   "cell_type": "code",
   "execution_count": 113,
   "id": "c21e2f8c",
   "metadata": {},
   "outputs": [
    {
     "name": "stdout",
     "output_type": "stream",
     "text": [
      "[69 69 69 69 69 69]\n"
     ]
    },
    {
     "data": {
      "text/plain": [
       "Text(0, 0.5, 'Puntaje')"
      ]
     },
     "execution_count": 113,
     "metadata": {},
     "output_type": "execute_result"
    },
    {
     "data": {
      "image/png": "[encoded data removed]",
      "text/plain": [
       "<Figure size 640x480 with 1 Axes>"
      ]
     },
     "metadata": {},
     "output_type": "display_data"
    }
   ],
   "source": [
    "print(y_pred)\n",
    "plt.scatter(df_4_3['Horas'], df_4_3['Puntaje']) \n",
    "plt.xlabel('Horas')\n",
    "plt.ylabel('Puntaje')"
   ]
  },
  {
   "cell_type": "markdown",
   "id": "9f56aff7",
   "metadata": {},
   "source": [
    "### 4. Árboles de decisión"
   ]
  },
  {
   "cell_type": "code",
   "execution_count": 114,
   "id": "8dea4131",
   "metadata": {},
   "outputs": [],
   "source": [
    "from sklearn.tree import DecisionTreeClassifier\n",
    "from sklearn.datasets import make_moons"
   ]
  },
  {
   "cell_type": "code",
   "execution_count": 115,
   "id": "fa5a6032",
   "metadata": {},
   "outputs": [],
   "source": [
    "X, y = make_moons(n_samples=5000, noise=0.3, random_state=42)"
   ]
  },
  {
   "cell_type": "code",
   "execution_count": 116,
   "id": "8ac121f1",
   "metadata": {},
   "outputs": [],
   "source": [
    "X_train, X_test, y_train, y_test = train_test_split(X, y, test_size=0.30)"
   ]
  },
  {
   "cell_type": "code",
   "execution_count": 117,
   "id": "73d6ab24",
   "metadata": {},
   "outputs": [
    {
     "data": {
      "text/html": [
       "<style>#sk-container-id-3 {\n",
       "  /* Definition of color scheme common for light and dark mode */\n",
       "  --sklearn-color-text: black;\n",
       "  --sklearn-color-line: gray;\n",
       "  /* Definition of color scheme for unfitted estimators */\n",
       "  --sklearn-color-unfitted-level-0: #fff5e6;\n",
       "  --sklearn-color-unfitted-level-1: #f6e4d2;\n",
       "  --sklearn-color-unfitted-level-2: #ffe0b3;\n",
       "  --sklearn-color-unfitted-level-3: chocolate;\n",
       "  /* Definition of color scheme for fitted estimators */\n",
       "  --sklearn-color-fitted-level-0: #f0f8ff;\n",
       "  --sklearn-color-fitted-level-1: #d4ebff;\n",
       "  --sklearn-color-fitted-level-2: #b3dbfd;\n",
       "  --sklearn-color-fitted-level-3: cornflowerblue;\n",
       "\n",
       "  /* Specific color for light theme */\n",
       "  --sklearn-color-text-on-default-background: var(--sg-text-color, var(--theme-code-foreground, var(--jp-content-font-color1, black)));\n",
       "  --sklearn-color-background: var(--sg-background-color, var(--theme-background, var(--jp-layout-color0, white)));\n",
       "  --sklearn-color-border-box: var(--sg-text-color, var(--theme-code-foreground, var(--jp-content-font-color1, black)));\n",
       "  --sklearn-color-icon: #696969;\n",
       "\n",
       "  @media (prefers-color-scheme: dark) {\n",
       "    /* Redefinition of color scheme for dark theme */\n",
       "    --sklearn-color-text-on-default-background: var(--sg-text-color, var(--theme-code-foreground, var(--jp-content-font-color1, white)));\n",
       "    --sklearn-color-background: var(--sg-background-color, var(--theme-background, var(--jp-layout-color0, #111)));\n",
       "    --sklearn-color-border-box: var(--sg-text-color, var(--theme-code-foreground, var(--jp-content-font-color1, white)));\n",
       "    --sklearn-color-icon: #878787;\n",
       "  }\n",
       "}\n",
       "\n",
       "#sk-container-id-3 {\n",
       "  color: var(--sklearn-color-text);\n",
       "}\n",
       "\n",
       "#sk-container-id-3 pre {\n",
       "  padding: 0;\n",
       "}\n",
       "\n",
       "#sk-container-id-3 input.sk-hidden--visually {\n",
       "  border: 0;\n",
       "  clip: rect(1px 1px 1px 1px);\n",
       "  clip: rect(1px, 1px, 1px, 1px);\n",
       "  height: 1px;\n",
       "  margin: -1px;\n",
       "  overflow: hidden;\n",
       "  padding: 0;\n",
       "  position: absolute;\n",
       "  width: 1px;\n",
       "}\n",
       "\n",
       "#sk-container-id-3 div.sk-dashed-wrapped {\n",
       "  border: 1px dashed var(--sklearn-color-line);\n",
       "  margin: 0 0.4em 0.5em 0.4em;\n",
       "  box-sizing: border-box;\n",
       "  padding-bottom: 0.4em;\n",
       "  background-color: var(--sklearn-color-background);\n",
       "}\n",
       "\n",
       "#sk-container-id-3 div.sk-container {\n",
       "  /* jupyter's `normalize.less` sets `[hidden] { display: none; }`\n",
       "     but bootstrap.min.css set `[hidden] { display: none !important; }`\n",
       "     so we also need the `!important` here to be able to override the\n",
       "     default hidden behavior on the sphinx rendered scikit-learn.org.\n",
       "     See: https://github.com/scikit-learn/scikit-learn/issues/21755 */\n",
       "  display: inline-block !important;\n",
       "  position: relative;\n",
       "}\n",
       "\n",
       "#sk-container-id-3 div.sk-text-repr-fallback {\n",
       "  display: none;\n",
       "}\n",
       "\n",
       "div.sk-parallel-item,\n",
       "div.sk-serial,\n",
       "div.sk-item {\n",
       "  /* draw centered vertical line to link estimators */\n",
       "  background-image: linear-gradient(var(--sklearn-color-text-on-default-background), var(--sklearn-color-text-on-default-background));\n",
       "  background-size: 2px 100%;\n",
       "  background-repeat: no-repeat;\n",
       "  background-position: center center;\n",
       "}\n",
       "\n",
       "/* Parallel-specific style estimator block */\n",
       "\n",
       "#sk-container-id-3 div.sk-parallel-item::after {\n",
       "  content: \"\";\n",
       "  width: 100%;\n",
       "  border-bottom: 2px solid var(--sklearn-color-text-on-default-background);\n",
       "  flex-grow: 1;\n",
       "}\n",
       "\n",
       "#sk-container-id-3 div.sk-parallel {\n",
       "  display: flex;\n",
       "  align-items: stretch;\n",
       "  justify-content: center;\n",
       "  background-color: var(--sklearn-color-background);\n",
       "  position: relative;\n",
       "}\n",
       "\n",
       "#sk-container-id-3 div.sk-parallel-item {\n",
       "  display: flex;\n",
       "  flex-direction: column;\n",
       "}\n",
       "\n",
       "#sk-container-id-3 div.sk-parallel-item:first-child::after {\n",
       "  align-self: flex-end;\n",
       "  width: 50%;\n",
       "}\n",
       "\n",
       "#sk-container-id-3 div.sk-parallel-item:last-child::after {\n",
       "  align-self: flex-start;\n",
       "  width: 50%;\n",
       "}\n",
       "\n",
       "#sk-container-id-3 div.sk-parallel-item:only-child::after {\n",
       "  width: 0;\n",
       "}\n",
       "\n",
       "/* Serial-specific style estimator block */\n",
       "\n",
       "#sk-container-id-3 div.sk-serial {\n",
       "  display: flex;\n",
       "  flex-direction: column;\n",
       "  align-items: center;\n",
       "  background-color: var(--sklearn-color-background);\n",
       "  padding-right: 1em;\n",
       "  padding-left: 1em;\n",
       "}\n",
       "\n",
       "\n",
       "/* Toggleable style: style used for estimator/Pipeline/ColumnTransformer box that is\n",
       "clickable and can be expanded/collapsed.\n",
       "- Pipeline and ColumnTransformer use this feature and define the default style\n",
       "- Estimators will overwrite some part of the style using the `sk-estimator` class\n",
       "*/\n",
       "\n",
       "/* Pipeline and ColumnTransformer style (default) */\n",
       "\n",
       "#sk-container-id-3 div.sk-toggleable {\n",
       "  /* Default theme specific background. It is overwritten whether we have a\n",
       "  specific estimator or a Pipeline/ColumnTransformer */\n",
       "  background-color: var(--sklearn-color-background);\n",
       "}\n",
       "\n",
       "/* Toggleable label */\n",
       "#sk-container-id-3 label.sk-toggleable__label {\n",
       "  cursor: pointer;\n",
       "  display: block;\n",
       "  width: 100%;\n",
       "  margin-bottom: 0;\n",
       "  padding: 0.5em;\n",
       "  box-sizing: border-box;\n",
       "  text-align: center;\n",
       "}\n",
       "\n",
       "#sk-container-id-3 label.sk-toggleable__label-arrow:before {\n",
       "  /* Arrow on the left of the label */\n",
       "  content: \"▸\";\n",
       "  float: left;\n",
       "  margin-right: 0.25em;\n",
       "  color: var(--sklearn-color-icon);\n",
       "}\n",
       "\n",
       "#sk-container-id-3 label.sk-toggleable__label-arrow:hover:before {\n",
       "  color: var(--sklearn-color-text);\n",
       "}\n",
       "\n",
       "/* Toggleable content - dropdown */\n",
       "\n",
       "#sk-container-id-3 div.sk-toggleable__content {\n",
       "  max-height: 0;\n",
       "  max-width: 0;\n",
       "  overflow: hidden;\n",
       "  text-align: left;\n",
       "  /* unfitted */\n",
       "  background-color: var(--sklearn-color-unfitted-level-0);\n",
       "}\n",
       "\n",
       "#sk-container-id-3 div.sk-toggleable__content.fitted {\n",
       "  /* fitted */\n",
       "  background-color: var(--sklearn-color-fitted-level-0);\n",
       "}\n",
       "\n",
       "#sk-container-id-3 div.sk-toggleable__content pre {\n",
       "  margin: 0.2em;\n",
       "  border-radius: 0.25em;\n",
       "  color: var(--sklearn-color-text);\n",
       "  /* unfitted */\n",
       "  background-color: var(--sklearn-color-unfitted-level-0);\n",
       "}\n",
       "\n",
       "#sk-container-id-3 div.sk-toggleable__content.fitted pre {\n",
       "  /* unfitted */\n",
       "  background-color: var(--sklearn-color-fitted-level-0);\n",
       "}\n",
       "\n",
       "#sk-container-id-3 input.sk-toggleable__control:checked~div.sk-toggleable__content {\n",
       "  /* Expand drop-down */\n",
       "  max-height: 200px;\n",
       "  max-width: 100%;\n",
       "  overflow: auto;\n",
       "}\n",
       "\n",
       "#sk-container-id-3 input.sk-toggleable__control:checked~label.sk-toggleable__label-arrow:before {\n",
       "  content: \"▾\";\n",
       "}\n",
       "\n",
       "/* Pipeline/ColumnTransformer-specific style */\n",
       "\n",
       "#sk-container-id-3 div.sk-label input.sk-toggleable__control:checked~label.sk-toggleable__label {\n",
       "  color: var(--sklearn-color-text);\n",
       "  background-color: var(--sklearn-color-unfitted-level-2);\n",
       "}\n",
       "\n",
       "#sk-container-id-3 div.sk-label.fitted input.sk-toggleable__control:checked~label.sk-toggleable__label {\n",
       "  background-color: var(--sklearn-color-fitted-level-2);\n",
       "}\n",
       "\n",
       "/* Estimator-specific style */\n",
       "\n",
       "/* Colorize estimator box */\n",
       "#sk-container-id-3 div.sk-estimator input.sk-toggleable__control:checked~label.sk-toggleable__label {\n",
       "  /* unfitted */\n",
       "  background-color: var(--sklearn-color-unfitted-level-2);\n",
       "}\n",
       "\n",
       "#sk-container-id-3 div.sk-estimator.fitted input.sk-toggleable__control:checked~label.sk-toggleable__label {\n",
       "  /* fitted */\n",
       "  background-color: var(--sklearn-color-fitted-level-2);\n",
       "}\n",
       "\n",
       "#sk-container-id-3 div.sk-label label.sk-toggleable__label,\n",
       "#sk-container-id-3 div.sk-label label {\n",
       "  /* The background is the default theme color */\n",
       "  color: var(--sklearn-color-text-on-default-background);\n",
       "}\n",
       "\n",
       "/* On hover, darken the color of the background */\n",
       "#sk-container-id-3 div.sk-label:hover label.sk-toggleable__label {\n",
       "  color: var(--sklearn-color-text);\n",
       "  background-color: var(--sklearn-color-unfitted-level-2);\n",
       "}\n",
       "\n",
       "/* Label box, darken color on hover, fitted */\n",
       "#sk-container-id-3 div.sk-label.fitted:hover label.sk-toggleable__label.fitted {\n",
       "  color: var(--sklearn-color-text);\n",
       "  background-color: var(--sklearn-color-fitted-level-2);\n",
       "}\n",
       "\n",
       "/* Estimator label */\n",
       "\n",
       "#sk-container-id-3 div.sk-label label {\n",
       "  font-family: monospace;\n",
       "  font-weight: bold;\n",
       "  display: inline-block;\n",
       "  line-height: 1.2em;\n",
       "}\n",
       "\n",
       "#sk-container-id-3 div.sk-label-container {\n",
       "  text-align: center;\n",
       "}\n",
       "\n",
       "/* Estimator-specific */\n",
       "#sk-container-id-3 div.sk-estimator {\n",
       "  font-family: monospace;\n",
       "  border: 1px dotted var(--sklearn-color-border-box);\n",
       "  border-radius: 0.25em;\n",
       "  box-sizing: border-box;\n",
       "  margin-bottom: 0.5em;\n",
       "  /* unfitted */\n",
       "  background-color: var(--sklearn-color-unfitted-level-0);\n",
       "}\n",
       "\n",
       "#sk-container-id-3 div.sk-estimator.fitted {\n",
       "  /* fitted */\n",
       "  background-color: var(--sklearn-color-fitted-level-0);\n",
       "}\n",
       "\n",
       "/* on hover */\n",
       "#sk-container-id-3 div.sk-estimator:hover {\n",
       "  /* unfitted */\n",
       "  background-color: var(--sklearn-color-unfitted-level-2);\n",
       "}\n",
       "\n",
       "#sk-container-id-3 div.sk-estimator.fitted:hover {\n",
       "  /* fitted */\n",
       "  background-color: var(--sklearn-color-fitted-level-2);\n",
       "}\n",
       "\n",
       "/* Specification for estimator info (e.g. \"i\" and \"?\") */\n",
       "\n",
       "/* Common style for \"i\" and \"?\" */\n",
       "\n",
       ".sk-estimator-doc-link,\n",
       "a:link.sk-estimator-doc-link,\n",
       "a:visited.sk-estimator-doc-link {\n",
       "  float: right;\n",
       "  font-size: smaller;\n",
       "  line-height: 1em;\n",
       "  font-family: monospace;\n",
       "  background-color: var(--sklearn-color-background);\n",
       "  border-radius: 1em;\n",
       "  height: 1em;\n",
       "  width: 1em;\n",
       "  text-decoration: none !important;\n",
       "  margin-left: 1ex;\n",
       "  /* unfitted */\n",
       "  border: var(--sklearn-color-unfitted-level-1) 1pt solid;\n",
       "  color: var(--sklearn-color-unfitted-level-1);\n",
       "}\n",
       "\n",
       ".sk-estimator-doc-link.fitted,\n",
       "a:link.sk-estimator-doc-link.fitted,\n",
       "a:visited.sk-estimator-doc-link.fitted {\n",
       "  /* fitted */\n",
       "  border: var(--sklearn-color-fitted-level-1) 1pt solid;\n",
       "  color: var(--sklearn-color-fitted-level-1);\n",
       "}\n",
       "\n",
       "/* On hover */\n",
       "div.sk-estimator:hover .sk-estimator-doc-link:hover,\n",
       ".sk-estimator-doc-link:hover,\n",
       "div.sk-label-container:hover .sk-estimator-doc-link:hover,\n",
       ".sk-estimator-doc-link:hover {\n",
       "  /* unfitted */\n",
       "  background-color: var(--sklearn-color-unfitted-level-3);\n",
       "  color: var(--sklearn-color-background);\n",
       "  text-decoration: none;\n",
       "}\n",
       "\n",
       "div.sk-estimator.fitted:hover .sk-estimator-doc-link.fitted:hover,\n",
       ".sk-estimator-doc-link.fitted:hover,\n",
       "div.sk-label-container:hover .sk-estimator-doc-link.fitted:hover,\n",
       ".sk-estimator-doc-link.fitted:hover {\n",
       "  /* fitted */\n",
       "  background-color: var(--sklearn-color-fitted-level-3);\n",
       "  color: var(--sklearn-color-background);\n",
       "  text-decoration: none;\n",
       "}\n",
       "\n",
       "/* Span, style for the box shown on hovering the info icon */\n",
       ".sk-estimator-doc-link span {\n",
       "  display: none;\n",
       "  z-index: 9999;\n",
       "  position: relative;\n",
       "  font-weight: normal;\n",
       "  right: .2ex;\n",
       "  padding: .5ex;\n",
       "  margin: .5ex;\n",
       "  width: min-content;\n",
       "  min-width: 20ex;\n",
       "  max-width: 50ex;\n",
       "  color: var(--sklearn-color-text);\n",
       "  box-shadow: 2pt 2pt 4pt #999;\n",
       "  /* unfitted */\n",
       "  background: var(--sklearn-color-unfitted-level-0);\n",
       "  border: .5pt solid var(--sklearn-color-unfitted-level-3);\n",
       "}\n",
       "\n",
       ".sk-estimator-doc-link.fitted span {\n",
       "  /* fitted */\n",
       "  background: var(--sklearn-color-fitted-level-0);\n",
       "  border: var(--sklearn-color-fitted-level-3);\n",
       "}\n",
       "\n",
       ".sk-estimator-doc-link:hover span {\n",
       "  display: block;\n",
       "}\n",
       "\n",
       "/* \"?\"-specific style due to the `<a>` HTML tag */\n",
       "\n",
       "#sk-container-id-3 a.estimator_doc_link {\n",
       "  float: right;\n",
       "  font-size: 1rem;\n",
       "  line-height: 1em;\n",
       "  font-family: monospace;\n",
       "  background-color: var(--sklearn-color-background);\n",
       "  border-radius: 1rem;\n",
       "  height: 1rem;\n",
       "  width: 1rem;\n",
       "  text-decoration: none;\n",
       "  /* unfitted */\n",
       "  color: var(--sklearn-color-unfitted-level-1);\n",
       "  border: var(--sklearn-color-unfitted-level-1) 1pt solid;\n",
       "}\n",
       "\n",
       "#sk-container-id-3 a.estimator_doc_link.fitted {\n",
       "  /* fitted */\n",
       "  border: var(--sklearn-color-fitted-level-1) 1pt solid;\n",
       "  color: var(--sklearn-color-fitted-level-1);\n",
       "}\n",
       "\n",
       "/* On hover */\n",
       "#sk-container-id-3 a.estimator_doc_link:hover {\n",
       "  /* unfitted */\n",
       "  background-color: var(--sklearn-color-unfitted-level-3);\n",
       "  color: var(--sklearn-color-background);\n",
       "  text-decoration: none;\n",
       "}\n",
       "\n",
       "#sk-container-id-3 a.estimator_doc_link.fitted:hover {\n",
       "  /* fitted */\n",
       "  background-color: var(--sklearn-color-fitted-level-3);\n",
       "}\n",
       "</style><div id=\"sk-container-id-3\" class=\"sk-top-container\"><div class=\"sk-text-repr-fallback\"><pre>DecisionTreeClassifier()</pre><b>In a Jupyter environment, please rerun this cell to show the HTML representation or trust the notebook. <br />On GitHub, the HTML representation is unable to render, please try loading this page with nbviewer.org.</b></div><div class=\"sk-container\" hidden><div class=\"sk-item\"><div class=\"sk-estimator fitted sk-toggleable\"><input class=\"sk-toggleable__control sk-hidden--visually\" id=\"sk-estimator-id-3\" type=\"checkbox\" checked><label for=\"sk-estimator-id-3\" class=\"sk-toggleable__label fitted sk-toggleable__label-arrow fitted\">&nbsp;&nbsp;DecisionTreeClassifier<a class=\"sk-estimator-doc-link fitted\" rel=\"noreferrer\" target=\"_blank\" href=\"https://scikit-learn.org/1.5/modules/generated/sklearn.tree.DecisionTreeClassifier.html\">?<span>Documentation for DecisionTreeClassifier</span></a><span class=\"sk-estimator-doc-link fitted\">i<span>Fitted</span></span></label><div class=\"sk-toggleable__content fitted\"><pre>DecisionTreeClassifier()</pre></div> </div></div></div></div>"
      ],
      "text/plain": [
       "DecisionTreeClassifier()"
      ]
     },
     "execution_count": 117,
     "metadata": {},
     "output_type": "execute_result"
    }
   ],
   "source": [
    "arbol_decision = DecisionTreeClassifier()\n",
    "arbol_decision.fit(X_train, y_train)"
   ]
  },
  {
   "cell_type": "code",
   "execution_count": 118,
   "id": "111c5353",
   "metadata": {},
   "outputs": [
    {
     "name": "stdout",
     "output_type": "stream",
     "text": [
      "La precisión es  87.6\n"
     ]
    }
   ],
   "source": [
    "precision = arbol_decision.score(X_test, y_test)\n",
    "print('La precisión es ', precision*100)"
   ]
  },
  {
   "cell_type": "markdown",
   "id": "70f9f3c9",
   "metadata": {},
   "source": [
    "### 5. Random forest"
   ]
  },
  {
   "cell_type": "markdown",
   "id": "485cdb48",
   "metadata": {},
   "source": [
    "Genera `n_estimators` árboles de decisión, en los cuales selecciona unos vectores aleatorios para realizar la clasificación. Tras esto, asigna la clase dependiendo del conjunto de todos los árboles."
   ]
  },
  {
   "cell_type": "code",
   "execution_count": 119,
   "id": "6f9c4ec1",
   "metadata": {},
   "outputs": [],
   "source": [
    "from sklearn.datasets import make_classification\n",
    "from sklearn.ensemble import RandomForestClassifier\n",
    "from sklearn.metrics import confusion_matrix"
   ]
  },
  {
   "cell_type": "code",
   "execution_count": 120,
   "id": "6da78acf",
   "metadata": {},
   "outputs": [],
   "source": [
    "X, y = make_classification(n_samples=5000,  n_features=20, random_state=3)"
   ]
  },
  {
   "cell_type": "code",
   "execution_count": 121,
   "id": "69aba077",
   "metadata": {},
   "outputs": [],
   "source": [
    "X_train, X_test, y_train, y_test = train_test_split(X, y, test_size=0.30)"
   ]
  },
  {
   "cell_type": "code",
   "execution_count": 122,
   "id": "9cb3954c",
   "metadata": {},
   "outputs": [
    {
     "data": {
      "text/html": [
       "<style>#sk-container-id-4 {\n",
       "  /* Definition of color scheme common for light and dark mode */\n",
       "  --sklearn-color-text: black;\n",
       "  --sklearn-color-line: gray;\n",
       "  /* Definition of color scheme for unfitted estimators */\n",
       "  --sklearn-color-unfitted-level-0: #fff5e6;\n",
       "  --sklearn-color-unfitted-level-1: #f6e4d2;\n",
       "  --sklearn-color-unfitted-level-2: #ffe0b3;\n",
       "  --sklearn-color-unfitted-level-3: chocolate;\n",
       "  /* Definition of color scheme for fitted estimators */\n",
       "  --sklearn-color-fitted-level-0: #f0f8ff;\n",
       "  --sklearn-color-fitted-level-1: #d4ebff;\n",
       "  --sklearn-color-fitted-level-2: #b3dbfd;\n",
       "  --sklearn-color-fitted-level-3: cornflowerblue;\n",
       "\n",
       "  /* Specific color for light theme */\n",
       "  --sklearn-color-text-on-default-background: var(--sg-text-color, var(--theme-code-foreground, var(--jp-content-font-color1, black)));\n",
       "  --sklearn-color-background: var(--sg-background-color, var(--theme-background, var(--jp-layout-color0, white)));\n",
       "  --sklearn-color-border-box: var(--sg-text-color, var(--theme-code-foreground, var(--jp-content-font-color1, black)));\n",
       "  --sklearn-color-icon: #696969;\n",
       "\n",
       "  @media (prefers-color-scheme: dark) {\n",
       "    /* Redefinition of color scheme for dark theme */\n",
       "    --sklearn-color-text-on-default-background: var(--sg-text-color, var(--theme-code-foreground, var(--jp-content-font-color1, white)));\n",
       "    --sklearn-color-background: var(--sg-background-color, var(--theme-background, var(--jp-layout-color0, #111)));\n",
       "    --sklearn-color-border-box: var(--sg-text-color, var(--theme-code-foreground, var(--jp-content-font-color1, white)));\n",
       "    --sklearn-color-icon: #878787;\n",
       "  }\n",
       "}\n",
       "\n",
       "#sk-container-id-4 {\n",
       "  color: var(--sklearn-color-text);\n",
       "}\n",
       "\n",
       "#sk-container-id-4 pre {\n",
       "  padding: 0;\n",
       "}\n",
       "\n",
       "#sk-container-id-4 input.sk-hidden--visually {\n",
       "  border: 0;\n",
       "  clip: rect(1px 1px 1px 1px);\n",
       "  clip: rect(1px, 1px, 1px, 1px);\n",
       "  height: 1px;\n",
       "  margin: -1px;\n",
       "  overflow: hidden;\n",
       "  padding: 0;\n",
       "  position: absolute;\n",
       "  width: 1px;\n",
       "}\n",
       "\n",
       "#sk-container-id-4 div.sk-dashed-wrapped {\n",
       "  border: 1px dashed var(--sklearn-color-line);\n",
       "  margin: 0 0.4em 0.5em 0.4em;\n",
       "  box-sizing: border-box;\n",
       "  padding-bottom: 0.4em;\n",
       "  background-color: var(--sklearn-color-background);\n",
       "}\n",
       "\n",
       "#sk-container-id-4 div.sk-container {\n",
       "  /* jupyter's `normalize.less` sets `[hidden] { display: none; }`\n",
       "     but bootstrap.min.css set `[hidden] { display: none !important; }`\n",
       "     so we also need the `!important` here to be able to override the\n",
       "     default hidden behavior on the sphinx rendered scikit-learn.org.\n",
       "     See: https://github.com/scikit-learn/scikit-learn/issues/21755 */\n",
       "  display: inline-block !important;\n",
       "  position: relative;\n",
       "}\n",
       "\n",
       "#sk-container-id-4 div.sk-text-repr-fallback {\n",
       "  display: none;\n",
       "}\n",
       "\n",
       "div.sk-parallel-item,\n",
       "div.sk-serial,\n",
       "div.sk-item {\n",
       "  /* draw centered vertical line to link estimators */\n",
       "  background-image: linear-gradient(var(--sklearn-color-text-on-default-background), var(--sklearn-color-text-on-default-background));\n",
       "  background-size: 2px 100%;\n",
       "  background-repeat: no-repeat;\n",
       "  background-position: center center;\n",
       "}\n",
       "\n",
       "/* Parallel-specific style estimator block */\n",
       "\n",
       "#sk-container-id-4 div.sk-parallel-item::after {\n",
       "  content: \"\";\n",
       "  width: 100%;\n",
       "  border-bottom: 2px solid var(--sklearn-color-text-on-default-background);\n",
       "  flex-grow: 1;\n",
       "}\n",
       "\n",
       "#sk-container-id-4 div.sk-parallel {\n",
       "  display: flex;\n",
       "  align-items: stretch;\n",
       "  justify-content: center;\n",
       "  background-color: var(--sklearn-color-background);\n",
       "  position: relative;\n",
       "}\n",
       "\n",
       "#sk-container-id-4 div.sk-parallel-item {\n",
       "  display: flex;\n",
       "  flex-direction: column;\n",
       "}\n",
       "\n",
       "#sk-container-id-4 div.sk-parallel-item:first-child::after {\n",
       "  align-self: flex-end;\n",
       "  width: 50%;\n",
       "}\n",
       "\n",
       "#sk-container-id-4 div.sk-parallel-item:last-child::after {\n",
       "  align-self: flex-start;\n",
       "  width: 50%;\n",
       "}\n",
       "\n",
       "#sk-container-id-4 div.sk-parallel-item:only-child::after {\n",
       "  width: 0;\n",
       "}\n",
       "\n",
       "/* Serial-specific style estimator block */\n",
       "\n",
       "#sk-container-id-4 div.sk-serial {\n",
       "  display: flex;\n",
       "  flex-direction: column;\n",
       "  align-items: center;\n",
       "  background-color: var(--sklearn-color-background);\n",
       "  padding-right: 1em;\n",
       "  padding-left: 1em;\n",
       "}\n",
       "\n",
       "\n",
       "/* Toggleable style: style used for estimator/Pipeline/ColumnTransformer box that is\n",
       "clickable and can be expanded/collapsed.\n",
       "- Pipeline and ColumnTransformer use this feature and define the default style\n",
       "- Estimators will overwrite some part of the style using the `sk-estimator` class\n",
       "*/\n",
       "\n",
       "/* Pipeline and ColumnTransformer style (default) */\n",
       "\n",
       "#sk-container-id-4 div.sk-toggleable {\n",
       "  /* Default theme specific background. It is overwritten whether we have a\n",
       "  specific estimator or a Pipeline/ColumnTransformer */\n",
       "  background-color: var(--sklearn-color-background);\n",
       "}\n",
       "\n",
       "/* Toggleable label */\n",
       "#sk-container-id-4 label.sk-toggleable__label {\n",
       "  cursor: pointer;\n",
       "  display: block;\n",
       "  width: 100%;\n",
       "  margin-bottom: 0;\n",
       "  padding: 0.5em;\n",
       "  box-sizing: border-box;\n",
       "  text-align: center;\n",
       "}\n",
       "\n",
       "#sk-container-id-4 label.sk-toggleable__label-arrow:before {\n",
       "  /* Arrow on the left of the label */\n",
       "  content: \"▸\";\n",
       "  float: left;\n",
       "  margin-right: 0.25em;\n",
       "  color: var(--sklearn-color-icon);\n",
       "}\n",
       "\n",
       "#sk-container-id-4 label.sk-toggleable__label-arrow:hover:before {\n",
       "  color: var(--sklearn-color-text);\n",
       "}\n",
       "\n",
       "/* Toggleable content - dropdown */\n",
       "\n",
       "#sk-container-id-4 div.sk-toggleable__content {\n",
       "  max-height: 0;\n",
       "  max-width: 0;\n",
       "  overflow: hidden;\n",
       "  text-align: left;\n",
       "  /* unfitted */\n",
       "  background-color: var(--sklearn-color-unfitted-level-0);\n",
       "}\n",
       "\n",
       "#sk-container-id-4 div.sk-toggleable__content.fitted {\n",
       "  /* fitted */\n",
       "  background-color: var(--sklearn-color-fitted-level-0);\n",
       "}\n",
       "\n",
       "#sk-container-id-4 div.sk-toggleable__content pre {\n",
       "  margin: 0.2em;\n",
       "  border-radius: 0.25em;\n",
       "  color: var(--sklearn-color-text);\n",
       "  /* unfitted */\n",
       "  background-color: var(--sklearn-color-unfitted-level-0);\n",
       "}\n",
       "\n",
       "#sk-container-id-4 div.sk-toggleable__content.fitted pre {\n",
       "  /* unfitted */\n",
       "  background-color: var(--sklearn-color-fitted-level-0);\n",
       "}\n",
       "\n",
       "#sk-container-id-4 input.sk-toggleable__control:checked~div.sk-toggleable__content {\n",
       "  /* Expand drop-down */\n",
       "  max-height: 200px;\n",
       "  max-width: 100%;\n",
       "  overflow: auto;\n",
       "}\n",
       "\n",
       "#sk-container-id-4 input.sk-toggleable__control:checked~label.sk-toggleable__label-arrow:before {\n",
       "  content: \"▾\";\n",
       "}\n",
       "\n",
       "/* Pipeline/ColumnTransformer-specific style */\n",
       "\n",
       "#sk-container-id-4 div.sk-label input.sk-toggleable__control:checked~label.sk-toggleable__label {\n",
       "  color: var(--sklearn-color-text);\n",
       "  background-color: var(--sklearn-color-unfitted-level-2);\n",
       "}\n",
       "\n",
       "#sk-container-id-4 div.sk-label.fitted input.sk-toggleable__control:checked~label.sk-toggleable__label {\n",
       "  background-color: var(--sklearn-color-fitted-level-2);\n",
       "}\n",
       "\n",
       "/* Estimator-specific style */\n",
       "\n",
       "/* Colorize estimator box */\n",
       "#sk-container-id-4 div.sk-estimator input.sk-toggleable__control:checked~label.sk-toggleable__label {\n",
       "  /* unfitted */\n",
       "  background-color: var(--sklearn-color-unfitted-level-2);\n",
       "}\n",
       "\n",
       "#sk-container-id-4 div.sk-estimator.fitted input.sk-toggleable__control:checked~label.sk-toggleable__label {\n",
       "  /* fitted */\n",
       "  background-color: var(--sklearn-color-fitted-level-2);\n",
       "}\n",
       "\n",
       "#sk-container-id-4 div.sk-label label.sk-toggleable__label,\n",
       "#sk-container-id-4 div.sk-label label {\n",
       "  /* The background is the default theme color */\n",
       "  color: var(--sklearn-color-text-on-default-background);\n",
       "}\n",
       "\n",
       "/* On hover, darken the color of the background */\n",
       "#sk-container-id-4 div.sk-label:hover label.sk-toggleable__label {\n",
       "  color: var(--sklearn-color-text);\n",
       "  background-color: var(--sklearn-color-unfitted-level-2);\n",
       "}\n",
       "\n",
       "/* Label box, darken color on hover, fitted */\n",
       "#sk-container-id-4 div.sk-label.fitted:hover label.sk-toggleable__label.fitted {\n",
       "  color: var(--sklearn-color-text);\n",
       "  background-color: var(--sklearn-color-fitted-level-2);\n",
       "}\n",
       "\n",
       "/* Estimator label */\n",
       "\n",
       "#sk-container-id-4 div.sk-label label {\n",
       "  font-family: monospace;\n",
       "  font-weight: bold;\n",
       "  display: inline-block;\n",
       "  line-height: 1.2em;\n",
       "}\n",
       "\n",
       "#sk-container-id-4 div.sk-label-container {\n",
       "  text-align: center;\n",
       "}\n",
       "\n",
       "/* Estimator-specific */\n",
       "#sk-container-id-4 div.sk-estimator {\n",
       "  font-family: monospace;\n",
       "  border: 1px dotted var(--sklearn-color-border-box);\n",
       "  border-radius: 0.25em;\n",
       "  box-sizing: border-box;\n",
       "  margin-bottom: 0.5em;\n",
       "  /* unfitted */\n",
       "  background-color: var(--sklearn-color-unfitted-level-0);\n",
       "}\n",
       "\n",
       "#sk-container-id-4 div.sk-estimator.fitted {\n",
       "  /* fitted */\n",
       "  background-color: var(--sklearn-color-fitted-level-0);\n",
       "}\n",
       "\n",
       "/* on hover */\n",
       "#sk-container-id-4 div.sk-estimator:hover {\n",
       "  /* unfitted */\n",
       "  background-color: var(--sklearn-color-unfitted-level-2);\n",
       "}\n",
       "\n",
       "#sk-container-id-4 div.sk-estimator.fitted:hover {\n",
       "  /* fitted */\n",
       "  background-color: var(--sklearn-color-fitted-level-2);\n",
       "}\n",
       "\n",
       "/* Specification for estimator info (e.g. \"i\" and \"?\") */\n",
       "\n",
       "/* Common style for \"i\" and \"?\" */\n",
       "\n",
       ".sk-estimator-doc-link,\n",
       "a:link.sk-estimator-doc-link,\n",
       "a:visited.sk-estimator-doc-link {\n",
       "  float: right;\n",
       "  font-size: smaller;\n",
       "  line-height: 1em;\n",
       "  font-family: monospace;\n",
       "  background-color: var(--sklearn-color-background);\n",
       "  border-radius: 1em;\n",
       "  height: 1em;\n",
       "  width: 1em;\n",
       "  text-decoration: none !important;\n",
       "  margin-left: 1ex;\n",
       "  /* unfitted */\n",
       "  border: var(--sklearn-color-unfitted-level-1) 1pt solid;\n",
       "  color: var(--sklearn-color-unfitted-level-1);\n",
       "}\n",
       "\n",
       ".sk-estimator-doc-link.fitted,\n",
       "a:link.sk-estimator-doc-link.fitted,\n",
       "a:visited.sk-estimator-doc-link.fitted {\n",
       "  /* fitted */\n",
       "  border: var(--sklearn-color-fitted-level-1) 1pt solid;\n",
       "  color: var(--sklearn-color-fitted-level-1);\n",
       "}\n",
       "\n",
       "/* On hover */\n",
       "div.sk-estimator:hover .sk-estimator-doc-link:hover,\n",
       ".sk-estimator-doc-link:hover,\n",
       "div.sk-label-container:hover .sk-estimator-doc-link:hover,\n",
       ".sk-estimator-doc-link:hover {\n",
       "  /* unfitted */\n",
       "  background-color: var(--sklearn-color-unfitted-level-3);\n",
       "  color: var(--sklearn-color-background);\n",
       "  text-decoration: none;\n",
       "}\n",
       "\n",
       "div.sk-estimator.fitted:hover .sk-estimator-doc-link.fitted:hover,\n",
       ".sk-estimator-doc-link.fitted:hover,\n",
       "div.sk-label-container:hover .sk-estimator-doc-link.fitted:hover,\n",
       ".sk-estimator-doc-link.fitted:hover {\n",
       "  /* fitted */\n",
       "  background-color: var(--sklearn-color-fitted-level-3);\n",
       "  color: var(--sklearn-color-background);\n",
       "  text-decoration: none;\n",
       "}\n",
       "\n",
       "/* Span, style for the box shown on hovering the info icon */\n",
       ".sk-estimator-doc-link span {\n",
       "  display: none;\n",
       "  z-index: 9999;\n",
       "  position: relative;\n",
       "  font-weight: normal;\n",
       "  right: .2ex;\n",
       "  padding: .5ex;\n",
       "  margin: .5ex;\n",
       "  width: min-content;\n",
       "  min-width: 20ex;\n",
       "  max-width: 50ex;\n",
       "  color: var(--sklearn-color-text);\n",
       "  box-shadow: 2pt 2pt 4pt #999;\n",
       "  /* unfitted */\n",
       "  background: var(--sklearn-color-unfitted-level-0);\n",
       "  border: .5pt solid var(--sklearn-color-unfitted-level-3);\n",
       "}\n",
       "\n",
       ".sk-estimator-doc-link.fitted span {\n",
       "  /* fitted */\n",
       "  background: var(--sklearn-color-fitted-level-0);\n",
       "  border: var(--sklearn-color-fitted-level-3);\n",
       "}\n",
       "\n",
       ".sk-estimator-doc-link:hover span {\n",
       "  display: block;\n",
       "}\n",
       "\n",
       "/* \"?\"-specific style due to the `<a>` HTML tag */\n",
       "\n",
       "#sk-container-id-4 a.estimator_doc_link {\n",
       "  float: right;\n",
       "  font-size: 1rem;\n",
       "  line-height: 1em;\n",
       "  font-family: monospace;\n",
       "  background-color: var(--sklearn-color-background);\n",
       "  border-radius: 1rem;\n",
       "  height: 1rem;\n",
       "  width: 1rem;\n",
       "  text-decoration: none;\n",
       "  /* unfitted */\n",
       "  color: var(--sklearn-color-unfitted-level-1);\n",
       "  border: var(--sklearn-color-unfitted-level-1) 1pt solid;\n",
       "}\n",
       "\n",
       "#sk-container-id-4 a.estimator_doc_link.fitted {\n",
       "  /* fitted */\n",
       "  border: var(--sklearn-color-fitted-level-1) 1pt solid;\n",
       "  color: var(--sklearn-color-fitted-level-1);\n",
       "}\n",
       "\n",
       "/* On hover */\n",
       "#sk-container-id-4 a.estimator_doc_link:hover {\n",
       "  /* unfitted */\n",
       "  background-color: var(--sklearn-color-unfitted-level-3);\n",
       "  color: var(--sklearn-color-background);\n",
       "  text-decoration: none;\n",
       "}\n",
       "\n",
       "#sk-container-id-4 a.estimator_doc_link.fitted:hover {\n",
       "  /* fitted */\n",
       "  background-color: var(--sklearn-color-fitted-level-3);\n",
       "}\n",
       "</style><div id=\"sk-container-id-4\" class=\"sk-top-container\"><div class=\"sk-text-repr-fallback\"><pre>RandomForestClassifier(random_state=42)</pre><b>In a Jupyter environment, please rerun this cell to show the HTML representation or trust the notebook. <br />On GitHub, the HTML representation is unable to render, please try loading this page with nbviewer.org.</b></div><div class=\"sk-container\" hidden><div class=\"sk-item\"><div class=\"sk-estimator fitted sk-toggleable\"><input class=\"sk-toggleable__control sk-hidden--visually\" id=\"sk-estimator-id-4\" type=\"checkbox\" checked><label for=\"sk-estimator-id-4\" class=\"sk-toggleable__label fitted sk-toggleable__label-arrow fitted\">&nbsp;&nbsp;RandomForestClassifier<a class=\"sk-estimator-doc-link fitted\" rel=\"noreferrer\" target=\"_blank\" href=\"https://scikit-learn.org/1.5/modules/generated/sklearn.ensemble.RandomForestClassifier.html\">?<span>Documentation for RandomForestClassifier</span></a><span class=\"sk-estimator-doc-link fitted\">i<span>Fitted</span></span></label><div class=\"sk-toggleable__content fitted\"><pre>RandomForestClassifier(random_state=42)</pre></div> </div></div></div></div>"
      ],
      "text/plain": [
       "RandomForestClassifier(random_state=42)"
      ]
     },
     "execution_count": 122,
     "metadata": {},
     "output_type": "execute_result"
    }
   ],
   "source": [
    "bosques_aleatorio = RandomForestClassifier(random_state=42)\n",
    "bosques_aleatorio.fit(X_train, y_train)"
   ]
  },
  {
   "cell_type": "code",
   "execution_count": 123,
   "id": "7f1a057f",
   "metadata": {},
   "outputs": [
    {
     "name": "stdout",
     "output_type": "stream",
     "text": [
      "La precisión es  97.8\n"
     ]
    }
   ],
   "source": [
    "precision = bosques_aleatorio.score(X_test, y_test)\n",
    "print('La precisión es ', precision*100)"
   ]
  },
  {
   "cell_type": "code",
   "execution_count": 124,
   "id": "7c67d6fc",
   "metadata": {},
   "outputs": [
    {
     "data": {
      "image/png": "[encoded data removed]",
      "text/plain": [
       "<Figure size 400x400 with 2 Axes>"
      ]
     },
     "metadata": {},
     "output_type": "display_data"
    }
   ],
   "source": [
    "y_pred = bosques_aleatorio.predict(X_test)\n",
    "matriz_confusion = confusion_matrix(y_test,y_pred)\n",
    "\n",
    "plt.subplots(figsize = (4,4))\n",
    "sns.heatmap(matriz_confusion, annot = True, fmt =\".0f\")\n",
    "plt.xlabel(\"Predicción\")\n",
    "plt.ylabel(\"Actual\")\n",
    "plt.show()"
   ]
  },
  {
   "cell_type": "markdown",
   "id": "d7126e70",
   "metadata": {},
   "source": [
    "### 6. Detección de valores atípicos."
   ]
  },
  {
   "cell_type": "markdown",
   "id": "5bd8a649",
   "metadata": {},
   "source": [
    "Para ver aquellos datos que son outliers, usamos la función `LocalOutlierFactor()`. El método `.fit_predict()`, nos devuelve un array con dos posibles valores para cada fila, siendo `1` si es un dato normal y `-1` si es outlier. Los aisla dependiendo de la densidad del punto a partir de la variable `n_neighbors`. "
   ]
  },
  {
   "cell_type": "code",
   "execution_count": 125,
   "id": "49a7e4e4",
   "metadata": {},
   "outputs": [],
   "source": [
    "from sklearn.neighbors import LocalOutlierFactor"
   ]
  },
  {
   "cell_type": "code",
   "execution_count": 126,
   "id": "4fc7a20f",
   "metadata": {},
   "outputs": [],
   "source": [
    "df_4_6 = pd.read_csv('datos4.csv', delimiter=\";\")"
   ]
  },
  {
   "cell_type": "code",
   "execution_count": 127,
   "id": "e93477b8",
   "metadata": {},
   "outputs": [],
   "source": [
    "local_outlier_factor = LocalOutlierFactor(n_neighbors=20)\n",
    "local_outlier_factor.fit(df_4_6)\n",
    "\n",
    "df_4_6['local_outlier'] = local_outlier_factor.fit_predict(df_4_6)"
   ]
  },
  {
   "cell_type": "code",
   "execution_count": 128,
   "id": "772d3531",
   "metadata": {},
   "outputs": [
    {
     "name": "stdout",
     "output_type": "stream",
     "text": [
      "local_outlier\n",
      " 1    959\n",
      "-1     41\n",
      "Name: count, dtype: int64\n"
     ]
    },
    {
     "data": {
      "text/plain": [
       "<matplotlib.collections.PathCollection at 0x1d6ff9344a0>"
      ]
     },
     "execution_count": 128,
     "metadata": {},
     "output_type": "execute_result"
    },
    {
     "data": {
      "image/png": "[encoded data removed]",
      "text/plain": [
       "<Figure size 640x480 with 1 Axes>"
      ]
     },
     "metadata": {},
     "output_type": "display_data"
    }
   ],
   "source": [
    "print(df_4_6['local_outlier'].value_counts())\n",
    "plt.scatter(df_4_6['Variable1'], df_4_6['Variable2'], c=df_4_6['local_outlier']) "
   ]
  },
  {
   "cell_type": "markdown",
   "id": "293dc3c8",
   "metadata": {},
   "source": [
    "### Isolation forest."
   ]
  },
  {
   "cell_type": "markdown",
   "id": "1a04aefc",
   "metadata": {},
   "source": [
    "Este algoritmo es útil para detectar outiers en vectores con varias features. Crea múltiples árboles de decisión de forma aleatoria tomando una característica y un valor de división al azar. Si un valor se aisla de forma rápida se le asigna una puntuación baja, por lo que considerará outliers aquellos valores con una baja puntuación."
   ]
  },
  {
   "cell_type": "code",
   "execution_count": 129,
   "id": "13543d62",
   "metadata": {},
   "outputs": [],
   "source": [
    "from sklearn.ensemble import IsolationForest"
   ]
  },
  {
   "cell_type": "code",
   "execution_count": 130,
   "id": "fb2996e5",
   "metadata": {},
   "outputs": [],
   "source": [
    "df_4_7 = pd.read_csv('empleados4_7.csv', delimiter=\";\")"
   ]
  },
  {
   "cell_type": "code",
   "execution_count": 131,
   "id": "706625ec",
   "metadata": {},
   "outputs": [
    {
     "name": "stdout",
     "output_type": "stream",
     "text": [
      "      Nombre       Sexo Estado_Civil  Edad  Experiencia    Salario Gerencia  \\\n",
      "0  Alexandro  Masculino   Soltero(a)    22            3       2423       No   \n",
      "1     Felipa   Femenino   Soltero(a)    26            5       2639       No   \n",
      "2     Daniel  Masculino    Casado(a)    35           10  312200000       No   \n",
      "3       John  Masculino    Casado(a)    35           13       3431       Sí   \n",
      "4    Ruperta   Femenino    Casado(a)    54           18   39620000       No   \n",
      "\n",
      "           Departamento  \n",
      "0            Publicidad  \n",
      "1             Comercial  \n",
      "2             Comercial  \n",
      "3  Servicios al cliente  \n",
      "4              Producto  \n"
     ]
    }
   ],
   "source": [
    "print(df_4_7.head())"
   ]
  },
  {
   "cell_type": "code",
   "execution_count": 132,
   "id": "5e8ca55b",
   "metadata": {},
   "outputs": [
    {
     "data": {
      "text/html": [
       "<style>#sk-container-id-5 {\n",
       "  /* Definition of color scheme common for light and dark mode */\n",
       "  --sklearn-color-text: black;\n",
       "  --sklearn-color-line: gray;\n",
       "  /* Definition of color scheme for unfitted estimators */\n",
       "  --sklearn-color-unfitted-level-0: #fff5e6;\n",
       "  --sklearn-color-unfitted-level-1: #f6e4d2;\n",
       "  --sklearn-color-unfitted-level-2: #ffe0b3;\n",
       "  --sklearn-color-unfitted-level-3: chocolate;\n",
       "  /* Definition of color scheme for fitted estimators */\n",
       "  --sklearn-color-fitted-level-0: #f0f8ff;\n",
       "  --sklearn-color-fitted-level-1: #d4ebff;\n",
       "  --sklearn-color-fitted-level-2: #b3dbfd;\n",
       "  --sklearn-color-fitted-level-3: cornflowerblue;\n",
       "\n",
       "  /* Specific color for light theme */\n",
       "  --sklearn-color-text-on-default-background: var(--sg-text-color, var(--theme-code-foreground, var(--jp-content-font-color1, black)));\n",
       "  --sklearn-color-background: var(--sg-background-color, var(--theme-background, var(--jp-layout-color0, white)));\n",
       "  --sklearn-color-border-box: var(--sg-text-color, var(--theme-code-foreground, var(--jp-content-font-color1, black)));\n",
       "  --sklearn-color-icon: #696969;\n",
       "\n",
       "  @media (prefers-color-scheme: dark) {\n",
       "    /* Redefinition of color scheme for dark theme */\n",
       "    --sklearn-color-text-on-default-background: var(--sg-text-color, var(--theme-code-foreground, var(--jp-content-font-color1, white)));\n",
       "    --sklearn-color-background: var(--sg-background-color, var(--theme-background, var(--jp-layout-color0, #111)));\n",
       "    --sklearn-color-border-box: var(--sg-text-color, var(--theme-code-foreground, var(--jp-content-font-color1, white)));\n",
       "    --sklearn-color-icon: #878787;\n",
       "  }\n",
       "}\n",
       "\n",
       "#sk-container-id-5 {\n",
       "  color: var(--sklearn-color-text);\n",
       "}\n",
       "\n",
       "#sk-container-id-5 pre {\n",
       "  padding: 0;\n",
       "}\n",
       "\n",
       "#sk-container-id-5 input.sk-hidden--visually {\n",
       "  border: 0;\n",
       "  clip: rect(1px 1px 1px 1px);\n",
       "  clip: rect(1px, 1px, 1px, 1px);\n",
       "  height: 1px;\n",
       "  margin: -1px;\n",
       "  overflow: hidden;\n",
       "  padding: 0;\n",
       "  position: absolute;\n",
       "  width: 1px;\n",
       "}\n",
       "\n",
       "#sk-container-id-5 div.sk-dashed-wrapped {\n",
       "  border: 1px dashed var(--sklearn-color-line);\n",
       "  margin: 0 0.4em 0.5em 0.4em;\n",
       "  box-sizing: border-box;\n",
       "  padding-bottom: 0.4em;\n",
       "  background-color: var(--sklearn-color-background);\n",
       "}\n",
       "\n",
       "#sk-container-id-5 div.sk-container {\n",
       "  /* jupyter's `normalize.less` sets `[hidden] { display: none; }`\n",
       "     but bootstrap.min.css set `[hidden] { display: none !important; }`\n",
       "     so we also need the `!important` here to be able to override the\n",
       "     default hidden behavior on the sphinx rendered scikit-learn.org.\n",
       "     See: https://github.com/scikit-learn/scikit-learn/issues/21755 */\n",
       "  display: inline-block !important;\n",
       "  position: relative;\n",
       "}\n",
       "\n",
       "#sk-container-id-5 div.sk-text-repr-fallback {\n",
       "  display: none;\n",
       "}\n",
       "\n",
       "div.sk-parallel-item,\n",
       "div.sk-serial,\n",
       "div.sk-item {\n",
       "  /* draw centered vertical line to link estimators */\n",
       "  background-image: linear-gradient(var(--sklearn-color-text-on-default-background), var(--sklearn-color-text-on-default-background));\n",
       "  background-size: 2px 100%;\n",
       "  background-repeat: no-repeat;\n",
       "  background-position: center center;\n",
       "}\n",
       "\n",
       "/* Parallel-specific style estimator block */\n",
       "\n",
       "#sk-container-id-5 div.sk-parallel-item::after {\n",
       "  content: \"\";\n",
       "  width: 100%;\n",
       "  border-bottom: 2px solid var(--sklearn-color-text-on-default-background);\n",
       "  flex-grow: 1;\n",
       "}\n",
       "\n",
       "#sk-container-id-5 div.sk-parallel {\n",
       "  display: flex;\n",
       "  align-items: stretch;\n",
       "  justify-content: center;\n",
       "  background-color: var(--sklearn-color-background);\n",
       "  position: relative;\n",
       "}\n",
       "\n",
       "#sk-container-id-5 div.sk-parallel-item {\n",
       "  display: flex;\n",
       "  flex-direction: column;\n",
       "}\n",
       "\n",
       "#sk-container-id-5 div.sk-parallel-item:first-child::after {\n",
       "  align-self: flex-end;\n",
       "  width: 50%;\n",
       "}\n",
       "\n",
       "#sk-container-id-5 div.sk-parallel-item:last-child::after {\n",
       "  align-self: flex-start;\n",
       "  width: 50%;\n",
       "}\n",
       "\n",
       "#sk-container-id-5 div.sk-parallel-item:only-child::after {\n",
       "  width: 0;\n",
       "}\n",
       "\n",
       "/* Serial-specific style estimator block */\n",
       "\n",
       "#sk-container-id-5 div.sk-serial {\n",
       "  display: flex;\n",
       "  flex-direction: column;\n",
       "  align-items: center;\n",
       "  background-color: var(--sklearn-color-background);\n",
       "  padding-right: 1em;\n",
       "  padding-left: 1em;\n",
       "}\n",
       "\n",
       "\n",
       "/* Toggleable style: style used for estimator/Pipeline/ColumnTransformer box that is\n",
       "clickable and can be expanded/collapsed.\n",
       "- Pipeline and ColumnTransformer use this feature and define the default style\n",
       "- Estimators will overwrite some part of the style using the `sk-estimator` class\n",
       "*/\n",
       "\n",
       "/* Pipeline and ColumnTransformer style (default) */\n",
       "\n",
       "#sk-container-id-5 div.sk-toggleable {\n",
       "  /* Default theme specific background. It is overwritten whether we have a\n",
       "  specific estimator or a Pipeline/ColumnTransformer */\n",
       "  background-color: var(--sklearn-color-background);\n",
       "}\n",
       "\n",
       "/* Toggleable label */\n",
       "#sk-container-id-5 label.sk-toggleable__label {\n",
       "  cursor: pointer;\n",
       "  display: block;\n",
       "  width: 100%;\n",
       "  margin-bottom: 0;\n",
       "  padding: 0.5em;\n",
       "  box-sizing: border-box;\n",
       "  text-align: center;\n",
       "}\n",
       "\n",
       "#sk-container-id-5 label.sk-toggleable__label-arrow:before {\n",
       "  /* Arrow on the left of the label */\n",
       "  content: \"▸\";\n",
       "  float: left;\n",
       "  margin-right: 0.25em;\n",
       "  color: var(--sklearn-color-icon);\n",
       "}\n",
       "\n",
       "#sk-container-id-5 label.sk-toggleable__label-arrow:hover:before {\n",
       "  color: var(--sklearn-color-text);\n",
       "}\n",
       "\n",
       "/* Toggleable content - dropdown */\n",
       "\n",
       "#sk-container-id-5 div.sk-toggleable__content {\n",
       "  max-height: 0;\n",
       "  max-width: 0;\n",
       "  overflow: hidden;\n",
       "  text-align: left;\n",
       "  /* unfitted */\n",
       "  background-color: var(--sklearn-color-unfitted-level-0);\n",
       "}\n",
       "\n",
       "#sk-container-id-5 div.sk-toggleable__content.fitted {\n",
       "  /* fitted */\n",
       "  background-color: var(--sklearn-color-fitted-level-0);\n",
       "}\n",
       "\n",
       "#sk-container-id-5 div.sk-toggleable__content pre {\n",
       "  margin: 0.2em;\n",
       "  border-radius: 0.25em;\n",
       "  color: var(--sklearn-color-text);\n",
       "  /* unfitted */\n",
       "  background-color: var(--sklearn-color-unfitted-level-0);\n",
       "}\n",
       "\n",
       "#sk-container-id-5 div.sk-toggleable__content.fitted pre {\n",
       "  /* unfitted */\n",
       "  background-color: var(--sklearn-color-fitted-level-0);\n",
       "}\n",
       "\n",
       "#sk-container-id-5 input.sk-toggleable__control:checked~div.sk-toggleable__content {\n",
       "  /* Expand drop-down */\n",
       "  max-height: 200px;\n",
       "  max-width: 100%;\n",
       "  overflow: auto;\n",
       "}\n",
       "\n",
       "#sk-container-id-5 input.sk-toggleable__control:checked~label.sk-toggleable__label-arrow:before {\n",
       "  content: \"▾\";\n",
       "}\n",
       "\n",
       "/* Pipeline/ColumnTransformer-specific style */\n",
       "\n",
       "#sk-container-id-5 div.sk-label input.sk-toggleable__control:checked~label.sk-toggleable__label {\n",
       "  color: var(--sklearn-color-text);\n",
       "  background-color: var(--sklearn-color-unfitted-level-2);\n",
       "}\n",
       "\n",
       "#sk-container-id-5 div.sk-label.fitted input.sk-toggleable__control:checked~label.sk-toggleable__label {\n",
       "  background-color: var(--sklearn-color-fitted-level-2);\n",
       "}\n",
       "\n",
       "/* Estimator-specific style */\n",
       "\n",
       "/* Colorize estimator box */\n",
       "#sk-container-id-5 div.sk-estimator input.sk-toggleable__control:checked~label.sk-toggleable__label {\n",
       "  /* unfitted */\n",
       "  background-color: var(--sklearn-color-unfitted-level-2);\n",
       "}\n",
       "\n",
       "#sk-container-id-5 div.sk-estimator.fitted input.sk-toggleable__control:checked~label.sk-toggleable__label {\n",
       "  /* fitted */\n",
       "  background-color: var(--sklearn-color-fitted-level-2);\n",
       "}\n",
       "\n",
       "#sk-container-id-5 div.sk-label label.sk-toggleable__label,\n",
       "#sk-container-id-5 div.sk-label label {\n",
       "  /* The background is the default theme color */\n",
       "  color: var(--sklearn-color-text-on-default-background);\n",
       "}\n",
       "\n",
       "/* On hover, darken the color of the background */\n",
       "#sk-container-id-5 div.sk-label:hover label.sk-toggleable__label {\n",
       "  color: var(--sklearn-color-text);\n",
       "  background-color: var(--sklearn-color-unfitted-level-2);\n",
       "}\n",
       "\n",
       "/* Label box, darken color on hover, fitted */\n",
       "#sk-container-id-5 div.sk-label.fitted:hover label.sk-toggleable__label.fitted {\n",
       "  color: var(--sklearn-color-text);\n",
       "  background-color: var(--sklearn-color-fitted-level-2);\n",
       "}\n",
       "\n",
       "/* Estimator label */\n",
       "\n",
       "#sk-container-id-5 div.sk-label label {\n",
       "  font-family: monospace;\n",
       "  font-weight: bold;\n",
       "  display: inline-block;\n",
       "  line-height: 1.2em;\n",
       "}\n",
       "\n",
       "#sk-container-id-5 div.sk-label-container {\n",
       "  text-align: center;\n",
       "}\n",
       "\n",
       "/* Estimator-specific */\n",
       "#sk-container-id-5 div.sk-estimator {\n",
       "  font-family: monospace;\n",
       "  border: 1px dotted var(--sklearn-color-border-box);\n",
       "  border-radius: 0.25em;\n",
       "  box-sizing: border-box;\n",
       "  margin-bottom: 0.5em;\n",
       "  /* unfitted */\n",
       "  background-color: var(--sklearn-color-unfitted-level-0);\n",
       "}\n",
       "\n",
       "#sk-container-id-5 div.sk-estimator.fitted {\n",
       "  /* fitted */\n",
       "  background-color: var(--sklearn-color-fitted-level-0);\n",
       "}\n",
       "\n",
       "/* on hover */\n",
       "#sk-container-id-5 div.sk-estimator:hover {\n",
       "  /* unfitted */\n",
       "  background-color: var(--sklearn-color-unfitted-level-2);\n",
       "}\n",
       "\n",
       "#sk-container-id-5 div.sk-estimator.fitted:hover {\n",
       "  /* fitted */\n",
       "  background-color: var(--sklearn-color-fitted-level-2);\n",
       "}\n",
       "\n",
       "/* Specification for estimator info (e.g. \"i\" and \"?\") */\n",
       "\n",
       "/* Common style for \"i\" and \"?\" */\n",
       "\n",
       ".sk-estimator-doc-link,\n",
       "a:link.sk-estimator-doc-link,\n",
       "a:visited.sk-estimator-doc-link {\n",
       "  float: right;\n",
       "  font-size: smaller;\n",
       "  line-height: 1em;\n",
       "  font-family: monospace;\n",
       "  background-color: var(--sklearn-color-background);\n",
       "  border-radius: 1em;\n",
       "  height: 1em;\n",
       "  width: 1em;\n",
       "  text-decoration: none !important;\n",
       "  margin-left: 1ex;\n",
       "  /* unfitted */\n",
       "  border: var(--sklearn-color-unfitted-level-1) 1pt solid;\n",
       "  color: var(--sklearn-color-unfitted-level-1);\n",
       "}\n",
       "\n",
       ".sk-estimator-doc-link.fitted,\n",
       "a:link.sk-estimator-doc-link.fitted,\n",
       "a:visited.sk-estimator-doc-link.fitted {\n",
       "  /* fitted */\n",
       "  border: var(--sklearn-color-fitted-level-1) 1pt solid;\n",
       "  color: var(--sklearn-color-fitted-level-1);\n",
       "}\n",
       "\n",
       "/* On hover */\n",
       "div.sk-estimator:hover .sk-estimator-doc-link:hover,\n",
       ".sk-estimator-doc-link:hover,\n",
       "div.sk-label-container:hover .sk-estimator-doc-link:hover,\n",
       ".sk-estimator-doc-link:hover {\n",
       "  /* unfitted */\n",
       "  background-color: var(--sklearn-color-unfitted-level-3);\n",
       "  color: var(--sklearn-color-background);\n",
       "  text-decoration: none;\n",
       "}\n",
       "\n",
       "div.sk-estimator.fitted:hover .sk-estimator-doc-link.fitted:hover,\n",
       ".sk-estimator-doc-link.fitted:hover,\n",
       "div.sk-label-container:hover .sk-estimator-doc-link.fitted:hover,\n",
       ".sk-estimator-doc-link.fitted:hover {\n",
       "  /* fitted */\n",
       "  background-color: var(--sklearn-color-fitted-level-3);\n",
       "  color: var(--sklearn-color-background);\n",
       "  text-decoration: none;\n",
       "}\n",
       "\n",
       "/* Span, style for the box shown on hovering the info icon */\n",
       ".sk-estimator-doc-link span {\n",
       "  display: none;\n",
       "  z-index: 9999;\n",
       "  position: relative;\n",
       "  font-weight: normal;\n",
       "  right: .2ex;\n",
       "  padding: .5ex;\n",
       "  margin: .5ex;\n",
       "  width: min-content;\n",
       "  min-width: 20ex;\n",
       "  max-width: 50ex;\n",
       "  color: var(--sklearn-color-text);\n",
       "  box-shadow: 2pt 2pt 4pt #999;\n",
       "  /* unfitted */\n",
       "  background: var(--sklearn-color-unfitted-level-0);\n",
       "  border: .5pt solid var(--sklearn-color-unfitted-level-3);\n",
       "}\n",
       "\n",
       ".sk-estimator-doc-link.fitted span {\n",
       "  /* fitted */\n",
       "  background: var(--sklearn-color-fitted-level-0);\n",
       "  border: var(--sklearn-color-fitted-level-3);\n",
       "}\n",
       "\n",
       ".sk-estimator-doc-link:hover span {\n",
       "  display: block;\n",
       "}\n",
       "\n",
       "/* \"?\"-specific style due to the `<a>` HTML tag */\n",
       "\n",
       "#sk-container-id-5 a.estimator_doc_link {\n",
       "  float: right;\n",
       "  font-size: 1rem;\n",
       "  line-height: 1em;\n",
       "  font-family: monospace;\n",
       "  background-color: var(--sklearn-color-background);\n",
       "  border-radius: 1rem;\n",
       "  height: 1rem;\n",
       "  width: 1rem;\n",
       "  text-decoration: none;\n",
       "  /* unfitted */\n",
       "  color: var(--sklearn-color-unfitted-level-1);\n",
       "  border: var(--sklearn-color-unfitted-level-1) 1pt solid;\n",
       "}\n",
       "\n",
       "#sk-container-id-5 a.estimator_doc_link.fitted {\n",
       "  /* fitted */\n",
       "  border: var(--sklearn-color-fitted-level-1) 1pt solid;\n",
       "  color: var(--sklearn-color-fitted-level-1);\n",
       "}\n",
       "\n",
       "/* On hover */\n",
       "#sk-container-id-5 a.estimator_doc_link:hover {\n",
       "  /* unfitted */\n",
       "  background-color: var(--sklearn-color-unfitted-level-3);\n",
       "  color: var(--sklearn-color-background);\n",
       "  text-decoration: none;\n",
       "}\n",
       "\n",
       "#sk-container-id-5 a.estimator_doc_link.fitted:hover {\n",
       "  /* fitted */\n",
       "  background-color: var(--sklearn-color-fitted-level-3);\n",
       "}\n",
       "</style><div id=\"sk-container-id-5\" class=\"sk-top-container\"><div class=\"sk-text-repr-fallback\"><pre>IsolationForest(random_state=42)</pre><b>In a Jupyter environment, please rerun this cell to show the HTML representation or trust the notebook. <br />On GitHub, the HTML representation is unable to render, please try loading this page with nbviewer.org.</b></div><div class=\"sk-container\" hidden><div class=\"sk-item\"><div class=\"sk-estimator fitted sk-toggleable\"><input class=\"sk-toggleable__control sk-hidden--visually\" id=\"sk-estimator-id-5\" type=\"checkbox\" checked><label for=\"sk-estimator-id-5\" class=\"sk-toggleable__label fitted sk-toggleable__label-arrow fitted\">&nbsp;&nbsp;IsolationForest<a class=\"sk-estimator-doc-link fitted\" rel=\"noreferrer\" target=\"_blank\" href=\"https://scikit-learn.org/1.5/modules/generated/sklearn.ensemble.IsolationForest.html\">?<span>Documentation for IsolationForest</span></a><span class=\"sk-estimator-doc-link fitted\">i<span>Fitted</span></span></label><div class=\"sk-toggleable__content fitted\"><pre>IsolationForest(random_state=42)</pre></div> </div></div></div></div>"
      ],
      "text/plain": [
       "IsolationForest(random_state=42)"
      ]
     },
     "execution_count": 132,
     "metadata": {},
     "output_type": "execute_result"
    }
   ],
   "source": [
    "isolation_forest = IsolationForest(random_state=42)\n",
    "isolation_forest.fit(df_4_7[['Salario']])\n"
   ]
  },
  {
   "cell_type": "code",
   "execution_count": 133,
   "id": "35a5fd66",
   "metadata": {},
   "outputs": [],
   "source": [
    "df_4_7['Normal'] = isolation_forest.predict(df_4_7[['Salario']])"
   ]
  },
  {
   "cell_type": "code",
   "execution_count": 134,
   "id": "a2b46fdc",
   "metadata": {},
   "outputs": [
    {
     "name": "stdout",
     "output_type": "stream",
     "text": [
      "         Salario  Normal\n",
      "0           2423       1\n",
      "1           2639       1\n",
      "2      312200000      -1\n",
      "3           3431       1\n",
      "4       39620000      -1\n",
      "..           ...     ...\n",
      "138         2510       1\n",
      "139         2530       1\n",
      "140         2760       1\n",
      "141  36160000000      -1\n",
      "142         3245       1\n",
      "\n",
      "[143 rows x 2 columns]\n"
     ]
    }
   ],
   "source": [
    "print(df_4_7[['Salario', 'Normal']])"
   ]
  },
  {
   "cell_type": "code",
   "execution_count": 135,
   "id": "7497fa81",
   "metadata": {},
   "outputs": [
    {
     "name": "stdout",
     "output_type": "stream",
     "text": [
      "Normal\n",
      " 1    131\n",
      "-1     12\n",
      "Name: count, dtype: int64\n"
     ]
    }
   ],
   "source": [
    "print(df_4_7['Normal'].value_counts())"
   ]
  },
  {
   "cell_type": "markdown",
   "id": "3ab0f997",
   "metadata": {},
   "source": [
    "### 8. Aumento del gradiente."
   ]
  },
  {
   "cell_type": "markdown",
   "id": "9ab17524",
   "metadata": {},
   "source": [
    "Predice los valores mediante la combinación de árboles de decisión simples, mediante varias iteriaciones, donde cada nuevo árbol corrige los errores del anterior minimizando la función pérdida mediante el gradiente descendiente."
   ]
  },
  {
   "cell_type": "code",
   "execution_count": 136,
   "id": "72b0adae",
   "metadata": {},
   "outputs": [],
   "source": [
    "from sklearn.datasets import make_regression\n",
    "from sklearn.ensemble import GradientBoostingRegressor\n",
    "from sklearn.metrics import r2_score"
   ]
  },
  {
   "cell_type": "code",
   "execution_count": 137,
   "id": "96a160c8",
   "metadata": {},
   "outputs": [],
   "source": [
    "X, y = make_regression()"
   ]
  },
  {
   "cell_type": "code",
   "execution_count": 138,
   "id": "3c206e2a",
   "metadata": {},
   "outputs": [],
   "source": [
    "X_train, X_test, y_train, y_test = train_test_split(X, y, test_size=0.20)"
   ]
  },
  {
   "cell_type": "code",
   "execution_count": 139,
   "id": "05f5754f",
   "metadata": {},
   "outputs": [
    {
     "name": "stdout",
     "output_type": "stream",
     "text": [
      "Coeficiente de determinación o R2:  64.29099097700309\n"
     ]
    }
   ],
   "source": [
    "gradient_boosting_regressor = GradientBoostingRegressor()\n",
    "gradient_boosting_regressor.fit(X_train, y_train)\n",
    "\n",
    "pred_y=gradient_boosting_regressor.predict(X_test)\n",
    "print(\"Coeficiente de determinación o R2: \", r2_score(y_test,pred_y)*100)"
   ]
  },
  {
   "cell_type": "markdown",
   "id": "69aba306",
   "metadata": {},
   "source": [
    "### 9. Bayesiano Ingenuo Multinomial"
   ]
  },
  {
   "cell_type": "markdown",
   "id": "76b12733",
   "metadata": {},
   "source": [
    "Dadas varias categorías $C_k$, para una cadena de texto $X$, extrae tokens y la asigna una categoría $C_k$ maximizando la fórmula del Teorema de Bayes:\n",
    "$$P(X|C_k) = \\dfrac{P(X|C_k) \\cdot P(C_k)}{P(X)}"
   ]
  },
  {
   "cell_type": "code",
   "execution_count": 140,
   "id": "090776dc",
   "metadata": {},
   "outputs": [],
   "source": [
    "from sklearn.feature_extraction.text import CountVectorizer\n",
    "from sklearn.naive_bayes import MultinomialNB\n",
    "from sklearn.metrics import accuracy_score, f1_score"
   ]
  },
  {
   "cell_type": "code",
   "execution_count": 141,
   "id": "003d64f1",
   "metadata": {},
   "outputs": [],
   "source": [
    "df_4_9 = pd.read_csv('solicitudes.csv', delimiter=\";\")"
   ]
  },
  {
   "cell_type": "code",
   "execution_count": 142,
   "id": "9244e8e9",
   "metadata": {},
   "outputs": [],
   "source": [
    "X = df_4_9['Asunto']\n",
    "y = df_4_9['Categoría']"
   ]
  },
  {
   "cell_type": "code",
   "execution_count": 143,
   "id": "b2166092",
   "metadata": {},
   "outputs": [],
   "source": [
    "X_train, X_test, y_train, y_test = train_test_split(X, y,test_size=0.2)"
   ]
  },
  {
   "cell_type": "code",
   "execution_count": 144,
   "id": "934f3607",
   "metadata": {},
   "outputs": [],
   "source": [
    "count_vectorizer = CountVectorizer()\n",
    "X_train_dtm = count_vectorizer.fit_transform(X_train)"
   ]
  },
  {
   "cell_type": "code",
   "execution_count": 145,
   "id": "73ea2189",
   "metadata": {},
   "outputs": [],
   "source": [
    "X_test_dtm = count_vectorizer.transform(X_test)"
   ]
  },
  {
   "cell_type": "code",
   "execution_count": 146,
   "id": "1ba836f5",
   "metadata": {},
   "outputs": [
    {
     "data": {
      "text/html": [
       "<style>#sk-container-id-6 {\n",
       "  /* Definition of color scheme common for light and dark mode */\n",
       "  --sklearn-color-text: black;\n",
       "  --sklearn-color-line: gray;\n",
       "  /* Definition of color scheme for unfitted estimators */\n",
       "  --sklearn-color-unfitted-level-0: #fff5e6;\n",
       "  --sklearn-color-unfitted-level-1: #f6e4d2;\n",
       "  --sklearn-color-unfitted-level-2: #ffe0b3;\n",
       "  --sklearn-color-unfitted-level-3: chocolate;\n",
       "  /* Definition of color scheme for fitted estimators */\n",
       "  --sklearn-color-fitted-level-0: #f0f8ff;\n",
       "  --sklearn-color-fitted-level-1: #d4ebff;\n",
       "  --sklearn-color-fitted-level-2: #b3dbfd;\n",
       "  --sklearn-color-fitted-level-3: cornflowerblue;\n",
       "\n",
       "  /* Specific color for light theme */\n",
       "  --sklearn-color-text-on-default-background: var(--sg-text-color, var(--theme-code-foreground, var(--jp-content-font-color1, black)));\n",
       "  --sklearn-color-background: var(--sg-background-color, var(--theme-background, var(--jp-layout-color0, white)));\n",
       "  --sklearn-color-border-box: var(--sg-text-color, var(--theme-code-foreground, var(--jp-content-font-color1, black)));\n",
       "  --sklearn-color-icon: #696969;\n",
       "\n",
       "  @media (prefers-color-scheme: dark) {\n",
       "    /* Redefinition of color scheme for dark theme */\n",
       "    --sklearn-color-text-on-default-background: var(--sg-text-color, var(--theme-code-foreground, var(--jp-content-font-color1, white)));\n",
       "    --sklearn-color-background: var(--sg-background-color, var(--theme-background, var(--jp-layout-color0, #111)));\n",
       "    --sklearn-color-border-box: var(--sg-text-color, var(--theme-code-foreground, var(--jp-content-font-color1, white)));\n",
       "    --sklearn-color-icon: #878787;\n",
       "  }\n",
       "}\n",
       "\n",
       "#sk-container-id-6 {\n",
       "  color: var(--sklearn-color-text);\n",
       "}\n",
       "\n",
       "#sk-container-id-6 pre {\n",
       "  padding: 0;\n",
       "}\n",
       "\n",
       "#sk-container-id-6 input.sk-hidden--visually {\n",
       "  border: 0;\n",
       "  clip: rect(1px 1px 1px 1px);\n",
       "  clip: rect(1px, 1px, 1px, 1px);\n",
       "  height: 1px;\n",
       "  margin: -1px;\n",
       "  overflow: hidden;\n",
       "  padding: 0;\n",
       "  position: absolute;\n",
       "  width: 1px;\n",
       "}\n",
       "\n",
       "#sk-container-id-6 div.sk-dashed-wrapped {\n",
       "  border: 1px dashed var(--sklearn-color-line);\n",
       "  margin: 0 0.4em 0.5em 0.4em;\n",
       "  box-sizing: border-box;\n",
       "  padding-bottom: 0.4em;\n",
       "  background-color: var(--sklearn-color-background);\n",
       "}\n",
       "\n",
       "#sk-container-id-6 div.sk-container {\n",
       "  /* jupyter's `normalize.less` sets `[hidden] { display: none; }`\n",
       "     but bootstrap.min.css set `[hidden] { display: none !important; }`\n",
       "     so we also need the `!important` here to be able to override the\n",
       "     default hidden behavior on the sphinx rendered scikit-learn.org.\n",
       "     See: https://github.com/scikit-learn/scikit-learn/issues/21755 */\n",
       "  display: inline-block !important;\n",
       "  position: relative;\n",
       "}\n",
       "\n",
       "#sk-container-id-6 div.sk-text-repr-fallback {\n",
       "  display: none;\n",
       "}\n",
       "\n",
       "div.sk-parallel-item,\n",
       "div.sk-serial,\n",
       "div.sk-item {\n",
       "  /* draw centered vertical line to link estimators */\n",
       "  background-image: linear-gradient(var(--sklearn-color-text-on-default-background), var(--sklearn-color-text-on-default-background));\n",
       "  background-size: 2px 100%;\n",
       "  background-repeat: no-repeat;\n",
       "  background-position: center center;\n",
       "}\n",
       "\n",
       "/* Parallel-specific style estimator block */\n",
       "\n",
       "#sk-container-id-6 div.sk-parallel-item::after {\n",
       "  content: \"\";\n",
       "  width: 100%;\n",
       "  border-bottom: 2px solid var(--sklearn-color-text-on-default-background);\n",
       "  flex-grow: 1;\n",
       "}\n",
       "\n",
       "#sk-container-id-6 div.sk-parallel {\n",
       "  display: flex;\n",
       "  align-items: stretch;\n",
       "  justify-content: center;\n",
       "  background-color: var(--sklearn-color-background);\n",
       "  position: relative;\n",
       "}\n",
       "\n",
       "#sk-container-id-6 div.sk-parallel-item {\n",
       "  display: flex;\n",
       "  flex-direction: column;\n",
       "}\n",
       "\n",
       "#sk-container-id-6 div.sk-parallel-item:first-child::after {\n",
       "  align-self: flex-end;\n",
       "  width: 50%;\n",
       "}\n",
       "\n",
       "#sk-container-id-6 div.sk-parallel-item:last-child::after {\n",
       "  align-self: flex-start;\n",
       "  width: 50%;\n",
       "}\n",
       "\n",
       "#sk-container-id-6 div.sk-parallel-item:only-child::after {\n",
       "  width: 0;\n",
       "}\n",
       "\n",
       "/* Serial-specific style estimator block */\n",
       "\n",
       "#sk-container-id-6 div.sk-serial {\n",
       "  display: flex;\n",
       "  flex-direction: column;\n",
       "  align-items: center;\n",
       "  background-color: var(--sklearn-color-background);\n",
       "  padding-right: 1em;\n",
       "  padding-left: 1em;\n",
       "}\n",
       "\n",
       "\n",
       "/* Toggleable style: style used for estimator/Pipeline/ColumnTransformer box that is\n",
       "clickable and can be expanded/collapsed.\n",
       "- Pipeline and ColumnTransformer use this feature and define the default style\n",
       "- Estimators will overwrite some part of the style using the `sk-estimator` class\n",
       "*/\n",
       "\n",
       "/* Pipeline and ColumnTransformer style (default) */\n",
       "\n",
       "#sk-container-id-6 div.sk-toggleable {\n",
       "  /* Default theme specific background. It is overwritten whether we have a\n",
       "  specific estimator or a Pipeline/ColumnTransformer */\n",
       "  background-color: var(--sklearn-color-background);\n",
       "}\n",
       "\n",
       "/* Toggleable label */\n",
       "#sk-container-id-6 label.sk-toggleable__label {\n",
       "  cursor: pointer;\n",
       "  display: block;\n",
       "  width: 100%;\n",
       "  margin-bottom: 0;\n",
       "  padding: 0.5em;\n",
       "  box-sizing: border-box;\n",
       "  text-align: center;\n",
       "}\n",
       "\n",
       "#sk-container-id-6 label.sk-toggleable__label-arrow:before {\n",
       "  /* Arrow on the left of the label */\n",
       "  content: \"▸\";\n",
       "  float: left;\n",
       "  margin-right: 0.25em;\n",
       "  color: var(--sklearn-color-icon);\n",
       "}\n",
       "\n",
       "#sk-container-id-6 label.sk-toggleable__label-arrow:hover:before {\n",
       "  color: var(--sklearn-color-text);\n",
       "}\n",
       "\n",
       "/* Toggleable content - dropdown */\n",
       "\n",
       "#sk-container-id-6 div.sk-toggleable__content {\n",
       "  max-height: 0;\n",
       "  max-width: 0;\n",
       "  overflow: hidden;\n",
       "  text-align: left;\n",
       "  /* unfitted */\n",
       "  background-color: var(--sklearn-color-unfitted-level-0);\n",
       "}\n",
       "\n",
       "#sk-container-id-6 div.sk-toggleable__content.fitted {\n",
       "  /* fitted */\n",
       "  background-color: var(--sklearn-color-fitted-level-0);\n",
       "}\n",
       "\n",
       "#sk-container-id-6 div.sk-toggleable__content pre {\n",
       "  margin: 0.2em;\n",
       "  border-radius: 0.25em;\n",
       "  color: var(--sklearn-color-text);\n",
       "  /* unfitted */\n",
       "  background-color: var(--sklearn-color-unfitted-level-0);\n",
       "}\n",
       "\n",
       "#sk-container-id-6 div.sk-toggleable__content.fitted pre {\n",
       "  /* unfitted */\n",
       "  background-color: var(--sklearn-color-fitted-level-0);\n",
       "}\n",
       "\n",
       "#sk-container-id-6 input.sk-toggleable__control:checked~div.sk-toggleable__content {\n",
       "  /* Expand drop-down */\n",
       "  max-height: 200px;\n",
       "  max-width: 100%;\n",
       "  overflow: auto;\n",
       "}\n",
       "\n",
       "#sk-container-id-6 input.sk-toggleable__control:checked~label.sk-toggleable__label-arrow:before {\n",
       "  content: \"▾\";\n",
       "}\n",
       "\n",
       "/* Pipeline/ColumnTransformer-specific style */\n",
       "\n",
       "#sk-container-id-6 div.sk-label input.sk-toggleable__control:checked~label.sk-toggleable__label {\n",
       "  color: var(--sklearn-color-text);\n",
       "  background-color: var(--sklearn-color-unfitted-level-2);\n",
       "}\n",
       "\n",
       "#sk-container-id-6 div.sk-label.fitted input.sk-toggleable__control:checked~label.sk-toggleable__label {\n",
       "  background-color: var(--sklearn-color-fitted-level-2);\n",
       "}\n",
       "\n",
       "/* Estimator-specific style */\n",
       "\n",
       "/* Colorize estimator box */\n",
       "#sk-container-id-6 div.sk-estimator input.sk-toggleable__control:checked~label.sk-toggleable__label {\n",
       "  /* unfitted */\n",
       "  background-color: var(--sklearn-color-unfitted-level-2);\n",
       "}\n",
       "\n",
       "#sk-container-id-6 div.sk-estimator.fitted input.sk-toggleable__control:checked~label.sk-toggleable__label {\n",
       "  /* fitted */\n",
       "  background-color: var(--sklearn-color-fitted-level-2);\n",
       "}\n",
       "\n",
       "#sk-container-id-6 div.sk-label label.sk-toggleable__label,\n",
       "#sk-container-id-6 div.sk-label label {\n",
       "  /* The background is the default theme color */\n",
       "  color: var(--sklearn-color-text-on-default-background);\n",
       "}\n",
       "\n",
       "/* On hover, darken the color of the background */\n",
       "#sk-container-id-6 div.sk-label:hover label.sk-toggleable__label {\n",
       "  color: var(--sklearn-color-text);\n",
       "  background-color: var(--sklearn-color-unfitted-level-2);\n",
       "}\n",
       "\n",
       "/* Label box, darken color on hover, fitted */\n",
       "#sk-container-id-6 div.sk-label.fitted:hover label.sk-toggleable__label.fitted {\n",
       "  color: var(--sklearn-color-text);\n",
       "  background-color: var(--sklearn-color-fitted-level-2);\n",
       "}\n",
       "\n",
       "/* Estimator label */\n",
       "\n",
       "#sk-container-id-6 div.sk-label label {\n",
       "  font-family: monospace;\n",
       "  font-weight: bold;\n",
       "  display: inline-block;\n",
       "  line-height: 1.2em;\n",
       "}\n",
       "\n",
       "#sk-container-id-6 div.sk-label-container {\n",
       "  text-align: center;\n",
       "}\n",
       "\n",
       "/* Estimator-specific */\n",
       "#sk-container-id-6 div.sk-estimator {\n",
       "  font-family: monospace;\n",
       "  border: 1px dotted var(--sklearn-color-border-box);\n",
       "  border-radius: 0.25em;\n",
       "  box-sizing: border-box;\n",
       "  margin-bottom: 0.5em;\n",
       "  /* unfitted */\n",
       "  background-color: var(--sklearn-color-unfitted-level-0);\n",
       "}\n",
       "\n",
       "#sk-container-id-6 div.sk-estimator.fitted {\n",
       "  /* fitted */\n",
       "  background-color: var(--sklearn-color-fitted-level-0);\n",
       "}\n",
       "\n",
       "/* on hover */\n",
       "#sk-container-id-6 div.sk-estimator:hover {\n",
       "  /* unfitted */\n",
       "  background-color: var(--sklearn-color-unfitted-level-2);\n",
       "}\n",
       "\n",
       "#sk-container-id-6 div.sk-estimator.fitted:hover {\n",
       "  /* fitted */\n",
       "  background-color: var(--sklearn-color-fitted-level-2);\n",
       "}\n",
       "\n",
       "/* Specification for estimator info (e.g. \"i\" and \"?\") */\n",
       "\n",
       "/* Common style for \"i\" and \"?\" */\n",
       "\n",
       ".sk-estimator-doc-link,\n",
       "a:link.sk-estimator-doc-link,\n",
       "a:visited.sk-estimator-doc-link {\n",
       "  float: right;\n",
       "  font-size: smaller;\n",
       "  line-height: 1em;\n",
       "  font-family: monospace;\n",
       "  background-color: var(--sklearn-color-background);\n",
       "  border-radius: 1em;\n",
       "  height: 1em;\n",
       "  width: 1em;\n",
       "  text-decoration: none !important;\n",
       "  margin-left: 1ex;\n",
       "  /* unfitted */\n",
       "  border: var(--sklearn-color-unfitted-level-1) 1pt solid;\n",
       "  color: var(--sklearn-color-unfitted-level-1);\n",
       "}\n",
       "\n",
       ".sk-estimator-doc-link.fitted,\n",
       "a:link.sk-estimator-doc-link.fitted,\n",
       "a:visited.sk-estimator-doc-link.fitted {\n",
       "  /* fitted */\n",
       "  border: var(--sklearn-color-fitted-level-1) 1pt solid;\n",
       "  color: var(--sklearn-color-fitted-level-1);\n",
       "}\n",
       "\n",
       "/* On hover */\n",
       "div.sk-estimator:hover .sk-estimator-doc-link:hover,\n",
       ".sk-estimator-doc-link:hover,\n",
       "div.sk-label-container:hover .sk-estimator-doc-link:hover,\n",
       ".sk-estimator-doc-link:hover {\n",
       "  /* unfitted */\n",
       "  background-color: var(--sklearn-color-unfitted-level-3);\n",
       "  color: var(--sklearn-color-background);\n",
       "  text-decoration: none;\n",
       "}\n",
       "\n",
       "div.sk-estimator.fitted:hover .sk-estimator-doc-link.fitted:hover,\n",
       ".sk-estimator-doc-link.fitted:hover,\n",
       "div.sk-label-container:hover .sk-estimator-doc-link.fitted:hover,\n",
       ".sk-estimator-doc-link.fitted:hover {\n",
       "  /* fitted */\n",
       "  background-color: var(--sklearn-color-fitted-level-3);\n",
       "  color: var(--sklearn-color-background);\n",
       "  text-decoration: none;\n",
       "}\n",
       "\n",
       "/* Span, style for the box shown on hovering the info icon */\n",
       ".sk-estimator-doc-link span {\n",
       "  display: none;\n",
       "  z-index: 9999;\n",
       "  position: relative;\n",
       "  font-weight: normal;\n",
       "  right: .2ex;\n",
       "  padding: .5ex;\n",
       "  margin: .5ex;\n",
       "  width: min-content;\n",
       "  min-width: 20ex;\n",
       "  max-width: 50ex;\n",
       "  color: var(--sklearn-color-text);\n",
       "  box-shadow: 2pt 2pt 4pt #999;\n",
       "  /* unfitted */\n",
       "  background: var(--sklearn-color-unfitted-level-0);\n",
       "  border: .5pt solid var(--sklearn-color-unfitted-level-3);\n",
       "}\n",
       "\n",
       ".sk-estimator-doc-link.fitted span {\n",
       "  /* fitted */\n",
       "  background: var(--sklearn-color-fitted-level-0);\n",
       "  border: var(--sklearn-color-fitted-level-3);\n",
       "}\n",
       "\n",
       ".sk-estimator-doc-link:hover span {\n",
       "  display: block;\n",
       "}\n",
       "\n",
       "/* \"?\"-specific style due to the `<a>` HTML tag */\n",
       "\n",
       "#sk-container-id-6 a.estimator_doc_link {\n",
       "  float: right;\n",
       "  font-size: 1rem;\n",
       "  line-height: 1em;\n",
       "  font-family: monospace;\n",
       "  background-color: var(--sklearn-color-background);\n",
       "  border-radius: 1rem;\n",
       "  height: 1rem;\n",
       "  width: 1rem;\n",
       "  text-decoration: none;\n",
       "  /* unfitted */\n",
       "  color: var(--sklearn-color-unfitted-level-1);\n",
       "  border: var(--sklearn-color-unfitted-level-1) 1pt solid;\n",
       "}\n",
       "\n",
       "#sk-container-id-6 a.estimator_doc_link.fitted {\n",
       "  /* fitted */\n",
       "  border: var(--sklearn-color-fitted-level-1) 1pt solid;\n",
       "  color: var(--sklearn-color-fitted-level-1);\n",
       "}\n",
       "\n",
       "/* On hover */\n",
       "#sk-container-id-6 a.estimator_doc_link:hover {\n",
       "  /* unfitted */\n",
       "  background-color: var(--sklearn-color-unfitted-level-3);\n",
       "  color: var(--sklearn-color-background);\n",
       "  text-decoration: none;\n",
       "}\n",
       "\n",
       "#sk-container-id-6 a.estimator_doc_link.fitted:hover {\n",
       "  /* fitted */\n",
       "  background-color: var(--sklearn-color-fitted-level-3);\n",
       "}\n",
       "</style><div id=\"sk-container-id-6\" class=\"sk-top-container\"><div class=\"sk-text-repr-fallback\"><pre>MultinomialNB()</pre><b>In a Jupyter environment, please rerun this cell to show the HTML representation or trust the notebook. <br />On GitHub, the HTML representation is unable to render, please try loading this page with nbviewer.org.</b></div><div class=\"sk-container\" hidden><div class=\"sk-item\"><div class=\"sk-estimator fitted sk-toggleable\"><input class=\"sk-toggleable__control sk-hidden--visually\" id=\"sk-estimator-id-6\" type=\"checkbox\" checked><label for=\"sk-estimator-id-6\" class=\"sk-toggleable__label fitted sk-toggleable__label-arrow fitted\">&nbsp;&nbsp;MultinomialNB<a class=\"sk-estimator-doc-link fitted\" rel=\"noreferrer\" target=\"_blank\" href=\"https://scikit-learn.org/1.5/modules/generated/sklearn.naive_bayes.MultinomialNB.html\">?<span>Documentation for MultinomialNB</span></a><span class=\"sk-estimator-doc-link fitted\">i<span>Fitted</span></span></label><div class=\"sk-toggleable__content fitted\"><pre>MultinomialNB()</pre></div> </div></div></div></div>"
      ],
      "text/plain": [
       "MultinomialNB()"
      ]
     },
     "execution_count": 146,
     "metadata": {},
     "output_type": "execute_result"
    }
   ],
   "source": [
    "multinomia_nb = MultinomialNB()\n",
    "multinomia_nb.fit(X_train_dtm, y_train)"
   ]
  },
  {
   "cell_type": "code",
   "execution_count": 147,
   "id": "b952b2a9",
   "metadata": {},
   "outputs": [],
   "source": [
    "y_pred_class = multinomia_nb.predict(X_test_dtm)"
   ]
  },
  {
   "cell_type": "code",
   "execution_count": 148,
   "id": "ff72cd53",
   "metadata": {},
   "outputs": [
    {
     "name": "stdout",
     "output_type": "stream",
     "text": [
      "La precisión es:  0.6666666666666666\n",
      "F1 Score:  0.625\n"
     ]
    }
   ],
   "source": [
    "print('La precisión es: ', accuracy_score(y_test, y_pred_class))\n",
    "\n",
    "print('F1 Score: ', f1_score(y_test, y_pred_class, average=\"macro\"))"
   ]
  }
 ],
 "metadata": {
  "kernelspec": {
   "display_name": "Python 3",
   "language": "python",
   "name": "python3"
  },
  "language_info": {
   "codemirror_mode": {
    "name": "ipython",
    "version": 3
   },
   "file_extension": ".py",
   "mimetype": "text/x-python",
   "name": "python",
   "nbconvert_exporter": "python",
   "pygments_lexer": "ipython3",
   "version": "3.12.4"
  }
 },
 "nbformat": 4,
 "nbformat_minor": 5
}
